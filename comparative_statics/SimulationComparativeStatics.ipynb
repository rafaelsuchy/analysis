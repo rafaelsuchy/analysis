{
 "cells": [
  {
   "cell_type": "markdown",
   "metadata": {},
   "source": [
    "<div class=\"alert alert-block alert-info\">\n",
    " <h1> Simulation datasets for comparative static analysis </h1></div>"
   ]
  },
  {
   "cell_type": "code",
   "execution_count": 1,
   "metadata": {},
   "outputs": [
    {
     "data": {
      "application/javascript": [
       "\n",
       "            setTimeout(function() {\n",
       "                var nbb_cell_id = 1;\n",
       "                var nbb_unformatted_code = \"import respy as rp\\nimport numpy as np\\nimport pandas as pd\\nimport pickle as pkl\\nimport matplotlib.pyplot as plt\\n\\nfrom dicts_ambiguity_levels import dense_ambiguity_levels\\nfrom dicts_ambiguity_levels import spread_ambiguity_levels\\nfrom simulate_models import get_remove_name\\nfrom simulate_models import simulate_ambiguity_models_kw94\\nfrom simulate_models import simulate_ambiguity_ts_models_kw94\\n\\n%load_ext nb_black\";\n",
       "                var nbb_formatted_code = \"import respy as rp\\nimport numpy as np\\nimport pandas as pd\\nimport pickle as pkl\\nimport matplotlib.pyplot as plt\\n\\nfrom dicts_ambiguity_levels import dense_ambiguity_levels\\nfrom dicts_ambiguity_levels import spread_ambiguity_levels\\nfrom simulate_models import get_remove_name\\nfrom simulate_models import simulate_ambiguity_models_kw94\\nfrom simulate_models import simulate_ambiguity_ts_models_kw94\\n\\n%load_ext nb_black\";\n",
       "                var nbb_cells = Jupyter.notebook.get_cells();\n",
       "                for (var i = 0; i < nbb_cells.length; ++i) {\n",
       "                    if (nbb_cells[i].input_prompt_number == nbb_cell_id) {\n",
       "                        if (nbb_cells[i].get_text() == nbb_unformatted_code) {\n",
       "                             nbb_cells[i].set_text(nbb_formatted_code);\n",
       "                        }\n",
       "                        break;\n",
       "                    }\n",
       "                }\n",
       "            }, 500);\n",
       "            "
      ],
      "text/plain": [
       "<IPython.core.display.Javascript object>"
      ]
     },
     "metadata": {},
     "output_type": "display_data"
    }
   ],
   "source": [
    "import respy as rp\n",
    "\n",
    "from dicts_ambiguity_levels import dense_ambiguity_levels\n",
    "from dicts_ambiguity_levels import spread_ambiguity_levels\n",
    "from simulate_models import simulate_ambiguity_models_kw94\n",
    "from simulate_models import simulate_ambiguity_ts_models_kw94\n",
    "\n",
    "%load_ext nb_black"
   ]
  },
  {
   "cell_type": "markdown",
   "metadata": {},
   "source": [
    "<div class=\"alert alert-block alert-success\"> \n",
    "<u><b>Simulated ambiguity levels</b></u></div>\n",
    "\n",
    "The main goal is to obtain simulated models (decisions) for economic environments with various ambiguity levels. The set of ambiguity levels is provided in the form of dictionaries. In the following we will simulate models for a set of `dense_ambiguity_levels` and a set of `spread_ambiguity_levels`."
   ]
  },
  {
   "cell_type": "code",
   "execution_count": 2,
   "metadata": {},
   "outputs": [
    {
     "data": {
      "text/plain": [
       "{'name': 'dense',\n",
       " '0.000': 0.0,\n",
       " '0.010': 0.01,\n",
       " '0.020': 0.02,\n",
       " '0.100': 0.1,\n",
       " '0.200': 0.2,\n",
       " '0.500': 0.5,\n",
       " '1.000': 1.0,\n",
       " '1.500': 1.5}"
      ]
     },
     "execution_count": 2,
     "metadata": {},
     "output_type": "execute_result"
    },
    {
     "data": {
      "application/javascript": [
       "\n",
       "            setTimeout(function() {\n",
       "                var nbb_cell_id = 2;\n",
       "                var nbb_unformatted_code = \"dense_ambiguity_levels\";\n",
       "                var nbb_formatted_code = \"dense_ambiguity_levels\";\n",
       "                var nbb_cells = Jupyter.notebook.get_cells();\n",
       "                for (var i = 0; i < nbb_cells.length; ++i) {\n",
       "                    if (nbb_cells[i].input_prompt_number == nbb_cell_id) {\n",
       "                        if (nbb_cells[i].get_text() == nbb_unformatted_code) {\n",
       "                             nbb_cells[i].set_text(nbb_formatted_code);\n",
       "                        }\n",
       "                        break;\n",
       "                    }\n",
       "                }\n",
       "            }, 500);\n",
       "            "
      ],
      "text/plain": [
       "<IPython.core.display.Javascript object>"
      ]
     },
     "metadata": {},
     "output_type": "display_data"
    }
   ],
   "source": [
    "dense_ambiguity_levels"
   ]
  },
  {
   "cell_type": "code",
   "execution_count": 3,
   "metadata": {},
   "outputs": [
    {
     "data": {
      "text/plain": [
       "{'name': 'spread',\n",
       " '0.000': 0.0,\n",
       " '1.000': 1.0,\n",
       " '2.000': 2.0,\n",
       " '3.000': 3.0,\n",
       " '4.000': 4.0,\n",
       " '5.000': 5.0}"
      ]
     },
     "execution_count": 3,
     "metadata": {},
     "output_type": "execute_result"
    },
    {
     "data": {
      "application/javascript": [
       "\n",
       "            setTimeout(function() {\n",
       "                var nbb_cell_id = 3;\n",
       "                var nbb_unformatted_code = \"spread_ambiguity_levels\";\n",
       "                var nbb_formatted_code = \"spread_ambiguity_levels\";\n",
       "                var nbb_cells = Jupyter.notebook.get_cells();\n",
       "                for (var i = 0; i < nbb_cells.length; ++i) {\n",
       "                    if (nbb_cells[i].input_prompt_number == nbb_cell_id) {\n",
       "                        if (nbb_cells[i].get_text() == nbb_unformatted_code) {\n",
       "                             nbb_cells[i].set_text(nbb_formatted_code);\n",
       "                        }\n",
       "                        break;\n",
       "                    }\n",
       "                }\n",
       "            }, 500);\n",
       "            "
      ],
      "text/plain": [
       "<IPython.core.display.Javascript object>"
      ]
     },
     "metadata": {},
     "output_type": "display_data"
    }
   ],
   "source": [
    "spread_ambiguity_levels"
   ]
  },
  {
   "cell_type": "markdown",
   "metadata": {},
   "source": [
    "**Setting up a new grid**\n",
    "1. In `dicts_ambiguity_levels.py` create a new dictionary with the desired ambiguity levels as key: value pairs\n",
    "2. The dictionary should contain its own name - functions use the information for labeling purposes"
   ]
  },
  {
   "cell_type": "markdown",
   "metadata": {},
   "source": [
    "<div class=\"alert alert-block alert-success\">  \n",
    "<u><b>Simulate ambiguity models</b></u></div>\n",
    "\n",
    "The function `simulate_ambiguity_models_kw94` simulates for each level of ambiguity contained in `dense_ambiguity_levels` a KW94 model, $\\mathcal{M}(\\theta)$, according to the passed parameters `params_kw94` and options `options_kw94`.\n",
    "\n",
    "The model will be stored in the current directory and contains the name of the passed dictionary (if the name is provided) from `dicts_ambiguity_levels.py`."
   ]
  },
  {
   "cell_type": "code",
   "execution_count": 4,
   "metadata": {},
   "outputs": [
    {
     "data": {
      "application/javascript": [
       "\n",
       "            setTimeout(function() {\n",
       "                var nbb_cell_id = 4;\n",
       "                var nbb_unformatted_code = \"NUM_AGENTS = 1000\\n\\nparams_kw94, options_kw94 = rp.get_example_model(\\\"kw_94_two\\\", with_data=False)\\noptions_kw94[\\\"simulation_agents\\\"] = NUM_AGENTS\";\n",
       "                var nbb_formatted_code = \"NUM_AGENTS = 1000\\n\\nparams_kw94, options_kw94 = rp.get_example_model(\\\"kw_94_two\\\", with_data=False)\\noptions_kw94[\\\"simulation_agents\\\"] = NUM_AGENTS\";\n",
       "                var nbb_cells = Jupyter.notebook.get_cells();\n",
       "                for (var i = 0; i < nbb_cells.length; ++i) {\n",
       "                    if (nbb_cells[i].input_prompt_number == nbb_cell_id) {\n",
       "                        if (nbb_cells[i].get_text() == nbb_unformatted_code) {\n",
       "                             nbb_cells[i].set_text(nbb_formatted_code);\n",
       "                        }\n",
       "                        break;\n",
       "                    }\n",
       "                }\n",
       "            }, 500);\n",
       "            "
      ],
      "text/plain": [
       "<IPython.core.display.Javascript object>"
      ]
     },
     "metadata": {},
     "output_type": "display_data"
    }
   ],
   "source": [
    "NUM_AGENTS = 1000\n",
    "\n",
    "params_kw94, options_kw94 = rp.get_example_model(\"kw_94_two\", with_data=False)\n",
    "options_kw94[\"simulation_agents\"] = NUM_AGENTS"
   ]
  },
  {
   "cell_type": "markdown",
   "metadata": {},
   "source": [
    "In the KW94 models, the return to schooling in the various occupations plays a crucial role. We can check the **return to schooling** parameters for both white-collar and blue-collar occupations in order to get a sense of the general economic environment.\n",
    "\n",
    "Recall, in the KW94 framework the blue-collar occupation is also referred to as occupation a while the white-collar occupation is also referred to as occupation b."
   ]
  },
  {
   "cell_type": "code",
   "execution_count": 5,
   "metadata": {},
   "outputs": [
    {
     "data": {
      "text/plain": [
       "{'blue_collar': 0.04, 'white_collar': 0.08}"
      ]
     },
     "execution_count": 5,
     "metadata": {},
     "output_type": "execute_result"
    },
    {
     "data": {
      "application/javascript": [
       "\n",
       "            setTimeout(function() {\n",
       "                var nbb_cell_id = 5;\n",
       "                var nbb_unformatted_code = \"return_schooling = {\\n    \\\"blue_collar\\\": params_kw94.loc[(\\\"wage_a\\\", \\\"exp_edu\\\"), \\\"value\\\"],\\n    \\\"white_collar\\\": params_kw94.loc[(\\\"wage_b\\\", \\\"exp_edu\\\"), \\\"value\\\"],\\n}\\nreturn_schooling\";\n",
       "                var nbb_formatted_code = \"return_schooling = {\\n    \\\"blue_collar\\\": params_kw94.loc[(\\\"wage_a\\\", \\\"exp_edu\\\"), \\\"value\\\"],\\n    \\\"white_collar\\\": params_kw94.loc[(\\\"wage_b\\\", \\\"exp_edu\\\"), \\\"value\\\"],\\n}\\nreturn_schooling\";\n",
       "                var nbb_cells = Jupyter.notebook.get_cells();\n",
       "                for (var i = 0; i < nbb_cells.length; ++i) {\n",
       "                    if (nbb_cells[i].input_prompt_number == nbb_cell_id) {\n",
       "                        if (nbb_cells[i].get_text() == nbb_unformatted_code) {\n",
       "                             nbb_cells[i].set_text(nbb_formatted_code);\n",
       "                        }\n",
       "                        break;\n",
       "                    }\n",
       "                }\n",
       "            }, 500);\n",
       "            "
      ],
      "text/plain": [
       "<IPython.core.display.Javascript object>"
      ]
     },
     "metadata": {},
     "output_type": "display_data"
    }
   ],
   "source": [
    "return_schooling = {\n",
    "    \"blue_collar\": params_kw94.loc[(\"wage_a\", \"exp_edu\"), \"value\"],\n",
    "    \"white_collar\": params_kw94.loc[(\"wage_b\", \"exp_edu\"), \"value\"],\n",
    "}\n",
    "return_schooling"
   ]
  },
  {
   "cell_type": "markdown",
   "metadata": {},
   "source": [
    "**General steps** to start the simulation:\n",
    "1. Define a dictionary of ambiguity levels for which a model will be simulated, respectively \n",
    "2. Load a model parametrization (pd.DataFrame) and model options (dict)\n",
    "3. Adjust the parameters and options (if necessary)\n",
    "4. Call the function `simulate_ambiguity_models_kw94` and pass the ambiguity dictionary, model parameters, and model options.\n"
   ]
  },
  {
   "cell_type": "code",
   "execution_count": 6,
   "metadata": {},
   "outputs": [
    {
     "name": "stdout",
     "output_type": "stream",
     "text": [
      "Current ambiguity level: 0.0 .\n",
      "Current ambiguity level: 0.01 .\n",
      "Current ambiguity level: 0.02 .\n",
      "Current ambiguity level: 0.1 .\n",
      "Current ambiguity level: 0.2 .\n",
      "Current ambiguity level: 0.5 .\n",
      "Current ambiguity level: 1.0 .\n",
      "Current ambiguity level: 1.5 .\n"
     ]
    },
    {
     "data": {
      "application/javascript": [
       "\n",
       "            setTimeout(function() {\n",
       "                var nbb_cell_id = 6;\n",
       "                var nbb_unformatted_code = \"simulate_ambiguity_models_kw94(dense_ambiguity_levels, params_kw94, options_kw94)\";\n",
       "                var nbb_formatted_code = \"simulate_ambiguity_models_kw94(dense_ambiguity_levels, params_kw94, options_kw94)\";\n",
       "                var nbb_cells = Jupyter.notebook.get_cells();\n",
       "                for (var i = 0; i < nbb_cells.length; ++i) {\n",
       "                    if (nbb_cells[i].input_prompt_number == nbb_cell_id) {\n",
       "                        if (nbb_cells[i].get_text() == nbb_unformatted_code) {\n",
       "                             nbb_cells[i].set_text(nbb_formatted_code);\n",
       "                        }\n",
       "                        break;\n",
       "                    }\n",
       "                }\n",
       "            }, 500);\n",
       "            "
      ],
      "text/plain": [
       "<IPython.core.display.Javascript object>"
      ]
     },
     "metadata": {},
     "output_type": "display_data"
    }
   ],
   "source": [
    "simulate_ambiguity_models_kw94(\n",
    "    dense_ambiguity_levels, params_kw94, options_kw94\n",
    ")"
   ]
  },
  {
   "cell_type": "code",
   "execution_count": 7,
   "metadata": {},
   "outputs": [
    {
     "name": "stdout",
     "output_type": "stream",
     "text": [
      "Current ambiguity level: 0.0 .\n",
      "Current ambiguity level: 1.0 .\n",
      "Current ambiguity level: 2.0 .\n",
      "Current ambiguity level: 3.0 .\n",
      "Current ambiguity level: 4.0 .\n",
      "Current ambiguity level: 5.0 .\n"
     ]
    },
    {
     "data": {
      "application/javascript": [
       "\n",
       "            setTimeout(function() {\n",
       "                var nbb_cell_id = 7;\n",
       "                var nbb_unformatted_code = \"simulate_ambiguity_models_kw94(spread_ambiguity_levels, params_kw94, options_kw94)\";\n",
       "                var nbb_formatted_code = \"simulate_ambiguity_models_kw94(spread_ambiguity_levels, params_kw94, options_kw94)\";\n",
       "                var nbb_cells = Jupyter.notebook.get_cells();\n",
       "                for (var i = 0; i < nbb_cells.length; ++i) {\n",
       "                    if (nbb_cells[i].input_prompt_number == nbb_cell_id) {\n",
       "                        if (nbb_cells[i].get_text() == nbb_unformatted_code) {\n",
       "                             nbb_cells[i].set_text(nbb_formatted_code);\n",
       "                        }\n",
       "                        break;\n",
       "                    }\n",
       "                }\n",
       "            }, 500);\n",
       "            "
      ],
      "text/plain": [
       "<IPython.core.display.Javascript object>"
      ]
     },
     "metadata": {},
     "output_type": "display_data"
    }
   ],
   "source": [
    "simulate_ambiguity_models_kw94(\n",
    "    spread_ambiguity_levels, params_kw94, options_kw94\n",
    ")"
   ]
  },
  {
   "cell_type": "markdown",
   "metadata": {},
   "source": [
    "<div class=\"alert alert-block alert-success\">  \n",
    "<u><b>Simulate ambiguity and tuition subsidy models</b></u></div>\n",
    "\n",
    "In the following we will simulate a model with different ambiguity levels *and* various level of tuition subsidies. \n",
    "1. Load the desired parameterization and options\n",
    "2. Define a list with tuition subsidies that should be simulated"
   ]
  },
  {
   "cell_type": "code",
   "execution_count": 8,
   "metadata": {},
   "outputs": [
    {
     "data": {
      "application/javascript": [
       "\n",
       "            setTimeout(function() {\n",
       "                var nbb_cell_id = 8;\n",
       "                var nbb_unformatted_code = \"NUM_AGENTS = 1000\\nTUITION_SUBSIDIES = [0, 1000]\\n\\nparams_kw94, options_kw94 = rp.get_example_model(\\\"kw_94_two\\\", with_data=False)\\noptions_kw94[\\\"simulation_agents\\\"] = NUM_AGENTS\";\n",
       "                var nbb_formatted_code = \"NUM_AGENTS = 1000\\nTUITION_SUBSIDIES = [0, 1000]\\n\\nparams_kw94, options_kw94 = rp.get_example_model(\\\"kw_94_two\\\", with_data=False)\\noptions_kw94[\\\"simulation_agents\\\"] = NUM_AGENTS\";\n",
       "                var nbb_cells = Jupyter.notebook.get_cells();\n",
       "                for (var i = 0; i < nbb_cells.length; ++i) {\n",
       "                    if (nbb_cells[i].input_prompt_number == nbb_cell_id) {\n",
       "                        if (nbb_cells[i].get_text() == nbb_unformatted_code) {\n",
       "                             nbb_cells[i].set_text(nbb_formatted_code);\n",
       "                        }\n",
       "                        break;\n",
       "                    }\n",
       "                }\n",
       "            }, 500);\n",
       "            "
      ],
      "text/plain": [
       "<IPython.core.display.Javascript object>"
      ]
     },
     "metadata": {},
     "output_type": "display_data"
    }
   ],
   "source": [
    "NUM_AGENTS = 1000\n",
    "TUITION_SUBSIDIES = [0, 1000]\n",
    "\n",
    "params_kw94, options_kw94 = rp.get_example_model(\"kw_94_two\", with_data=False)\n",
    "options_kw94[\"simulation_agents\"] = NUM_AGENTS"
   ]
  },
  {
   "cell_type": "code",
   "execution_count": 9,
   "metadata": {},
   "outputs": [
    {
     "name": "stdout",
     "output_type": "stream",
     "text": [
      "Current ambiguity level: 0.0 and current tuition subsidy: 0 .\n",
      "Current ambiguity level: 0.0 and current tuition subsidy: 1000 .\n",
      "Current ambiguity level: 0.01 and current tuition subsidy: 0 .\n",
      "Current ambiguity level: 0.01 and current tuition subsidy: 1000 .\n",
      "Current ambiguity level: 0.02 and current tuition subsidy: 0 .\n",
      "Current ambiguity level: 0.02 and current tuition subsidy: 1000 .\n",
      "Current ambiguity level: 0.1 and current tuition subsidy: 0 .\n",
      "Current ambiguity level: 0.1 and current tuition subsidy: 1000 .\n",
      "Current ambiguity level: 0.2 and current tuition subsidy: 0 .\n",
      "Current ambiguity level: 0.2 and current tuition subsidy: 1000 .\n",
      "Current ambiguity level: 0.5 and current tuition subsidy: 0 .\n",
      "Current ambiguity level: 0.5 and current tuition subsidy: 1000 .\n",
      "Current ambiguity level: 1.0 and current tuition subsidy: 0 .\n",
      "Current ambiguity level: 1.0 and current tuition subsidy: 1000 .\n",
      "Current ambiguity level: 1.5 and current tuition subsidy: 0 .\n",
      "Current ambiguity level: 1.5 and current tuition subsidy: 1000 .\n"
     ]
    },
    {
     "data": {
      "application/javascript": [
       "\n",
       "            setTimeout(function() {\n",
       "                var nbb_cell_id = 9;\n",
       "                var nbb_unformatted_code = \"simulate_ambiguity_ts_models_kw94(\\n    dense_ambiguity_levels, TUITION_SUBSIDIES, params_kw94, options_kw94\\n)\";\n",
       "                var nbb_formatted_code = \"simulate_ambiguity_ts_models_kw94(\\n    dense_ambiguity_levels, TUITION_SUBSIDIES, params_kw94, options_kw94\\n)\";\n",
       "                var nbb_cells = Jupyter.notebook.get_cells();\n",
       "                for (var i = 0; i < nbb_cells.length; ++i) {\n",
       "                    if (nbb_cells[i].input_prompt_number == nbb_cell_id) {\n",
       "                        if (nbb_cells[i].get_text() == nbb_unformatted_code) {\n",
       "                             nbb_cells[i].set_text(nbb_formatted_code);\n",
       "                        }\n",
       "                        break;\n",
       "                    }\n",
       "                }\n",
       "            }, 500);\n",
       "            "
      ],
      "text/plain": [
       "<IPython.core.display.Javascript object>"
      ]
     },
     "metadata": {},
     "output_type": "display_data"
    }
   ],
   "source": [
    "simulate_ambiguity_ts_models_kw94(\n",
    "    dense_ambiguity_levels, TUITION_SUBSIDIES, params_kw94, options_kw94\n",
    ")"
   ]
  },
  {
   "cell_type": "code",
   "execution_count": 10,
   "metadata": {},
   "outputs": [
    {
     "name": "stdout",
     "output_type": "stream",
     "text": [
      "Current ambiguity level: 0.0 and current tuition subsidy: 0 .\n",
      "Current ambiguity level: 0.0 and current tuition subsidy: 1000 .\n",
      "Current ambiguity level: 1.0 and current tuition subsidy: 0 .\n",
      "Current ambiguity level: 1.0 and current tuition subsidy: 1000 .\n",
      "Current ambiguity level: 2.0 and current tuition subsidy: 0 .\n",
      "Current ambiguity level: 2.0 and current tuition subsidy: 1000 .\n",
      "Current ambiguity level: 3.0 and current tuition subsidy: 0 .\n",
      "Current ambiguity level: 3.0 and current tuition subsidy: 1000 .\n",
      "Current ambiguity level: 4.0 and current tuition subsidy: 0 .\n",
      "Current ambiguity level: 4.0 and current tuition subsidy: 1000 .\n",
      "Current ambiguity level: 5.0 and current tuition subsidy: 0 .\n",
      "Current ambiguity level: 5.0 and current tuition subsidy: 1000 .\n"
     ]
    },
    {
     "data": {
      "application/javascript": [
       "\n",
       "            setTimeout(function() {\n",
       "                var nbb_cell_id = 10;\n",
       "                var nbb_unformatted_code = \"simulate_ambiguity_ts_models_kw94(\\n    spread_ambiguity_levels, TUITION_SUBSIDIES, params_kw94, options_kw94\\n)\";\n",
       "                var nbb_formatted_code = \"simulate_ambiguity_ts_models_kw94(\\n    spread_ambiguity_levels, TUITION_SUBSIDIES, params_kw94, options_kw94\\n)\";\n",
       "                var nbb_cells = Jupyter.notebook.get_cells();\n",
       "                for (var i = 0; i < nbb_cells.length; ++i) {\n",
       "                    if (nbb_cells[i].input_prompt_number == nbb_cell_id) {\n",
       "                        if (nbb_cells[i].get_text() == nbb_unformatted_code) {\n",
       "                             nbb_cells[i].set_text(nbb_formatted_code);\n",
       "                        }\n",
       "                        break;\n",
       "                    }\n",
       "                }\n",
       "            }, 500);\n",
       "            "
      ],
      "text/plain": [
       "<IPython.core.display.Javascript object>"
      ]
     },
     "metadata": {},
     "output_type": "display_data"
    }
   ],
   "source": [
    "simulate_ambiguity_ts_models_kw94(\n",
    "    spread_ambiguity_levels, TUITION_SUBSIDIES, params_kw94, options_kw94\n",
    ")"
   ]
  },
  {
   "cell_type": "markdown",
   "metadata": {},
   "source": [
    "<div class=\"alert alert-block alert-warning\">  \n",
    "<u><b>Terminology</b></u></div>\n",
    "\n",
    "- `dict_ambiguity_levels`   \n",
    "dictionary that contains a name (first entry) along with specified ambiguity levels\n",
    "- `simulated_ambiguity_model`   \n",
    "pd.DataFrame with the simulated decisions of the agents given by the model $\\mathcal{M}(\\theta)$\n",
    "- `dict_simulated_ambiguity_models`   \n",
    "dictionary that contains a `simulated_ambiguity_model` for each ambiguity level specified in `dict_ambiguity_levels`  \n",
    "- `df_params`  \n",
    "pd.DataFrame that contains the desired parametrization of the model $\\mathcal{M}(\\theta)$\n",
    "- `dict_options`  \n",
    "dictionary that contains the options for the simulation of the model"
   ]
  }
 ],
 "metadata": {
  "kernelspec": {
   "display_name": "Python 3",
   "language": "python",
   "name": "python3"
  },
  "language_info": {
   "codemirror_mode": {
    "name": "ipython",
    "version": 3
   },
   "file_extension": ".py",
   "mimetype": "text/x-python",
   "name": "python",
   "nbconvert_exporter": "python",
   "pygments_lexer": "ipython3",
   "version": "3.7.6"
  }
 },
 "nbformat": 4,
 "nbformat_minor": 4
}

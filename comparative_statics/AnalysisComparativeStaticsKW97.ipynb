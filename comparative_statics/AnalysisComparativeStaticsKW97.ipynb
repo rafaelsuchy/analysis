{
 "cells": [
  {
   "cell_type": "markdown",
   "metadata": {},
   "source": [
    "<div class=\"alert alert-block alert-info\">\n",
    "<h1> Comparative statics analysis </h1></div>"
   ]
  },
  {
   "cell_type": "code",
   "execution_count": 2,
   "metadata": {},
   "outputs": [
    {
     "name": "stdout",
     "output_type": "stream",
     "text": [
      "The nb_black extension is already loaded. To reload it, use:\n",
      "  %reload_ext nb_black\n"
     ]
    },
    {
     "data": {
      "application/javascript": [
       "\n",
       "            setTimeout(function() {\n",
       "                var nbb_cell_id = 2;\n",
       "                var nbb_unformatted_code = \"import pickle as pkl\\n\\nfrom dicts_ambiguity_levels import vdense_ambiguity_levels\\nfrom dicts_ambiguity_levels import spread_ambiguity_levels\\nfrom analysis_comparative_statics import effect_ambiguity_experiences_kw97\\nfrom analysis_comparative_statics import plot_effect_ambiguity_choiceshare_kw97\\nfrom analysis_comparative_statics import eu_loss_ambiguity\\nfrom analysis_comparative_statics import effect_ambiguity_ts_experiences_kw97\\n\\n%load_ext nb_black\";\n",
       "                var nbb_formatted_code = \"import pickle as pkl\\n\\nfrom dicts_ambiguity_levels import vdense_ambiguity_levels\\nfrom dicts_ambiguity_levels import spread_ambiguity_levels\\nfrom analysis_comparative_statics import effect_ambiguity_experiences_kw97\\nfrom analysis_comparative_statics import plot_effect_ambiguity_choiceshare_kw97\\nfrom analysis_comparative_statics import eu_loss_ambiguity\\nfrom analysis_comparative_statics import effect_ambiguity_ts_experiences_kw97\\n\\n%load_ext nb_black\";\n",
       "                var nbb_cells = Jupyter.notebook.get_cells();\n",
       "                for (var i = 0; i < nbb_cells.length; ++i) {\n",
       "                    if (nbb_cells[i].input_prompt_number == nbb_cell_id) {\n",
       "                        if (nbb_cells[i].get_text() == nbb_unformatted_code) {\n",
       "                             nbb_cells[i].set_text(nbb_formatted_code);\n",
       "                        }\n",
       "                        break;\n",
       "                    }\n",
       "                }\n",
       "            }, 500);\n",
       "            "
      ],
      "text/plain": [
       "<IPython.core.display.Javascript object>"
      ]
     },
     "metadata": {},
     "output_type": "display_data"
    }
   ],
   "source": [
    "import pickle as pkl\n",
    "\n",
    "from dicts_ambiguity_levels import vdense_ambiguity_levels\n",
    "from dicts_ambiguity_levels import spread_ambiguity_levels\n",
    "from analysis_comparative_statics import effect_ambiguity_experiences_kw97\n",
    "from analysis_comparative_statics import plot_effect_ambiguity_choiceshare_kw97\n",
    "from analysis_comparative_statics import eu_loss_ambiguity\n",
    "from analysis_comparative_statics import effect_ambiguity_ts_experiences_kw97\n",
    "\n",
    "%load_ext nb_black"
   ]
  },
  {
   "cell_type": "markdown",
   "metadata": {},
   "source": [
    "<div class=\"alert alert-block alert-success\"> \n",
    "<u><b>Get simulated models</b></u></div>"
   ]
  },
  {
   "cell_type": "markdown",
   "metadata": {},
   "source": [
    "The **comparative statics analysis** is based on simulated models for different levels of ambiguity $\\eta$. The quantities of interest are changes in experience within the different occupation.\n",
    "\n",
    "We load the simulated models for both ambiguity grids. Additionally, we initialize the initial years of schooling and the number of periods in the KW97 framework."
   ]
  },
  {
   "cell_type": "code",
   "execution_count": 3,
   "metadata": {},
   "outputs": [
    {
     "name": "stdout",
     "output_type": "stream",
     "text": [
      "Simulated ambiguity levels: \n",
      " ['vdense', 0.0, 0.01, 0.02, 0.1, 0.2, 0.3, 0.4, 0.5, 0.6, 0.7, 0.8, 0.9, 1.0] \n",
      " ['spread', 0.0, 1.0, 2.0, 3.0, 4.0, 5.0] .\n"
     ]
    },
    {
     "data": {
      "application/javascript": [
       "\n",
       "            setTimeout(function() {\n",
       "                var nbb_cell_id = 3;\n",
       "                var nbb_unformatted_code = \"print(\\n    \\\"Simulated ambiguity levels: \\\\n\\\",\\n    list(vdense_ambiguity_levels.values()),\\n    \\\"\\\\n\\\",\\n    list(spread_ambiguity_levels.values()),\\n    \\\".\\\",\\n)\";\n",
       "                var nbb_formatted_code = \"print(\\n    \\\"Simulated ambiguity levels: \\\\n\\\",\\n    list(vdense_ambiguity_levels.values()),\\n    \\\"\\\\n\\\",\\n    list(spread_ambiguity_levels.values()),\\n    \\\".\\\",\\n)\";\n",
       "                var nbb_cells = Jupyter.notebook.get_cells();\n",
       "                for (var i = 0; i < nbb_cells.length; ++i) {\n",
       "                    if (nbb_cells[i].input_prompt_number == nbb_cell_id) {\n",
       "                        if (nbb_cells[i].get_text() == nbb_unformatted_code) {\n",
       "                             nbb_cells[i].set_text(nbb_formatted_code);\n",
       "                        }\n",
       "                        break;\n",
       "                    }\n",
       "                }\n",
       "            }, 500);\n",
       "            "
      ],
      "text/plain": [
       "<IPython.core.display.Javascript object>"
      ]
     },
     "metadata": {},
     "output_type": "display_data"
    }
   ],
   "source": [
    "print(\n",
    "    \"Simulated ambiguity levels: \\n\",\n",
    "    list(vdense_ambiguity_levels.values()),\n",
    "    \"\\n\",\n",
    "    list(spread_ambiguity_levels.values()),\n",
    "    \".\",\n",
    ")"
   ]
  },
  {
   "cell_type": "code",
   "execution_count": 4,
   "metadata": {},
   "outputs": [
    {
     "data": {
      "application/javascript": [
       "\n",
       "            setTimeout(function() {\n",
       "                var nbb_cell_id = 4;\n",
       "                var nbb_unformatted_code = \"simulated_vdense_ambiguity_models_kw97 = pkl.load(\\n    open(\\\"sim_vdense_ambiguity_models_kw97.pkl\\\", \\\"rb\\\")\\n)\\nsimulated_spread_ambiguity_models_kw97 = pkl.load(\\n    open(\\\"sim_spread_ambiguity_models_kw97.pkl\\\", \\\"rb\\\")\\n)\\n\\ninitial_years_schooling_kw97 = 10\\nn_periods_kw97 = 50\";\n",
       "                var nbb_formatted_code = \"simulated_vdense_ambiguity_models_kw97 = pkl.load(\\n    open(\\\"sim_vdense_ambiguity_models_kw97.pkl\\\", \\\"rb\\\")\\n)\\nsimulated_spread_ambiguity_models_kw97 = pkl.load(\\n    open(\\\"sim_spread_ambiguity_models_kw97.pkl\\\", \\\"rb\\\")\\n)\\n\\ninitial_years_schooling_kw97 = 10\\nn_periods_kw97 = 50\";\n",
       "                var nbb_cells = Jupyter.notebook.get_cells();\n",
       "                for (var i = 0; i < nbb_cells.length; ++i) {\n",
       "                    if (nbb_cells[i].input_prompt_number == nbb_cell_id) {\n",
       "                        if (nbb_cells[i].get_text() == nbb_unformatted_code) {\n",
       "                             nbb_cells[i].set_text(nbb_formatted_code);\n",
       "                        }\n",
       "                        break;\n",
       "                    }\n",
       "                }\n",
       "            }, 500);\n",
       "            "
      ],
      "text/plain": [
       "<IPython.core.display.Javascript object>"
      ]
     },
     "metadata": {},
     "output_type": "display_data"
    }
   ],
   "source": [
    "simulated_vdense_ambiguity_models_kw97 = pkl.load(\n",
    "    open(\"sim_vdense_ambiguity_models_kw97.pkl\", \"rb\")\n",
    ")\n",
    "simulated_spread_ambiguity_models_kw97 = pkl.load(\n",
    "    open(\"sim_spread_ambiguity_models_kw97.pkl\", \"rb\")\n",
    ")\n",
    "\n",
    "initial_years_schooling_kw97 = 10\n",
    "n_periods_kw97 = 50"
   ]
  },
  {
   "cell_type": "markdown",
   "metadata": {},
   "source": [
    "<div class=\"alert alert-block alert-success\"> \n",
    "<u><b>Effect ambiguity on average experience</b></u></div>\n",
    "\n",
    "We investigate the change of average experience obtained in a blue-collar or white-collar occupation, military, school, or at home with respect to an increase in ambiguity.\n",
    "\n",
    "<u><b>low ambiguity levels</b></u>\n",
    "\n",
    "Years of completed schooling increase with the level of ambiguity. The relative increase of schooling\n",
    "\n",
    "$$ \\dfrac{ \\text{yos}_{\\eta = a} - \\text{yos}_{\\eta = 0} }{a}$$\n",
    "is largest between a risk-only model and a model where ambiguity is introduced. The largest increase in years of completed schooling takes place in the range $\\eta = 0.1$ to $\\eta = 0.5$ (in terms of percentage point increase). \n",
    "\n",
    "\n",
    "<u><b>high ambiguity levels</b></u>\n",
    "\n",
    "For high ambiguity levels the relation between increase in ambiguity and years of completed schooling weakens considerably. While the step size between ambiguity levels is large, years of completed schooling increase only by a small amount - in most cases less than for a 1/10 ambiguity step in the low-ambiguity range. The only considerable step is from $\\eta = 1$ to $\\eta = 2$."
   ]
  },
  {
   "cell_type": "code",
   "execution_count": 6,
   "metadata": {},
   "outputs": [
    {
     "data": {
      "text/html": [
       "<div>\n",
       "<style scoped>\n",
       "    .dataframe tbody tr th:only-of-type {\n",
       "        vertical-align: middle;\n",
       "    }\n",
       "\n",
       "    .dataframe tbody tr th {\n",
       "        vertical-align: top;\n",
       "    }\n",
       "\n",
       "    .dataframe thead th {\n",
       "        text-align: right;\n",
       "    }\n",
       "</style>\n",
       "<table border=\"1\" class=\"dataframe\">\n",
       "  <thead>\n",
       "    <tr style=\"text-align: right;\">\n",
       "      <th></th>\n",
       "      <th>Blue</th>\n",
       "      <th>White</th>\n",
       "      <th>Military</th>\n",
       "      <th>School</th>\n",
       "      <th>Home</th>\n",
       "    </tr>\n",
       "  </thead>\n",
       "  <tbody>\n",
       "    <tr>\n",
       "      <th>0.000</th>\n",
       "      <td>22.551</td>\n",
       "      <td>20.846</td>\n",
       "      <td>0.552</td>\n",
       "      <td>13.076</td>\n",
       "      <td>2.975</td>\n",
       "    </tr>\n",
       "    <tr>\n",
       "      <th>0.010</th>\n",
       "      <td>22.107</td>\n",
       "      <td>21.247</td>\n",
       "      <td>0.489</td>\n",
       "      <td>13.177</td>\n",
       "      <td>2.980</td>\n",
       "    </tr>\n",
       "    <tr>\n",
       "      <th>0.020</th>\n",
       "      <td>21.965</td>\n",
       "      <td>21.364</td>\n",
       "      <td>0.477</td>\n",
       "      <td>13.222</td>\n",
       "      <td>2.972</td>\n",
       "    </tr>\n",
       "    <tr>\n",
       "      <th>0.100</th>\n",
       "      <td>21.014</td>\n",
       "      <td>22.151</td>\n",
       "      <td>0.397</td>\n",
       "      <td>13.458</td>\n",
       "      <td>2.980</td>\n",
       "    </tr>\n",
       "    <tr>\n",
       "      <th>0.200</th>\n",
       "      <td>19.669</td>\n",
       "      <td>23.192</td>\n",
       "      <td>0.348</td>\n",
       "      <td>13.772</td>\n",
       "      <td>3.019</td>\n",
       "    </tr>\n",
       "    <tr>\n",
       "      <th>0.300</th>\n",
       "      <td>18.348</td>\n",
       "      <td>24.263</td>\n",
       "      <td>0.277</td>\n",
       "      <td>14.062</td>\n",
       "      <td>3.050</td>\n",
       "    </tr>\n",
       "    <tr>\n",
       "      <th>0.400</th>\n",
       "      <td>17.232</td>\n",
       "      <td>25.167</td>\n",
       "      <td>0.224</td>\n",
       "      <td>14.302</td>\n",
       "      <td>3.075</td>\n",
       "    </tr>\n",
       "    <tr>\n",
       "      <th>0.500</th>\n",
       "      <td>16.500</td>\n",
       "      <td>25.718</td>\n",
       "      <td>0.203</td>\n",
       "      <td>14.473</td>\n",
       "      <td>3.106</td>\n",
       "    </tr>\n",
       "    <tr>\n",
       "      <th>0.600</th>\n",
       "      <td>15.975</td>\n",
       "      <td>26.161</td>\n",
       "      <td>0.148</td>\n",
       "      <td>14.599</td>\n",
       "      <td>3.117</td>\n",
       "    </tr>\n",
       "    <tr>\n",
       "      <th>0.700</th>\n",
       "      <td>15.326</td>\n",
       "      <td>26.683</td>\n",
       "      <td>0.101</td>\n",
       "      <td>14.763</td>\n",
       "      <td>3.127</td>\n",
       "    </tr>\n",
       "    <tr>\n",
       "      <th>0.800</th>\n",
       "      <td>14.925</td>\n",
       "      <td>26.996</td>\n",
       "      <td>0.075</td>\n",
       "      <td>14.860</td>\n",
       "      <td>3.144</td>\n",
       "    </tr>\n",
       "    <tr>\n",
       "      <th>0.900</th>\n",
       "      <td>14.308</td>\n",
       "      <td>27.472</td>\n",
       "      <td>0.061</td>\n",
       "      <td>15.000</td>\n",
       "      <td>3.159</td>\n",
       "    </tr>\n",
       "    <tr>\n",
       "      <th>1.000</th>\n",
       "      <td>14.076</td>\n",
       "      <td>27.629</td>\n",
       "      <td>0.059</td>\n",
       "      <td>15.074</td>\n",
       "      <td>3.162</td>\n",
       "    </tr>\n",
       "  </tbody>\n",
       "</table>\n",
       "</div>"
      ],
      "text/plain": [
       "         Blue   White  Military  School   Home\n",
       "0.000  22.551  20.846     0.552  13.076  2.975\n",
       "0.010  22.107  21.247     0.489  13.177  2.980\n",
       "0.020  21.965  21.364     0.477  13.222  2.972\n",
       "0.100  21.014  22.151     0.397  13.458  2.980\n",
       "0.200  19.669  23.192     0.348  13.772  3.019\n",
       "0.300  18.348  24.263     0.277  14.062  3.050\n",
       "0.400  17.232  25.167     0.224  14.302  3.075\n",
       "0.500  16.500  25.718     0.203  14.473  3.106\n",
       "0.600  15.975  26.161     0.148  14.599  3.117\n",
       "0.700  15.326  26.683     0.101  14.763  3.127\n",
       "0.800  14.925  26.996     0.075  14.860  3.144\n",
       "0.900  14.308  27.472     0.061  15.000  3.159\n",
       "1.000  14.076  27.629     0.059  15.074  3.162"
      ]
     },
     "execution_count": 6,
     "metadata": {},
     "output_type": "execute_result"
    },
    {
     "data": {
      "application/javascript": [
       "\n",
       "            setTimeout(function() {\n",
       "                var nbb_cell_id = 6;\n",
       "                var nbb_unformatted_code = \"effect_ambiguity_experiences_kw97(\\n    simulated_vdense_ambiguity_models_kw97, initial_years_schooling_kw97, n_periods_kw97,\\n)\";\n",
       "                var nbb_formatted_code = \"effect_ambiguity_experiences_kw97(\\n    simulated_vdense_ambiguity_models_kw97,\\n    initial_years_schooling_kw97,\\n    n_periods_kw97,\\n)\";\n",
       "                var nbb_cells = Jupyter.notebook.get_cells();\n",
       "                for (var i = 0; i < nbb_cells.length; ++i) {\n",
       "                    if (nbb_cells[i].input_prompt_number == nbb_cell_id) {\n",
       "                        if (nbb_cells[i].get_text() == nbb_unformatted_code) {\n",
       "                             nbb_cells[i].set_text(nbb_formatted_code);\n",
       "                        }\n",
       "                        break;\n",
       "                    }\n",
       "                }\n",
       "            }, 500);\n",
       "            "
      ],
      "text/plain": [
       "<IPython.core.display.Javascript object>"
      ]
     },
     "metadata": {},
     "output_type": "display_data"
    }
   ],
   "source": [
    "effect_ambiguity_experiences_kw97(\n",
    "    simulated_vdense_ambiguity_models_kw97,\n",
    "    initial_years_schooling_kw97,\n",
    "    n_periods_kw97,\n",
    ")"
   ]
  },
  {
   "cell_type": "code",
   "execution_count": 8,
   "metadata": {},
   "outputs": [
    {
     "data": {
      "text/html": [
       "<div>\n",
       "<style scoped>\n",
       "    .dataframe tbody tr th:only-of-type {\n",
       "        vertical-align: middle;\n",
       "    }\n",
       "\n",
       "    .dataframe tbody tr th {\n",
       "        vertical-align: top;\n",
       "    }\n",
       "\n",
       "    .dataframe thead th {\n",
       "        text-align: right;\n",
       "    }\n",
       "</style>\n",
       "<table border=\"1\" class=\"dataframe\">\n",
       "  <thead>\n",
       "    <tr style=\"text-align: right;\">\n",
       "      <th></th>\n",
       "      <th>Blue</th>\n",
       "      <th>White</th>\n",
       "      <th>Military</th>\n",
       "      <th>School</th>\n",
       "      <th>Home</th>\n",
       "    </tr>\n",
       "  </thead>\n",
       "  <tbody>\n",
       "    <tr>\n",
       "      <th>0.000</th>\n",
       "      <td>22.392</td>\n",
       "      <td>20.948</td>\n",
       "      <td>0.544</td>\n",
       "      <td>13.126</td>\n",
       "      <td>2.990</td>\n",
       "    </tr>\n",
       "    <tr>\n",
       "      <th>1.000</th>\n",
       "      <td>14.018</td>\n",
       "      <td>27.630</td>\n",
       "      <td>0.064</td>\n",
       "      <td>15.088</td>\n",
       "      <td>3.200</td>\n",
       "    </tr>\n",
       "    <tr>\n",
       "      <th>2.000</th>\n",
       "      <td>12.890</td>\n",
       "      <td>28.214</td>\n",
       "      <td>0.032</td>\n",
       "      <td>15.582</td>\n",
       "      <td>3.282</td>\n",
       "    </tr>\n",
       "    <tr>\n",
       "      <th>3.000</th>\n",
       "      <td>13.258</td>\n",
       "      <td>27.616</td>\n",
       "      <td>0.046</td>\n",
       "      <td>15.680</td>\n",
       "      <td>3.400</td>\n",
       "    </tr>\n",
       "    <tr>\n",
       "      <th>4.000</th>\n",
       "      <td>13.632</td>\n",
       "      <td>27.098</td>\n",
       "      <td>0.038</td>\n",
       "      <td>15.746</td>\n",
       "      <td>3.486</td>\n",
       "    </tr>\n",
       "    <tr>\n",
       "      <th>5.000</th>\n",
       "      <td>14.120</td>\n",
       "      <td>26.492</td>\n",
       "      <td>0.074</td>\n",
       "      <td>15.774</td>\n",
       "      <td>3.540</td>\n",
       "    </tr>\n",
       "  </tbody>\n",
       "</table>\n",
       "</div>"
      ],
      "text/plain": [
       "         Blue   White  Military  School   Home\n",
       "0.000  22.392  20.948     0.544  13.126  2.990\n",
       "1.000  14.018  27.630     0.064  15.088  3.200\n",
       "2.000  12.890  28.214     0.032  15.582  3.282\n",
       "3.000  13.258  27.616     0.046  15.680  3.400\n",
       "4.000  13.632  27.098     0.038  15.746  3.486\n",
       "5.000  14.120  26.492     0.074  15.774  3.540"
      ]
     },
     "execution_count": 8,
     "metadata": {},
     "output_type": "execute_result"
    },
    {
     "data": {
      "application/javascript": [
       "\n",
       "            setTimeout(function() {\n",
       "                var nbb_cell_id = 8;\n",
       "                var nbb_unformatted_code = \"effect_ambiguity_experiences_kw97(\\n    simulated_spread_ambiguity_models_kw97,\\n    initial_years_schooling_kw97,\\n    n_periods_kw97,\\n)\";\n",
       "                var nbb_formatted_code = \"effect_ambiguity_experiences_kw97(\\n    simulated_spread_ambiguity_models_kw97,\\n    initial_years_schooling_kw97,\\n    n_periods_kw97,\\n)\";\n",
       "                var nbb_cells = Jupyter.notebook.get_cells();\n",
       "                for (var i = 0; i < nbb_cells.length; ++i) {\n",
       "                    if (nbb_cells[i].input_prompt_number == nbb_cell_id) {\n",
       "                        if (nbb_cells[i].get_text() == nbb_unformatted_code) {\n",
       "                             nbb_cells[i].set_text(nbb_formatted_code);\n",
       "                        }\n",
       "                        break;\n",
       "                    }\n",
       "                }\n",
       "            }, 500);\n",
       "            "
      ],
      "text/plain": [
       "<IPython.core.display.Javascript object>"
      ]
     },
     "metadata": {},
     "output_type": "display_data"
    }
   ],
   "source": [
    "effect_ambiguity_experiences_kw97(\n",
    "    simulated_spread_ambiguity_models_kw97,\n",
    "    initial_years_schooling_kw97,\n",
    "    n_periods_kw97,\n",
    ")"
   ]
  },
  {
   "cell_type": "markdown",
   "metadata": {},
   "source": [
    "We complement our preceding analysis by visualising the share of individuals that are in a certain occupation at a given point in time $t$. For purpose of a cleaner illustration we select subsets of ambiguity levels `dense_al_selected` and `spread_al_selected`. \n",
    "\n",
    "The arguments of the function **`plot_effect_ambiguity_choiceshare_kw97(args)`** are a dictionary of simulated ambiguity models and the coressponding list of selected ambiguity levels. A string can be passed to add an identifier to the file name. The plot will be saved as `.pdf` in the current directory.\n",
    "\n",
    "**Note:** The selected ambiguity levels have to be a subset of the simulated ambiguity models, e.g. a subset of `dense_ambiguity_levels` and `spread_ambiguity_levels`, respectively."
   ]
  },
  {
   "cell_type": "code",
   "execution_count": 19,
   "metadata": {},
   "outputs": [
    {
     "data": {
      "application/javascript": [
       "\n",
       "            setTimeout(function() {\n",
       "                var nbb_cell_id = 19;\n",
       "                var nbb_unformatted_code = \"vdense_al_selected_one = [\\\"0.000\\\", \\\"0.020\\\", \\\"0.100\\\", \\\"0.200\\\"]\\nvdense_al_selected_two = [\\\"0.300\\\", \\\"0.400\\\", \\\"0.500\\\", \\\"0.600\\\"]\\nvdense_al_selected_three = [\\\"0.700\\\", \\\"0.800\\\", \\\"0.900\\\", \\\"1.000\\\"]\\nspread_al_selected = [\\\"2.000\\\", \\\"3.000\\\", \\\"4.000\\\", \\\"5.000\\\"]\";\n",
       "                var nbb_formatted_code = \"vdense_al_selected_one = [\\\"0.000\\\", \\\"0.020\\\", \\\"0.100\\\", \\\"0.200\\\"]\\nvdense_al_selected_two = [\\\"0.300\\\", \\\"0.400\\\", \\\"0.500\\\", \\\"0.600\\\"]\\nvdense_al_selected_three = [\\\"0.700\\\", \\\"0.800\\\", \\\"0.900\\\", \\\"1.000\\\"]\\nspread_al_selected = [\\\"2.000\\\", \\\"3.000\\\", \\\"4.000\\\", \\\"5.000\\\"]\";\n",
       "                var nbb_cells = Jupyter.notebook.get_cells();\n",
       "                for (var i = 0; i < nbb_cells.length; ++i) {\n",
       "                    if (nbb_cells[i].input_prompt_number == nbb_cell_id) {\n",
       "                        if (nbb_cells[i].get_text() == nbb_unformatted_code) {\n",
       "                             nbb_cells[i].set_text(nbb_formatted_code);\n",
       "                        }\n",
       "                        break;\n",
       "                    }\n",
       "                }\n",
       "            }, 500);\n",
       "            "
      ],
      "text/plain": [
       "<IPython.core.display.Javascript object>"
      ]
     },
     "metadata": {},
     "output_type": "display_data"
    }
   ],
   "source": [
    "vdense_al_selected_one = [\"0.000\", \"0.020\", \"0.100\", \"0.200\"]\n",
    "vdense_al_selected_two = [\"0.300\", \"0.400\", \"0.500\", \"0.600\"]\n",
    "vdense_al_selected_three = [\"0.700\", \"0.800\", \"0.900\", \"1.000\"]\n",
    "spread_al_selected = [\"2.000\", \"3.000\", \"4.000\", \"5.000\"]"
   ]
  },
  {
   "cell_type": "code",
   "execution_count": 20,
   "metadata": {},
   "outputs": [
    {
     "data": {
      "image/png": "[encoded data removed]",
      "text/plain": [
       "<Figure size 1440x288 with 4 Axes>"
      ]
     },
     "metadata": {
      "needs_background": "light"
     },
     "output_type": "display_data"
    },
    {
     "data": {
      "application/javascript": [
       "\n",
       "            setTimeout(function() {\n",
       "                var nbb_cell_id = 20;\n",
       "                var nbb_unformatted_code = \"plot_effect_ambiguity_choiceshare_kw97(\\n    simulated_vdense_ambiguity_models_kw97, vdense_al_selected_one, \\\"vdense_one\\\"\\n)\";\n",
       "                var nbb_formatted_code = \"plot_effect_ambiguity_choiceshare_kw97(\\n    simulated_vdense_ambiguity_models_kw97, vdense_al_selected_one, \\\"vdense_one\\\"\\n)\";\n",
       "                var nbb_cells = Jupyter.notebook.get_cells();\n",
       "                for (var i = 0; i < nbb_cells.length; ++i) {\n",
       "                    if (nbb_cells[i].input_prompt_number == nbb_cell_id) {\n",
       "                        if (nbb_cells[i].get_text() == nbb_unformatted_code) {\n",
       "                             nbb_cells[i].set_text(nbb_formatted_code);\n",
       "                        }\n",
       "                        break;\n",
       "                    }\n",
       "                }\n",
       "            }, 500);\n",
       "            "
      ],
      "text/plain": [
       "<IPython.core.display.Javascript object>"
      ]
     },
     "metadata": {},
     "output_type": "display_data"
    }
   ],
   "source": [
    "plot_effect_ambiguity_choiceshare_kw97(\n",
    "    simulated_vdense_ambiguity_models_kw97, vdense_al_selected_one, \"vdense_one\"\n",
    ")"
   ]
  },
  {
   "cell_type": "code",
   "execution_count": 21,
   "metadata": {},
   "outputs": [
    {
     "data": {
      "image/png": "[encoded data removed]",
      "text/plain": [
       "<Figure size 1440x288 with 4 Axes>"
      ]
     },
     "metadata": {
      "needs_background": "light"
     },
     "output_type": "display_data"
    },
    {
     "data": {
      "application/javascript": [
       "\n",
       "            setTimeout(function() {\n",
       "                var nbb_cell_id = 21;\n",
       "                var nbb_unformatted_code = \"plot_effect_ambiguity_choiceshare_kw97(\\n    simulated_vdense_ambiguity_models_kw97, vdense_al_selected_two, \\\"vdense_two\\\"\\n)\";\n",
       "                var nbb_formatted_code = \"plot_effect_ambiguity_choiceshare_kw97(\\n    simulated_vdense_ambiguity_models_kw97, vdense_al_selected_two, \\\"vdense_two\\\"\\n)\";\n",
       "                var nbb_cells = Jupyter.notebook.get_cells();\n",
       "                for (var i = 0; i < nbb_cells.length; ++i) {\n",
       "                    if (nbb_cells[i].input_prompt_number == nbb_cell_id) {\n",
       "                        if (nbb_cells[i].get_text() == nbb_unformatted_code) {\n",
       "                             nbb_cells[i].set_text(nbb_formatted_code);\n",
       "                        }\n",
       "                        break;\n",
       "                    }\n",
       "                }\n",
       "            }, 500);\n",
       "            "
      ],
      "text/plain": [
       "<IPython.core.display.Javascript object>"
      ]
     },
     "metadata": {},
     "output_type": "display_data"
    }
   ],
   "source": [
    "plot_effect_ambiguity_choiceshare_kw97(\n",
    "    simulated_vdense_ambiguity_models_kw97, vdense_al_selected_two, \"vdense_two\"\n",
    ")"
   ]
  },
  {
   "cell_type": "code",
   "execution_count": 22,
   "metadata": {},
   "outputs": [
    {
     "data": {
      "image/png": "[encoded data removed]",
      "text/plain": [
       "<Figure size 1440x288 with 4 Axes>"
      ]
     },
     "metadata": {
      "needs_background": "light"
     },
     "output_type": "display_data"
    },
    {
     "data": {
      "application/javascript": [
       "\n",
       "            setTimeout(function() {\n",
       "                var nbb_cell_id = 22;\n",
       "                var nbb_unformatted_code = \"plot_effect_ambiguity_choiceshare_kw97(\\n    simulated_vdense_ambiguity_models_kw97, vdense_al_selected_three, \\\"vdense_two\\\"\\n)\";\n",
       "                var nbb_formatted_code = \"plot_effect_ambiguity_choiceshare_kw97(\\n    simulated_vdense_ambiguity_models_kw97, vdense_al_selected_three, \\\"vdense_two\\\"\\n)\";\n",
       "                var nbb_cells = Jupyter.notebook.get_cells();\n",
       "                for (var i = 0; i < nbb_cells.length; ++i) {\n",
       "                    if (nbb_cells[i].input_prompt_number == nbb_cell_id) {\n",
       "                        if (nbb_cells[i].get_text() == nbb_unformatted_code) {\n",
       "                             nbb_cells[i].set_text(nbb_formatted_code);\n",
       "                        }\n",
       "                        break;\n",
       "                    }\n",
       "                }\n",
       "            }, 500);\n",
       "            "
      ],
      "text/plain": [
       "<IPython.core.display.Javascript object>"
      ]
     },
     "metadata": {},
     "output_type": "display_data"
    }
   ],
   "source": [
    "plot_effect_ambiguity_choiceshare_kw97(\n",
    "    simulated_vdense_ambiguity_models_kw97, vdense_al_selected_three, \"vdense_two\"\n",
    ")"
   ]
  },
  {
   "cell_type": "code",
   "execution_count": 23,
   "metadata": {},
   "outputs": [
    {
     "data": {
      "image/png": "[encoded data removed]",
      "text/plain": [
       "<Figure size 1440x288 with 4 Axes>"
      ]
     },
     "metadata": {
      "needs_background": "light"
     },
     "output_type": "display_data"
    },
    {
     "data": {
      "application/javascript": [
       "\n",
       "            setTimeout(function() {\n",
       "                var nbb_cell_id = 23;\n",
       "                var nbb_unformatted_code = \"plot_effect_ambiguity_choiceshare_kw97(\\n    simulated_spread_ambiguity_models_kw97, spread_al_selected, \\\"spread\\\"\\n)\";\n",
       "                var nbb_formatted_code = \"plot_effect_ambiguity_choiceshare_kw97(\\n    simulated_spread_ambiguity_models_kw97, spread_al_selected, \\\"spread\\\"\\n)\";\n",
       "                var nbb_cells = Jupyter.notebook.get_cells();\n",
       "                for (var i = 0; i < nbb_cells.length; ++i) {\n",
       "                    if (nbb_cells[i].input_prompt_number == nbb_cell_id) {\n",
       "                        if (nbb_cells[i].get_text() == nbb_unformatted_code) {\n",
       "                             nbb_cells[i].set_text(nbb_formatted_code);\n",
       "                        }\n",
       "                        break;\n",
       "                    }\n",
       "                }\n",
       "            }, 500);\n",
       "            "
      ],
      "text/plain": [
       "<IPython.core.display.Javascript object>"
      ]
     },
     "metadata": {},
     "output_type": "display_data"
    }
   ],
   "source": [
    "plot_effect_ambiguity_choiceshare_kw97(\n",
    "    simulated_spread_ambiguity_models_kw97, spread_al_selected, \"spread\"\n",
    ")"
   ]
  },
  {
   "cell_type": "markdown",
   "metadata": {},
   "source": [
    "<div class=\"alert alert-block alert-success\"> \n",
    "<u><b>Effect ambiguity on expected utility</b></u></div>"
   ]
  },
  {
   "cell_type": "markdown",
   "metadata": {},
   "source": [
    "We will investigate how a change in **ambiguity translates into changes of expected utility**. Depending on the framework of investigation (in our case KW97) it is necessary to specify the indexes of all value functions in the model."
   ]
  },
  {
   "cell_type": "code",
   "execution_count": 12,
   "metadata": {},
   "outputs": [
    {
     "data": {
      "application/javascript": [
       "\n",
       "            setTimeout(function() {\n",
       "                var nbb_cell_id = 12;\n",
       "                var nbb_unformatted_code = \"# Indexes of the value functions for the kw97 model\\nindexes_value_func_kw97 = [\\n    \\\"Value_Function_School\\\",\\n    \\\"Value_Function_Military\\\",\\n    \\\"Value_Function_White_Collar\\\",\\n    \\\"Value_Function_Blue_Collar\\\",\\n    \\\"Value_Function_Home\\\",\\n]\";\n",
       "                var nbb_formatted_code = \"# Indexes of the value functions for the kw97 model\\nindexes_value_func_kw97 = [\\n    \\\"Value_Function_School\\\",\\n    \\\"Value_Function_Military\\\",\\n    \\\"Value_Function_White_Collar\\\",\\n    \\\"Value_Function_Blue_Collar\\\",\\n    \\\"Value_Function_Home\\\",\\n]\";\n",
       "                var nbb_cells = Jupyter.notebook.get_cells();\n",
       "                for (var i = 0; i < nbb_cells.length; ++i) {\n",
       "                    if (nbb_cells[i].input_prompt_number == nbb_cell_id) {\n",
       "                        if (nbb_cells[i].get_text() == nbb_unformatted_code) {\n",
       "                             nbb_cells[i].set_text(nbb_formatted_code);\n",
       "                        }\n",
       "                        break;\n",
       "                    }\n",
       "                }\n",
       "            }, 500);\n",
       "            "
      ],
      "text/plain": [
       "<IPython.core.display.Javascript object>"
      ]
     },
     "metadata": {},
     "output_type": "display_data"
    }
   ],
   "source": [
    "# Indexes of the value functions for the kw97 model\n",
    "indexes_value_func_kw97 = [\n",
    "    \"Value_Function_School\",\n",
    "    \"Value_Function_Military\",\n",
    "    \"Value_Function_White_Collar\",\n",
    "    \"Value_Function_Blue_Collar\",\n",
    "    \"Value_Function_Home\",\n",
    "]"
   ]
  },
  {
   "cell_type": "markdown",
   "metadata": {},
   "source": [
    "The function **`eu_loss_ambiguity`** calculates for each simulated ambiguity model the maximum expected utility as average of the individual maximum expected utilities. In particular, for each individual decision-maker $i \\in \\{1, \\dots, N \\}$ the maximum value of $v_1^{\\pi^*}(s_1)$ will be retrieved. \n",
    "The expected utility under a model $\\mathcal{M}(\\theta; \\eta)$ with given ambigiuty level $\\eta = a$  is given by:\n",
    "$$ \\text{EU}_{\\eta = a} \\equiv \\sum_{i=1}^N \\frac{1}{N} v_{i1}^{\\pi_i^*}(s_{i1}). $$\n",
    "\n",
    "The expected utility loss is defined as \n",
    "$$ \\text{EU_loss}_{\\eta = a} \\equiv \\left| \\frac{ \\text{EU}_{\\eta = 0} - \\text{EU}_{\\eta = a}}{\\text{EU}_{\\eta = 0}} \\right|, $$\n",
    "\n",
    "where $\\text{EU}_{\\eta = a}$ denotes the expected utiliy under a model with ambiguity level $\\eta = a$, and $\\text{EU}_{\\eta = 0}$ denotes the expected utility derived in a risk-only model."
   ]
  },
  {
   "cell_type": "code",
   "execution_count": 14,
   "metadata": {},
   "outputs": [
    {
     "data": {
      "text/html": [
       "<div>\n",
       "<style scoped>\n",
       "    .dataframe tbody tr th:only-of-type {\n",
       "        vertical-align: middle;\n",
       "    }\n",
       "\n",
       "    .dataframe tbody tr th {\n",
       "        vertical-align: top;\n",
       "    }\n",
       "\n",
       "    .dataframe thead th {\n",
       "        text-align: right;\n",
       "    }\n",
       "</style>\n",
       "<table border=\"1\" class=\"dataframe\">\n",
       "  <thead>\n",
       "    <tr style=\"text-align: right;\">\n",
       "      <th></th>\n",
       "      <th>EU</th>\n",
       "      <th>EU_loss</th>\n",
       "    </tr>\n",
       "  </thead>\n",
       "  <tbody>\n",
       "    <tr>\n",
       "      <th>0.000</th>\n",
       "      <td>104083.061539</td>\n",
       "      <td>0.000000</td>\n",
       "    </tr>\n",
       "    <tr>\n",
       "      <th>0.010</th>\n",
       "      <td>107263.832183</td>\n",
       "      <td>0.030560</td>\n",
       "    </tr>\n",
       "    <tr>\n",
       "      <th>0.020</th>\n",
       "      <td>108700.578848</td>\n",
       "      <td>0.044364</td>\n",
       "    </tr>\n",
       "    <tr>\n",
       "      <th>0.100</th>\n",
       "      <td>115519.629220</td>\n",
       "      <td>0.109879</td>\n",
       "    </tr>\n",
       "    <tr>\n",
       "      <th>0.200</th>\n",
       "      <td>121410.303519</td>\n",
       "      <td>0.166475</td>\n",
       "    </tr>\n",
       "    <tr>\n",
       "      <th>0.300</th>\n",
       "      <td>126369.556431</td>\n",
       "      <td>0.214122</td>\n",
       "    </tr>\n",
       "    <tr>\n",
       "      <th>0.400</th>\n",
       "      <td>130837.944405</td>\n",
       "      <td>0.257053</td>\n",
       "    </tr>\n",
       "    <tr>\n",
       "      <th>0.500</th>\n",
       "      <td>134985.449434</td>\n",
       "      <td>0.296901</td>\n",
       "    </tr>\n",
       "    <tr>\n",
       "      <th>0.600</th>\n",
       "      <td>138900.130076</td>\n",
       "      <td>0.334512</td>\n",
       "    </tr>\n",
       "    <tr>\n",
       "      <th>0.700</th>\n",
       "      <td>142634.987493</td>\n",
       "      <td>0.370396</td>\n",
       "    </tr>\n",
       "    <tr>\n",
       "      <th>0.800</th>\n",
       "      <td>146223.932063</td>\n",
       "      <td>0.404877</td>\n",
       "    </tr>\n",
       "    <tr>\n",
       "      <th>0.900</th>\n",
       "      <td>149690.171996</td>\n",
       "      <td>0.438180</td>\n",
       "    </tr>\n",
       "    <tr>\n",
       "      <th>1.000</th>\n",
       "      <td>153050.579949</td>\n",
       "      <td>0.470466</td>\n",
       "    </tr>\n",
       "  </tbody>\n",
       "</table>\n",
       "</div>"
      ],
      "text/plain": [
       "                  EU   EU_loss\n",
       "0.000  104083.061539  0.000000\n",
       "0.010  107263.832183  0.030560\n",
       "0.020  108700.578848  0.044364\n",
       "0.100  115519.629220  0.109879\n",
       "0.200  121410.303519  0.166475\n",
       "0.300  126369.556431  0.214122\n",
       "0.400  130837.944405  0.257053\n",
       "0.500  134985.449434  0.296901\n",
       "0.600  138900.130076  0.334512\n",
       "0.700  142634.987493  0.370396\n",
       "0.800  146223.932063  0.404877\n",
       "0.900  149690.171996  0.438180\n",
       "1.000  153050.579949  0.470466"
      ]
     },
     "execution_count": 14,
     "metadata": {},
     "output_type": "execute_result"
    },
    {
     "data": {
      "application/javascript": [
       "\n",
       "            setTimeout(function() {\n",
       "                var nbb_cell_id = 14;\n",
       "                var nbb_unformatted_code = \"eu_loss_ambiguity(simulated_vdense_ambiguity_models_kw97, indexes_value_func_kw97)\";\n",
       "                var nbb_formatted_code = \"eu_loss_ambiguity(simulated_vdense_ambiguity_models_kw97, indexes_value_func_kw97)\";\n",
       "                var nbb_cells = Jupyter.notebook.get_cells();\n",
       "                for (var i = 0; i < nbb_cells.length; ++i) {\n",
       "                    if (nbb_cells[i].input_prompt_number == nbb_cell_id) {\n",
       "                        if (nbb_cells[i].get_text() == nbb_unformatted_code) {\n",
       "                             nbb_cells[i].set_text(nbb_formatted_code);\n",
       "                        }\n",
       "                        break;\n",
       "                    }\n",
       "                }\n",
       "            }, 500);\n",
       "            "
      ],
      "text/plain": [
       "<IPython.core.display.Javascript object>"
      ]
     },
     "metadata": {},
     "output_type": "display_data"
    }
   ],
   "source": [
    "eu_loss_ambiguity(simulated_vdense_ambiguity_models_kw97, indexes_value_func_kw97)"
   ]
  },
  {
   "cell_type": "code",
   "execution_count": 18,
   "metadata": {},
   "outputs": [
    {
     "data": {
      "text/html": [
       "<div>\n",
       "<style scoped>\n",
       "    .dataframe tbody tr th:only-of-type {\n",
       "        vertical-align: middle;\n",
       "    }\n",
       "\n",
       "    .dataframe tbody tr th {\n",
       "        vertical-align: top;\n",
       "    }\n",
       "\n",
       "    .dataframe thead th {\n",
       "        text-align: right;\n",
       "    }\n",
       "</style>\n",
       "<table border=\"1\" class=\"dataframe\">\n",
       "  <thead>\n",
       "    <tr style=\"text-align: right;\">\n",
       "      <th></th>\n",
       "      <th>EU</th>\n",
       "      <th>EU_loss</th>\n",
       "    </tr>\n",
       "  </thead>\n",
       "  <tbody>\n",
       "    <tr>\n",
       "      <th>0.000</th>\n",
       "      <td>104083.061539</td>\n",
       "      <td>0.000000</td>\n",
       "    </tr>\n",
       "    <tr>\n",
       "      <th>1.000</th>\n",
       "      <td>153050.579900</td>\n",
       "      <td>0.470466</td>\n",
       "    </tr>\n",
       "    <tr>\n",
       "      <th>2.000</th>\n",
       "      <td>182648.411810</td>\n",
       "      <td>0.754833</td>\n",
       "    </tr>\n",
       "    <tr>\n",
       "      <th>3.000</th>\n",
       "      <td>207042.465114</td>\n",
       "      <td>0.989204</td>\n",
       "    </tr>\n",
       "    <tr>\n",
       "      <th>4.000</th>\n",
       "      <td>227106.358014</td>\n",
       "      <td>1.181972</td>\n",
       "    </tr>\n",
       "    <tr>\n",
       "      <th>5.000</th>\n",
       "      <td>242738.852489</td>\n",
       "      <td>1.332165</td>\n",
       "    </tr>\n",
       "  </tbody>\n",
       "</table>\n",
       "</div>"
      ],
      "text/plain": [
       "                  EU   EU_loss\n",
       "0.000  104083.061539  0.000000\n",
       "1.000  153050.579900  0.470466\n",
       "2.000  182648.411810  0.754833\n",
       "3.000  207042.465114  0.989204\n",
       "4.000  227106.358014  1.181972\n",
       "5.000  242738.852489  1.332165"
      ]
     },
     "execution_count": 18,
     "metadata": {},
     "output_type": "execute_result"
    },
    {
     "data": {
      "application/javascript": [
       "\n",
       "            setTimeout(function() {\n",
       "                var nbb_cell_id = 18;\n",
       "                var nbb_unformatted_code = \"eu_loss_ambiguity(simulated_spread_ambiguity_models_kw97, indexes_value_func_kw97)\";\n",
       "                var nbb_formatted_code = \"eu_loss_ambiguity(simulated_spread_ambiguity_models_kw97, indexes_value_func_kw97)\";\n",
       "                var nbb_cells = Jupyter.notebook.get_cells();\n",
       "                for (var i = 0; i < nbb_cells.length; ++i) {\n",
       "                    if (nbb_cells[i].input_prompt_number == nbb_cell_id) {\n",
       "                        if (nbb_cells[i].get_text() == nbb_unformatted_code) {\n",
       "                             nbb_cells[i].set_text(nbb_formatted_code);\n",
       "                        }\n",
       "                        break;\n",
       "                    }\n",
       "                }\n",
       "            }, 500);\n",
       "            "
      ],
      "text/plain": [
       "<IPython.core.display.Javascript object>"
      ]
     },
     "metadata": {},
     "output_type": "display_data"
    }
   ],
   "source": [
    "eu_loss_ambiguity(simulated_spread_ambiguity_models_kw97, indexes_value_func_kw97)"
   ]
  },
  {
   "cell_type": "markdown",
   "metadata": {},
   "source": [
    "<div class=\"alert alert-block alert-success\"> \n",
    "<u><b>Let ambiguity and tuitions subsidies in!</b></u></div>"
   ]
  },
  {
   "cell_type": "markdown",
   "metadata": {},
   "source": [
    "We add a layer to the analysis above, i.e. we analyze the effect of a **tuition subsidy** under different ambiguity settings. Together with the preceding insights we can determine the cross-effect of a tuition subsidy for economic environments that are characterized by a different level of ambiguity.\n",
    "\n",
    "The **comparative statics analysis** is based on simulated models for different levels of ambiguity $\\eta$ *and* different amount of tuition subsidies $ts$. The quantity of interest is the changes of schooling for a given ambiguity level and differen tuition subsidies. \n",
    "\n",
    "We load the simulated ambiguity_ts models and specifiy the tuition subsidies under consideration. Note that we can only investigate tuition subsidies under which the models were simulated. In our case we will investigate the change from no tuition subsidiy $ts = 0$ to a subsidy of $\\$ 1000$, $ts = 1000$."
   ]
  },
  {
   "cell_type": "code",
   "execution_count": 15,
   "metadata": {},
   "outputs": [
    {
     "name": "stdout",
     "output_type": "stream",
     "text": [
      "Tuition subsidies to be considered: ['0', '1000'] .\n"
     ]
    },
    {
     "data": {
      "application/javascript": [
       "\n",
       "            setTimeout(function() {\n",
       "                var nbb_cell_id = 15;\n",
       "                var nbb_unformatted_code = \"simulated_vdense_ambiguity_ts_models_kw97 = pkl.load(\\n    open(\\\"sim_vdense_ambiguity_ts_models_kw97.pkl\\\", \\\"rb\\\")\\n)\\nsimulated_spread_ambiguity_ts_models_kw97 = pkl.load(\\n    open(\\\"sim_spread_ambiguity_ts_models_kw97.pkl\\\", \\\"rb\\\")\\n)\\n\\ninitial_years_schooling_kw97 = 10\\nn_periods_kw97 = 50\\ntuition_subsidies = list(\\n    simulated_vdense_ambiguity_ts_models_kw97[\\\"0.000\\\"].keys()\\n)\\nprint(\\\"Tuition subsidies to be considered:\\\", tuition_subsidies, \\\".\\\")\";\n",
       "                var nbb_formatted_code = \"simulated_vdense_ambiguity_ts_models_kw97 = pkl.load(\\n    open(\\\"sim_vdense_ambiguity_ts_models_kw97.pkl\\\", \\\"rb\\\")\\n)\\nsimulated_spread_ambiguity_ts_models_kw97 = pkl.load(\\n    open(\\\"sim_spread_ambiguity_ts_models_kw97.pkl\\\", \\\"rb\\\")\\n)\\n\\ninitial_years_schooling_kw97 = 10\\nn_periods_kw97 = 50\\ntuition_subsidies = list(simulated_vdense_ambiguity_ts_models_kw97[\\\"0.000\\\"].keys())\\nprint(\\\"Tuition subsidies to be considered:\\\", tuition_subsidies, \\\".\\\")\";\n",
       "                var nbb_cells = Jupyter.notebook.get_cells();\n",
       "                for (var i = 0; i < nbb_cells.length; ++i) {\n",
       "                    if (nbb_cells[i].input_prompt_number == nbb_cell_id) {\n",
       "                        if (nbb_cells[i].get_text() == nbb_unformatted_code) {\n",
       "                             nbb_cells[i].set_text(nbb_formatted_code);\n",
       "                        }\n",
       "                        break;\n",
       "                    }\n",
       "                }\n",
       "            }, 500);\n",
       "            "
      ],
      "text/plain": [
       "<IPython.core.display.Javascript object>"
      ]
     },
     "metadata": {},
     "output_type": "display_data"
    }
   ],
   "source": [
    "simulated_vdense_ambiguity_ts_models_kw97 = pkl.load(\n",
    "    open(\"sim_vdense_ambiguity_ts_models_kw97.pkl\", \"rb\")\n",
    ")\n",
    "simulated_spread_ambiguity_ts_models_kw97 = pkl.load(\n",
    "    open(\"sim_spread_ambiguity_ts_models_kw97.pkl\", \"rb\")\n",
    ")\n",
    "\n",
    "initial_years_schooling_kw97 = 10\n",
    "n_periods_kw97 = 50\n",
    "tuition_subsidies = list(simulated_vdense_ambiguity_ts_models_kw97[\"0.000\"].keys())\n",
    "print(\"Tuition subsidies to be considered:\", tuition_subsidies, \".\")"
   ]
  },
  {
   "cell_type": "markdown",
   "metadata": {},
   "source": [
    "Passing a dictionary of ambiguity levels, a list of tuition subsidies, a dictionary that constaints the simulated ambiguity_ts models, and model parameters, the function **`effect_ambiguity_ts_experiences_kw97`** calculates the average experience in each occupation. "
   ]
  },
  {
   "cell_type": "code",
   "execution_count": 16,
   "metadata": {},
   "outputs": [
    {
     "data": {
      "text/html": [
       "<div>\n",
       "<style scoped>\n",
       "    .dataframe tbody tr th:only-of-type {\n",
       "        vertical-align: middle;\n",
       "    }\n",
       "\n",
       "    .dataframe tbody tr th {\n",
       "        vertical-align: top;\n",
       "    }\n",
       "\n",
       "    .dataframe thead th {\n",
       "        text-align: right;\n",
       "    }\n",
       "</style>\n",
       "<table border=\"1\" class=\"dataframe\">\n",
       "  <thead>\n",
       "    <tr style=\"text-align: right;\">\n",
       "      <th></th>\n",
       "      <th></th>\n",
       "      <th>Blue</th>\n",
       "      <th>White</th>\n",
       "      <th>Military</th>\n",
       "      <th>School</th>\n",
       "      <th>Home</th>\n",
       "    </tr>\n",
       "  </thead>\n",
       "  <tbody>\n",
       "    <tr>\n",
       "      <th rowspan=\"2\" valign=\"top\">0.000</th>\n",
       "      <th>0</th>\n",
       "      <td>22.551</td>\n",
       "      <td>20.846</td>\n",
       "      <td>0.552</td>\n",
       "      <td>13.076</td>\n",
       "      <td>2.975</td>\n",
       "    </tr>\n",
       "    <tr>\n",
       "      <th>1000</th>\n",
       "      <td>14.422</td>\n",
       "      <td>27.632</td>\n",
       "      <td>0.114</td>\n",
       "      <td>14.715</td>\n",
       "      <td>3.117</td>\n",
       "    </tr>\n",
       "    <tr>\n",
       "      <th rowspan=\"2\" valign=\"top\">0.010</th>\n",
       "      <th>0</th>\n",
       "      <td>22.107</td>\n",
       "      <td>21.247</td>\n",
       "      <td>0.489</td>\n",
       "      <td>13.177</td>\n",
       "      <td>2.980</td>\n",
       "    </tr>\n",
       "    <tr>\n",
       "      <th>1000</th>\n",
       "      <td>14.070</td>\n",
       "      <td>27.934</td>\n",
       "      <td>0.082</td>\n",
       "      <td>14.817</td>\n",
       "      <td>3.097</td>\n",
       "    </tr>\n",
       "    <tr>\n",
       "      <th rowspan=\"2\" valign=\"top\">0.020</th>\n",
       "      <th>0</th>\n",
       "      <td>21.965</td>\n",
       "      <td>21.364</td>\n",
       "      <td>0.477</td>\n",
       "      <td>13.222</td>\n",
       "      <td>2.972</td>\n",
       "    </tr>\n",
       "    <tr>\n",
       "      <th>1000</th>\n",
       "      <td>13.822</td>\n",
       "      <td>28.121</td>\n",
       "      <td>0.081</td>\n",
       "      <td>14.880</td>\n",
       "      <td>3.096</td>\n",
       "    </tr>\n",
       "    <tr>\n",
       "      <th rowspan=\"2\" valign=\"top\">0.100</th>\n",
       "      <th>0</th>\n",
       "      <td>21.014</td>\n",
       "      <td>22.151</td>\n",
       "      <td>0.397</td>\n",
       "      <td>13.458</td>\n",
       "      <td>2.980</td>\n",
       "    </tr>\n",
       "    <tr>\n",
       "      <th>1000</th>\n",
       "      <td>12.857</td>\n",
       "      <td>28.867</td>\n",
       "      <td>0.065</td>\n",
       "      <td>15.135</td>\n",
       "      <td>3.076</td>\n",
       "    </tr>\n",
       "    <tr>\n",
       "      <th rowspan=\"2\" valign=\"top\">0.200</th>\n",
       "      <th>0</th>\n",
       "      <td>19.669</td>\n",
       "      <td>23.192</td>\n",
       "      <td>0.348</td>\n",
       "      <td>13.772</td>\n",
       "      <td>3.019</td>\n",
       "    </tr>\n",
       "    <tr>\n",
       "      <th>1000</th>\n",
       "      <td>12.244</td>\n",
       "      <td>29.315</td>\n",
       "      <td>0.049</td>\n",
       "      <td>15.310</td>\n",
       "      <td>3.082</td>\n",
       "    </tr>\n",
       "    <tr>\n",
       "      <th rowspan=\"2\" valign=\"top\">0.300</th>\n",
       "      <th>0</th>\n",
       "      <td>18.348</td>\n",
       "      <td>24.263</td>\n",
       "      <td>0.277</td>\n",
       "      <td>14.062</td>\n",
       "      <td>3.050</td>\n",
       "    </tr>\n",
       "    <tr>\n",
       "      <th>1000</th>\n",
       "      <td>11.814</td>\n",
       "      <td>29.649</td>\n",
       "      <td>0.023</td>\n",
       "      <td>15.441</td>\n",
       "      <td>3.073</td>\n",
       "    </tr>\n",
       "    <tr>\n",
       "      <th rowspan=\"2\" valign=\"top\">0.400</th>\n",
       "      <th>0</th>\n",
       "      <td>17.232</td>\n",
       "      <td>25.167</td>\n",
       "      <td>0.224</td>\n",
       "      <td>14.302</td>\n",
       "      <td>3.075</td>\n",
       "    </tr>\n",
       "    <tr>\n",
       "      <th>1000</th>\n",
       "      <td>11.597</td>\n",
       "      <td>29.766</td>\n",
       "      <td>0.023</td>\n",
       "      <td>15.528</td>\n",
       "      <td>3.086</td>\n",
       "    </tr>\n",
       "    <tr>\n",
       "      <th rowspan=\"2\" valign=\"top\">0.500</th>\n",
       "      <th>0</th>\n",
       "      <td>16.500</td>\n",
       "      <td>25.718</td>\n",
       "      <td>0.203</td>\n",
       "      <td>14.473</td>\n",
       "      <td>3.106</td>\n",
       "    </tr>\n",
       "    <tr>\n",
       "      <th>1000</th>\n",
       "      <td>11.424</td>\n",
       "      <td>29.877</td>\n",
       "      <td>0.016</td>\n",
       "      <td>15.595</td>\n",
       "      <td>3.088</td>\n",
       "    </tr>\n",
       "    <tr>\n",
       "      <th rowspan=\"2\" valign=\"top\">0.600</th>\n",
       "      <th>0</th>\n",
       "      <td>15.975</td>\n",
       "      <td>26.161</td>\n",
       "      <td>0.148</td>\n",
       "      <td>14.599</td>\n",
       "      <td>3.117</td>\n",
       "    </tr>\n",
       "    <tr>\n",
       "      <th>1000</th>\n",
       "      <td>11.231</td>\n",
       "      <td>29.987</td>\n",
       "      <td>0.016</td>\n",
       "      <td>15.670</td>\n",
       "      <td>3.096</td>\n",
       "    </tr>\n",
       "    <tr>\n",
       "      <th rowspan=\"2\" valign=\"top\">0.700</th>\n",
       "      <th>0</th>\n",
       "      <td>15.326</td>\n",
       "      <td>26.683</td>\n",
       "      <td>0.101</td>\n",
       "      <td>14.763</td>\n",
       "      <td>3.127</td>\n",
       "    </tr>\n",
       "    <tr>\n",
       "      <th>1000</th>\n",
       "      <td>11.192</td>\n",
       "      <td>29.989</td>\n",
       "      <td>0.015</td>\n",
       "      <td>15.713</td>\n",
       "      <td>3.091</td>\n",
       "    </tr>\n",
       "    <tr>\n",
       "      <th rowspan=\"2\" valign=\"top\">0.800</th>\n",
       "      <th>0</th>\n",
       "      <td>14.925</td>\n",
       "      <td>26.996</td>\n",
       "      <td>0.075</td>\n",
       "      <td>14.860</td>\n",
       "      <td>3.144</td>\n",
       "    </tr>\n",
       "    <tr>\n",
       "      <th>1000</th>\n",
       "      <td>11.171</td>\n",
       "      <td>29.965</td>\n",
       "      <td>0.015</td>\n",
       "      <td>15.750</td>\n",
       "      <td>3.099</td>\n",
       "    </tr>\n",
       "    <tr>\n",
       "      <th rowspan=\"2\" valign=\"top\">0.900</th>\n",
       "      <th>0</th>\n",
       "      <td>14.308</td>\n",
       "      <td>27.472</td>\n",
       "      <td>0.061</td>\n",
       "      <td>15.000</td>\n",
       "      <td>3.159</td>\n",
       "    </tr>\n",
       "    <tr>\n",
       "      <th>1000</th>\n",
       "      <td>11.102</td>\n",
       "      <td>29.998</td>\n",
       "      <td>0.015</td>\n",
       "      <td>15.793</td>\n",
       "      <td>3.092</td>\n",
       "    </tr>\n",
       "    <tr>\n",
       "      <th rowspan=\"2\" valign=\"top\">1.000</th>\n",
       "      <th>0</th>\n",
       "      <td>14.076</td>\n",
       "      <td>27.629</td>\n",
       "      <td>0.059</td>\n",
       "      <td>15.074</td>\n",
       "      <td>3.162</td>\n",
       "    </tr>\n",
       "    <tr>\n",
       "      <th>1000</th>\n",
       "      <td>11.168</td>\n",
       "      <td>29.921</td>\n",
       "      <td>0.009</td>\n",
       "      <td>15.814</td>\n",
       "      <td>3.088</td>\n",
       "    </tr>\n",
       "  </tbody>\n",
       "</table>\n",
       "</div>"
      ],
      "text/plain": [
       "              Blue   White  Military  School   Home\n",
       "0.000 0     22.551  20.846     0.552  13.076  2.975\n",
       "      1000  14.422  27.632     0.114  14.715  3.117\n",
       "0.010 0     22.107  21.247     0.489  13.177  2.980\n",
       "      1000  14.070  27.934     0.082  14.817  3.097\n",
       "0.020 0     21.965  21.364     0.477  13.222  2.972\n",
       "      1000  13.822  28.121     0.081  14.880  3.096\n",
       "0.100 0     21.014  22.151     0.397  13.458  2.980\n",
       "      1000  12.857  28.867     0.065  15.135  3.076\n",
       "0.200 0     19.669  23.192     0.348  13.772  3.019\n",
       "      1000  12.244  29.315     0.049  15.310  3.082\n",
       "0.300 0     18.348  24.263     0.277  14.062  3.050\n",
       "      1000  11.814  29.649     0.023  15.441  3.073\n",
       "0.400 0     17.232  25.167     0.224  14.302  3.075\n",
       "      1000  11.597  29.766     0.023  15.528  3.086\n",
       "0.500 0     16.500  25.718     0.203  14.473  3.106\n",
       "      1000  11.424  29.877     0.016  15.595  3.088\n",
       "0.600 0     15.975  26.161     0.148  14.599  3.117\n",
       "      1000  11.231  29.987     0.016  15.670  3.096\n",
       "0.700 0     15.326  26.683     0.101  14.763  3.127\n",
       "      1000  11.192  29.989     0.015  15.713  3.091\n",
       "0.800 0     14.925  26.996     0.075  14.860  3.144\n",
       "      1000  11.171  29.965     0.015  15.750  3.099\n",
       "0.900 0     14.308  27.472     0.061  15.000  3.159\n",
       "      1000  11.102  29.998     0.015  15.793  3.092\n",
       "1.000 0     14.076  27.629     0.059  15.074  3.162\n",
       "      1000  11.168  29.921     0.009  15.814  3.088"
      ]
     },
     "execution_count": 16,
     "metadata": {},
     "output_type": "execute_result"
    },
    {
     "data": {
      "application/javascript": [
       "\n",
       "            setTimeout(function() {\n",
       "                var nbb_cell_id = 16;\n",
       "                var nbb_unformatted_code = \"effect_ambiguity_ts_experiences_kw97(\\n    vdense_ambiguity_levels,\\n    tuition_subsidies,\\n    simulated_vdense_ambiguity_ts_models_kw97,\\n    initial_years_schooling_kw97,\\n    n_periods_kw97,\\n)\";\n",
       "                var nbb_formatted_code = \"effect_ambiguity_ts_experiences_kw97(\\n    vdense_ambiguity_levels,\\n    tuition_subsidies,\\n    simulated_vdense_ambiguity_ts_models_kw97,\\n    initial_years_schooling_kw97,\\n    n_periods_kw97,\\n)\";\n",
       "                var nbb_cells = Jupyter.notebook.get_cells();\n",
       "                for (var i = 0; i < nbb_cells.length; ++i) {\n",
       "                    if (nbb_cells[i].input_prompt_number == nbb_cell_id) {\n",
       "                        if (nbb_cells[i].get_text() == nbb_unformatted_code) {\n",
       "                             nbb_cells[i].set_text(nbb_formatted_code);\n",
       "                        }\n",
       "                        break;\n",
       "                    }\n",
       "                }\n",
       "            }, 500);\n",
       "            "
      ],
      "text/plain": [
       "<IPython.core.display.Javascript object>"
      ]
     },
     "metadata": {},
     "output_type": "display_data"
    }
   ],
   "source": [
    "effect_ambiguity_ts_experiences_kw97(\n",
    "    vdense_ambiguity_levels,\n",
    "    tuition_subsidies,\n",
    "    simulated_vdense_ambiguity_ts_models_kw97,\n",
    "    initial_years_schooling_kw97,\n",
    "    n_periods_kw97,\n",
    ")"
   ]
  },
  {
   "cell_type": "code",
   "execution_count": 17,
   "metadata": {},
   "outputs": [
    {
     "data": {
      "text/html": [
       "<div>\n",
       "<style scoped>\n",
       "    .dataframe tbody tr th:only-of-type {\n",
       "        vertical-align: middle;\n",
       "    }\n",
       "\n",
       "    .dataframe tbody tr th {\n",
       "        vertical-align: top;\n",
       "    }\n",
       "\n",
       "    .dataframe thead th {\n",
       "        text-align: right;\n",
       "    }\n",
       "</style>\n",
       "<table border=\"1\" class=\"dataframe\">\n",
       "  <thead>\n",
       "    <tr style=\"text-align: right;\">\n",
       "      <th></th>\n",
       "      <th></th>\n",
       "      <th>Blue</th>\n",
       "      <th>White</th>\n",
       "      <th>Military</th>\n",
       "      <th>School</th>\n",
       "      <th>Home</th>\n",
       "    </tr>\n",
       "  </thead>\n",
       "  <tbody>\n",
       "    <tr>\n",
       "      <th rowspan=\"2\" valign=\"top\">0.000</th>\n",
       "      <th>0</th>\n",
       "      <td>22.551</td>\n",
       "      <td>20.846</td>\n",
       "      <td>0.552</td>\n",
       "      <td>13.076</td>\n",
       "      <td>2.975</td>\n",
       "    </tr>\n",
       "    <tr>\n",
       "      <th>1000</th>\n",
       "      <td>14.422</td>\n",
       "      <td>27.632</td>\n",
       "      <td>0.114</td>\n",
       "      <td>14.715</td>\n",
       "      <td>3.117</td>\n",
       "    </tr>\n",
       "    <tr>\n",
       "      <th rowspan=\"2\" valign=\"top\">1.000</th>\n",
       "      <th>0</th>\n",
       "      <td>14.076</td>\n",
       "      <td>27.629</td>\n",
       "      <td>0.059</td>\n",
       "      <td>15.074</td>\n",
       "      <td>3.162</td>\n",
       "    </tr>\n",
       "    <tr>\n",
       "      <th>1000</th>\n",
       "      <td>11.168</td>\n",
       "      <td>29.921</td>\n",
       "      <td>0.009</td>\n",
       "      <td>15.814</td>\n",
       "      <td>3.088</td>\n",
       "    </tr>\n",
       "    <tr>\n",
       "      <th rowspan=\"2\" valign=\"top\">2.000</th>\n",
       "      <th>0</th>\n",
       "      <td>12.926</td>\n",
       "      <td>28.231</td>\n",
       "      <td>0.024</td>\n",
       "      <td>15.558</td>\n",
       "      <td>3.261</td>\n",
       "    </tr>\n",
       "    <tr>\n",
       "      <th>1000</th>\n",
       "      <td>11.670</td>\n",
       "      <td>29.196</td>\n",
       "      <td>0.008</td>\n",
       "      <td>15.952</td>\n",
       "      <td>3.174</td>\n",
       "    </tr>\n",
       "    <tr>\n",
       "      <th rowspan=\"2\" valign=\"top\">3.000</th>\n",
       "      <th>0</th>\n",
       "      <td>13.283</td>\n",
       "      <td>27.647</td>\n",
       "      <td>0.030</td>\n",
       "      <td>15.664</td>\n",
       "      <td>3.376</td>\n",
       "    </tr>\n",
       "    <tr>\n",
       "      <th>1000</th>\n",
       "      <td>12.421</td>\n",
       "      <td>28.322</td>\n",
       "      <td>0.018</td>\n",
       "      <td>15.990</td>\n",
       "      <td>3.249</td>\n",
       "    </tr>\n",
       "    <tr>\n",
       "      <th rowspan=\"2\" valign=\"top\">4.000</th>\n",
       "      <th>0</th>\n",
       "      <td>13.697</td>\n",
       "      <td>27.102</td>\n",
       "      <td>0.032</td>\n",
       "      <td>15.718</td>\n",
       "      <td>3.451</td>\n",
       "    </tr>\n",
       "    <tr>\n",
       "      <th>1000</th>\n",
       "      <td>12.908</td>\n",
       "      <td>27.720</td>\n",
       "      <td>0.014</td>\n",
       "      <td>16.026</td>\n",
       "      <td>3.332</td>\n",
       "    </tr>\n",
       "    <tr>\n",
       "      <th rowspan=\"2\" valign=\"top\">5.000</th>\n",
       "      <th>0</th>\n",
       "      <td>14.178</td>\n",
       "      <td>26.507</td>\n",
       "      <td>0.065</td>\n",
       "      <td>15.740</td>\n",
       "      <td>3.510</td>\n",
       "    </tr>\n",
       "    <tr>\n",
       "      <th>1000</th>\n",
       "      <td>13.497</td>\n",
       "      <td>27.040</td>\n",
       "      <td>0.050</td>\n",
       "      <td>16.036</td>\n",
       "      <td>3.377</td>\n",
       "    </tr>\n",
       "  </tbody>\n",
       "</table>\n",
       "</div>"
      ],
      "text/plain": [
       "              Blue   White  Military  School   Home\n",
       "0.000 0     22.551  20.846     0.552  13.076  2.975\n",
       "      1000  14.422  27.632     0.114  14.715  3.117\n",
       "1.000 0     14.076  27.629     0.059  15.074  3.162\n",
       "      1000  11.168  29.921     0.009  15.814  3.088\n",
       "2.000 0     12.926  28.231     0.024  15.558  3.261\n",
       "      1000  11.670  29.196     0.008  15.952  3.174\n",
       "3.000 0     13.283  27.647     0.030  15.664  3.376\n",
       "      1000  12.421  28.322     0.018  15.990  3.249\n",
       "4.000 0     13.697  27.102     0.032  15.718  3.451\n",
       "      1000  12.908  27.720     0.014  16.026  3.332\n",
       "5.000 0     14.178  26.507     0.065  15.740  3.510\n",
       "      1000  13.497  27.040     0.050  16.036  3.377"
      ]
     },
     "execution_count": 17,
     "metadata": {},
     "output_type": "execute_result"
    },
    {
     "data": {
      "application/javascript": [
       "\n",
       "            setTimeout(function() {\n",
       "                var nbb_cell_id = 17;\n",
       "                var nbb_unformatted_code = \"effect_ambiguity_ts_experiences_kw97(\\n    spread_ambiguity_levels,\\n    tuition_subsidies,\\n    simulated_spread_ambiguity_ts_models_kw97,\\n    initial_years_schooling_kw97,\\n    n_periods_kw97,\\n)\";\n",
       "                var nbb_formatted_code = \"effect_ambiguity_ts_experiences_kw97(\\n    spread_ambiguity_levels,\\n    tuition_subsidies,\\n    simulated_spread_ambiguity_ts_models_kw97,\\n    initial_years_schooling_kw97,\\n    n_periods_kw97,\\n)\";\n",
       "                var nbb_cells = Jupyter.notebook.get_cells();\n",
       "                for (var i = 0; i < nbb_cells.length; ++i) {\n",
       "                    if (nbb_cells[i].input_prompt_number == nbb_cell_id) {\n",
       "                        if (nbb_cells[i].get_text() == nbb_unformatted_code) {\n",
       "                             nbb_cells[i].set_text(nbb_formatted_code);\n",
       "                        }\n",
       "                        break;\n",
       "                    }\n",
       "                }\n",
       "            }, 500);\n",
       "            "
      ],
      "text/plain": [
       "<IPython.core.display.Javascript object>"
      ]
     },
     "metadata": {},
     "output_type": "display_data"
    }
   ],
   "source": [
    "effect_ambiguity_ts_experiences_kw97(\n",
    "    spread_ambiguity_levels,\n",
    "    tuition_subsidies,\n",
    "    simulated_spread_ambiguity_ts_models_kw97,\n",
    "    initial_years_schooling_kw97,\n",
    "    n_periods_kw97,\n",
    ")"
   ]
  },
  {
   "cell_type": "markdown",
   "metadata": {},
   "source": [
    "<div class=\"alert alert-block alert-warning\"> \n",
    "<u><b>Let ambiguity and tuitions subsidies in!</b></u></div>\n",
    "\n",
    "- `dict_ambiguity_levels`   \n",
    "dictionary that contains a name (first entry) along with specified ambiguity levels\n",
    "- `simulated_ambiguity_model`   \n",
    "pd.DataFrame with the simulated decisions of the agents given by the model $\\mathcal{M}(\\theta)$\n",
    "- `dict_simulated_ambiguity_models`   \n",
    "dictionary that contains a `simulated_ambiguity_model` for each ambiguity level specified in `dict_ambiguity_levels`  \n",
    "- `df_params`  \n",
    "pd.DataFrame that contains the desired parametrization of the model $\\mathcal{M}(\\theta)$\n",
    "- `dict_options`  \n",
    "dictionary that contains the options for the simulation of the model"
   ]
  }
 ],
 "metadata": {
  "kernelspec": {
   "display_name": "Python 3",
   "language": "python",
   "name": "python3"
  },
  "language_info": {
   "codemirror_mode": {
    "name": "ipython",
    "version": 3
   },
   "file_extension": ".py",
   "mimetype": "text/x-python",
   "name": "python",
   "nbconvert_exporter": "python",
   "pygments_lexer": "ipython3",
   "version": "3.7.6"
  }
 },
 "nbformat": 4,
 "nbformat_minor": 4
}

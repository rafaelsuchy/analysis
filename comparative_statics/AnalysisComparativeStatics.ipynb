{
 "cells": [
  {
   "cell_type": "markdown",
   "metadata": {},
   "source": [
    "<div class=\"alert alert-block alert-info\">\n",
    "<h1> Comparative statics analysis </h1></div>"
   ]
  },
  {
   "cell_type": "code",
   "execution_count": 1,
   "metadata": {},
   "outputs": [
    {
     "data": {
      "application/javascript": [
       "\n",
       "            setTimeout(function() {\n",
       "                var nbb_cell_id = 1;\n",
       "                var nbb_unformatted_code = \"import respy as rp\\nimport numpy as np\\nimport pandas as pd\\nimport pickle as pkl\\nimport matplotlib.pyplot as plt\\n\\nfrom dicts_ambiguity_levels import dense_ambiguity_levels\\nfrom dicts_ambiguity_levels import spread_ambiguity_levels\\nfrom analysis_comparative_statics import effect_ambiguity_experiences_kw94\\nfrom analysis_comparative_statics import plot_effect_ambiguity_choiceshare_kw94\\nfrom analysis_comparative_statics import eu_loss_ambiguity\\nfrom analysis_comparative_statics import effect_ambiguity_ts_experiences_kw94\\n\\n\\n%load_ext nb_black\";\n",
       "                var nbb_formatted_code = \"import respy as rp\\nimport numpy as np\\nimport pandas as pd\\nimport pickle as pkl\\nimport matplotlib.pyplot as plt\\n\\nfrom dicts_ambiguity_levels import dense_ambiguity_levels\\nfrom dicts_ambiguity_levels import spread_ambiguity_levels\\nfrom analysis_comparative_statics import effect_ambiguity_experiences_kw94\\nfrom analysis_comparative_statics import plot_effect_ambiguity_choiceshare_kw94\\nfrom analysis_comparative_statics import eu_loss_ambiguity\\nfrom analysis_comparative_statics import effect_ambiguity_ts_experiences_kw94\\n\\n\\n%load_ext nb_black\";\n",
       "                var nbb_cells = Jupyter.notebook.get_cells();\n",
       "                for (var i = 0; i < nbb_cells.length; ++i) {\n",
       "                    if (nbb_cells[i].input_prompt_number == nbb_cell_id) {\n",
       "                        if (nbb_cells[i].get_text() == nbb_unformatted_code) {\n",
       "                             nbb_cells[i].set_text(nbb_formatted_code);\n",
       "                        }\n",
       "                        break;\n",
       "                    }\n",
       "                }\n",
       "            }, 500);\n",
       "            "
      ],
      "text/plain": [
       "<IPython.core.display.Javascript object>"
      ]
     },
     "metadata": {},
     "output_type": "display_data"
    }
   ],
   "source": [
    "import pickle as pkl\n",
    "\n",
    "from dicts_ambiguity_levels import dense_ambiguity_levels\n",
    "from analysis_comparative_statics import effect_ambiguity_experiences_kw94\n",
    "from analysis_comparative_statics import plot_effect_ambiguity_choiceshare_kw94\n",
    "from analysis_comparative_statics import eu_loss_ambiguity\n",
    "from analysis_comparative_statics import effect_ambiguity_ts_experiences_kw94\n",
    "\n",
    "%load_ext nb_black"
   ]
  },
  {
   "cell_type": "markdown",
   "metadata": {},
   "source": [
    "<div class=\"alert alert-block alert-success\"> \n",
    "<u><b>Get simulated models</b></u></div>\n",
    "\n",
    "Based on simulated models (each for one ambiguity level) we will perform the comparative static analysis with respect to a change in the ambiguity level.\n",
    "\n",
    "First, we will load models that were simulated on a dense and a spread ambiguity grid."
   ]
  },
  {
   "cell_type": "code",
   "execution_count": 2,
   "metadata": {},
   "outputs": [
    {
     "data": {
      "application/javascript": [
       "\n",
       "            setTimeout(function() {\n",
       "                var nbb_cell_id = 2;\n",
       "                var nbb_unformatted_code = \"simulated_dense_ambiguity_models_kw94 = pkl.load(\\n    open(\\\"sim_dense_ambiguity_models_kw94.pkl\\\", \\\"rb\\\")\\n)\\nsimulated_spread_ambiguity_models_kw94 = pkl.load(\\n    open(\\\"sim_spread_ambiguity_models_kw94.pkl\\\", \\\"rb\\\")\\n)\";\n",
       "                var nbb_formatted_code = \"simulated_dense_ambiguity_models_kw94 = pkl.load(\\n    open(\\\"sim_dense_ambiguity_models_kw94.pkl\\\", \\\"rb\\\")\\n)\\nsimulated_spread_ambiguity_models_kw94 = pkl.load(\\n    open(\\\"sim_spread_ambiguity_models_kw94.pkl\\\", \\\"rb\\\")\\n)\";\n",
       "                var nbb_cells = Jupyter.notebook.get_cells();\n",
       "                for (var i = 0; i < nbb_cells.length; ++i) {\n",
       "                    if (nbb_cells[i].input_prompt_number == nbb_cell_id) {\n",
       "                        if (nbb_cells[i].get_text() == nbb_unformatted_code) {\n",
       "                             nbb_cells[i].set_text(nbb_formatted_code);\n",
       "                        }\n",
       "                        break;\n",
       "                    }\n",
       "                }\n",
       "            }, 500);\n",
       "            "
      ],
      "text/plain": [
       "<IPython.core.display.Javascript object>"
      ]
     },
     "metadata": {},
     "output_type": "display_data"
    }
   ],
   "source": [
    "simulated_dense_ambiguity_models_kw94 = pkl.load(\n",
    "    open(\"sim_dense_ambiguity_models_kw94.pkl\", \"rb\")\n",
    ")\n",
    "simulated_spread_ambiguity_models_kw94 = pkl.load(\n",
    "    open(\"sim_spread_ambiguity_models_kw94.pkl\", \"rb\")\n",
    ")"
   ]
  },
  {
   "cell_type": "markdown",
   "metadata": {},
   "source": [
    "<div class=\"alert alert-block alert-success\"> \n",
    "<u><b>Effect ambiguity on average experience</b></u></div>\n",
    "\n",
    "We will investigate how the increase of ambiguity will impact the average experience spent in a blue-collar or white-collar occupation, school, or at home.\n",
    "\n",
    "The following data frames indicate that an increase of ambiguity (up to $\\eta = 0.200$) leads to an increase in schooling, and simultaneously in an increase in white-collar occupation. At the same time, engagement in blue-collar occupations decrease.\n",
    "\n",
    "Remarkably, the largest relative effects are observed for \"small\" changes of the ambiguity set. For an ambiguity level above $\\eta = 0.100$ an increase in ambiguity does not alter the average experience by much. The reason: For such ambiguity levels the maximum amount of schooling $\\bar{h}_t$ is already exhausted."
   ]
  },
  {
   "cell_type": "code",
   "execution_count": 3,
   "metadata": {},
   "outputs": [
    {
     "data": {
      "text/html": [
       "<div>\n",
       "<style scoped>\n",
       "    .dataframe tbody tr th:only-of-type {\n",
       "        vertical-align: middle;\n",
       "    }\n",
       "\n",
       "    .dataframe tbody tr th {\n",
       "        vertical-align: top;\n",
       "    }\n",
       "\n",
       "    .dataframe thead th {\n",
       "        text-align: right;\n",
       "    }\n",
       "</style>\n",
       "<table border=\"1\" class=\"dataframe\">\n",
       "  <thead>\n",
       "    <tr style=\"text-align: right;\">\n",
       "      <th></th>\n",
       "      <th>Blue</th>\n",
       "      <th>White</th>\n",
       "      <th>School</th>\n",
       "      <th>Home</th>\n",
       "    </tr>\n",
       "  </thead>\n",
       "  <tbody>\n",
       "    <tr>\n",
       "      <th>0.000</th>\n",
       "      <td>23.122</td>\n",
       "      <td>10.998</td>\n",
       "      <td>12.438</td>\n",
       "      <td>3.442</td>\n",
       "    </tr>\n",
       "    <tr>\n",
       "      <th>0.010</th>\n",
       "      <td>15.831</td>\n",
       "      <td>16.791</td>\n",
       "      <td>15.174</td>\n",
       "      <td>2.204</td>\n",
       "    </tr>\n",
       "    <tr>\n",
       "      <th>0.020</th>\n",
       "      <td>11.901</td>\n",
       "      <td>19.643</td>\n",
       "      <td>16.819</td>\n",
       "      <td>1.637</td>\n",
       "    </tr>\n",
       "    <tr>\n",
       "      <th>0.100</th>\n",
       "      <td>5.451</td>\n",
       "      <td>23.816</td>\n",
       "      <td>19.711</td>\n",
       "      <td>1.022</td>\n",
       "    </tr>\n",
       "    <tr>\n",
       "      <th>0.200</th>\n",
       "      <td>4.598</td>\n",
       "      <td>24.432</td>\n",
       "      <td>19.960</td>\n",
       "      <td>1.010</td>\n",
       "    </tr>\n",
       "    <tr>\n",
       "      <th>0.500</th>\n",
       "      <td>3.745</td>\n",
       "      <td>25.248</td>\n",
       "      <td>20.000</td>\n",
       "      <td>1.007</td>\n",
       "    </tr>\n",
       "    <tr>\n",
       "      <th>1.000</th>\n",
       "      <td>3.163</td>\n",
       "      <td>25.831</td>\n",
       "      <td>20.000</td>\n",
       "      <td>1.006</td>\n",
       "    </tr>\n",
       "    <tr>\n",
       "      <th>1.500</th>\n",
       "      <td>2.852</td>\n",
       "      <td>26.143</td>\n",
       "      <td>20.000</td>\n",
       "      <td>1.005</td>\n",
       "    </tr>\n",
       "  </tbody>\n",
       "</table>\n",
       "</div>"
      ],
      "text/plain": [
       "         Blue   White  School   Home\n",
       "0.000  23.122  10.998  12.438  3.442\n",
       "0.010  15.831  16.791  15.174  2.204\n",
       "0.020  11.901  19.643  16.819  1.637\n",
       "0.100   5.451  23.816  19.711  1.022\n",
       "0.200   4.598  24.432  19.960  1.010\n",
       "0.500   3.745  25.248  20.000  1.007\n",
       "1.000   3.163  25.831  20.000  1.006\n",
       "1.500   2.852  26.143  20.000  1.005"
      ]
     },
     "execution_count": 3,
     "metadata": {},
     "output_type": "execute_result"
    },
    {
     "data": {
      "application/javascript": [
       "\n",
       "            setTimeout(function() {\n",
       "                var nbb_cell_id = 3;\n",
       "                var nbb_unformatted_code = \"effect_ambiguity_experiences_kw94(simulated_dense_ambiguity_models_kw94)\";\n",
       "                var nbb_formatted_code = \"effect_ambiguity_experiences_kw94(simulated_dense_ambiguity_models_kw94)\";\n",
       "                var nbb_cells = Jupyter.notebook.get_cells();\n",
       "                for (var i = 0; i < nbb_cells.length; ++i) {\n",
       "                    if (nbb_cells[i].input_prompt_number == nbb_cell_id) {\n",
       "                        if (nbb_cells[i].get_text() == nbb_unformatted_code) {\n",
       "                             nbb_cells[i].set_text(nbb_formatted_code);\n",
       "                        }\n",
       "                        break;\n",
       "                    }\n",
       "                }\n",
       "            }, 500);\n",
       "            "
      ],
      "text/plain": [
       "<IPython.core.display.Javascript object>"
      ]
     },
     "metadata": {},
     "output_type": "display_data"
    }
   ],
   "source": [
    "effect_ambiguity_experiences_kw94(simulated_dense_ambiguity_models_kw94)"
   ]
  },
  {
   "cell_type": "code",
   "execution_count": 4,
   "metadata": {},
   "outputs": [
    {
     "data": {
      "text/html": [
       "<div>\n",
       "<style scoped>\n",
       "    .dataframe tbody tr th:only-of-type {\n",
       "        vertical-align: middle;\n",
       "    }\n",
       "\n",
       "    .dataframe tbody tr th {\n",
       "        vertical-align: top;\n",
       "    }\n",
       "\n",
       "    .dataframe thead th {\n",
       "        text-align: right;\n",
       "    }\n",
       "</style>\n",
       "<table border=\"1\" class=\"dataframe\">\n",
       "  <thead>\n",
       "    <tr style=\"text-align: right;\">\n",
       "      <th></th>\n",
       "      <th>Blue</th>\n",
       "      <th>White</th>\n",
       "      <th>School</th>\n",
       "      <th>Home</th>\n",
       "    </tr>\n",
       "  </thead>\n",
       "  <tbody>\n",
       "    <tr>\n",
       "      <th>0.000</th>\n",
       "      <td>23.122</td>\n",
       "      <td>10.998</td>\n",
       "      <td>12.438</td>\n",
       "      <td>3.442</td>\n",
       "    </tr>\n",
       "    <tr>\n",
       "      <th>1.000</th>\n",
       "      <td>3.163</td>\n",
       "      <td>25.831</td>\n",
       "      <td>20.000</td>\n",
       "      <td>1.006</td>\n",
       "    </tr>\n",
       "    <tr>\n",
       "      <th>2.000</th>\n",
       "      <td>2.655</td>\n",
       "      <td>26.340</td>\n",
       "      <td>20.000</td>\n",
       "      <td>1.005</td>\n",
       "    </tr>\n",
       "    <tr>\n",
       "      <th>3.000</th>\n",
       "      <td>2.451</td>\n",
       "      <td>26.545</td>\n",
       "      <td>20.000</td>\n",
       "      <td>1.004</td>\n",
       "    </tr>\n",
       "    <tr>\n",
       "      <th>4.000</th>\n",
       "      <td>2.336</td>\n",
       "      <td>26.662</td>\n",
       "      <td>20.000</td>\n",
       "      <td>1.002</td>\n",
       "    </tr>\n",
       "    <tr>\n",
       "      <th>5.000</th>\n",
       "      <td>2.277</td>\n",
       "      <td>26.721</td>\n",
       "      <td>20.000</td>\n",
       "      <td>1.002</td>\n",
       "    </tr>\n",
       "  </tbody>\n",
       "</table>\n",
       "</div>"
      ],
      "text/plain": [
       "         Blue   White  School   Home\n",
       "0.000  23.122  10.998  12.438  3.442\n",
       "1.000   3.163  25.831  20.000  1.006\n",
       "2.000   2.655  26.340  20.000  1.005\n",
       "3.000   2.451  26.545  20.000  1.004\n",
       "4.000   2.336  26.662  20.000  1.002\n",
       "5.000   2.277  26.721  20.000  1.002"
      ]
     },
     "execution_count": 4,
     "metadata": {},
     "output_type": "execute_result"
    },
    {
     "data": {
      "application/javascript": [
       "\n",
       "            setTimeout(function() {\n",
       "                var nbb_cell_id = 4;\n",
       "                var nbb_unformatted_code = \"effect_ambiguity_experiences_kw94(simulated_spread_ambiguity_models_kw94)\";\n",
       "                var nbb_formatted_code = \"effect_ambiguity_experiences_kw94(simulated_spread_ambiguity_models_kw94)\";\n",
       "                var nbb_cells = Jupyter.notebook.get_cells();\n",
       "                for (var i = 0; i < nbb_cells.length; ++i) {\n",
       "                    if (nbb_cells[i].input_prompt_number == nbb_cell_id) {\n",
       "                        if (nbb_cells[i].get_text() == nbb_unformatted_code) {\n",
       "                             nbb_cells[i].set_text(nbb_formatted_code);\n",
       "                        }\n",
       "                        break;\n",
       "                    }\n",
       "                }\n",
       "            }, 500);\n",
       "            "
      ],
      "text/plain": [
       "<IPython.core.display.Javascript object>"
      ]
     },
     "metadata": {},
     "output_type": "display_data"
    }
   ],
   "source": [
    "effect_ambiguity_experiences_kw94(simulated_spread_ambiguity_models_kw94)"
   ]
  },
  {
   "cell_type": "markdown",
   "metadata": {},
   "source": [
    "We will complement our predceding analysis by investigating the share of individuals that are in a certain occupation for a given period $t$. To do so, we will select a subset of ambiguity levels that are promising to investigate, `al_selected_dense`. \n",
    "\n",
    "The function `plot_effect_ambiguity_choiceshare_kw94` takes the dictionary of simulated ambiguity models and the list (`al_selected_dense`) of selected ambiguity levels. A string can be attached to add a identifier to the file name. The plot will be saved as `.pdf` in the current directory.\n",
    "\n",
    "**Note:** The selected ambiguity levels have to be a subset of the simulated ambiguity levels, e.g. a subset of `dense_ambiguity_levels`."
   ]
  },
  {
   "cell_type": "code",
   "execution_count": 16,
   "metadata": {},
   "outputs": [
    {
     "name": "stdout",
     "output_type": "stream",
     "text": [
      "List of simulated ambiguity levels: ['dense', 0.0, 0.01, 0.02, 0.1, 0.2, 0.5, 1.0, 1.5] .\n"
     ]
    },
    {
     "data": {
      "application/javascript": [
       "\n",
       "            setTimeout(function() {\n",
       "                var nbb_cell_id = 16;\n",
       "                var nbb_unformatted_code = \"print(\\\"List of simulated ambiguity levels:\\\", list(dense_ambiguity_levels.values()), \\\".\\\")\";\n",
       "                var nbb_formatted_code = \"print(\\\"List of simulated ambiguity levels:\\\", list(dense_ambiguity_levels.values()), \\\".\\\")\";\n",
       "                var nbb_cells = Jupyter.notebook.get_cells();\n",
       "                for (var i = 0; i < nbb_cells.length; ++i) {\n",
       "                    if (nbb_cells[i].input_prompt_number == nbb_cell_id) {\n",
       "                        if (nbb_cells[i].get_text() == nbb_unformatted_code) {\n",
       "                             nbb_cells[i].set_text(nbb_formatted_code);\n",
       "                        }\n",
       "                        break;\n",
       "                    }\n",
       "                }\n",
       "            }, 500);\n",
       "            "
      ],
      "text/plain": [
       "<IPython.core.display.Javascript object>"
      ]
     },
     "metadata": {},
     "output_type": "display_data"
    }
   ],
   "source": [
    "print(\n",
    "    \"List of simulated ambiguity levels:\",\n",
    "    list(dense_ambiguity_levels.values()),\n",
    "    \".\",\n",
    ")"
   ]
  },
  {
   "cell_type": "code",
   "execution_count": 6,
   "metadata": {},
   "outputs": [
    {
     "data": {
      "application/javascript": [
       "\n",
       "            setTimeout(function() {\n",
       "                var nbb_cell_id = 6;\n",
       "                var nbb_unformatted_code = \"al_selected_dense = [\\\"0.000\\\", \\\"0.010\\\", \\\"0.020\\\", \\\"0.500\\\"]\";\n",
       "                var nbb_formatted_code = \"al_selected_dense = [\\\"0.000\\\", \\\"0.010\\\", \\\"0.020\\\", \\\"0.500\\\"]\";\n",
       "                var nbb_cells = Jupyter.notebook.get_cells();\n",
       "                for (var i = 0; i < nbb_cells.length; ++i) {\n",
       "                    if (nbb_cells[i].input_prompt_number == nbb_cell_id) {\n",
       "                        if (nbb_cells[i].get_text() == nbb_unformatted_code) {\n",
       "                             nbb_cells[i].set_text(nbb_formatted_code);\n",
       "                        }\n",
       "                        break;\n",
       "                    }\n",
       "                }\n",
       "            }, 500);\n",
       "            "
      ],
      "text/plain": [
       "<IPython.core.display.Javascript object>"
      ]
     },
     "metadata": {},
     "output_type": "display_data"
    }
   ],
   "source": [
    "al_selected_dense = [\"0.000\", \"0.010\", \"0.020\", \"0.500\"]"
   ]
  },
  {
   "cell_type": "code",
   "execution_count": 7,
   "metadata": {},
   "outputs": [
    {
     "data": {
      "image/png": "[encoded data removed]",
      "text/plain": [
       "<Figure size 1440x288 with 4 Axes>"
      ]
     },
     "metadata": {
      "needs_background": "light"
     },
     "output_type": "display_data"
    },
    {
     "data": {
      "application/javascript": [
       "\n",
       "            setTimeout(function() {\n",
       "                var nbb_cell_id = 7;\n",
       "                var nbb_unformatted_code = \"plot_effect_ambiguity_choiceshare_kw94(\\n    simulated_dense_ambiguity_models_kw94, al_selected_dense, \\\"dense\\\"\\n)\";\n",
       "                var nbb_formatted_code = \"plot_effect_ambiguity_choiceshare_kw94(\\n    simulated_dense_ambiguity_models_kw94, al_selected_dense, \\\"dense\\\"\\n)\";\n",
       "                var nbb_cells = Jupyter.notebook.get_cells();\n",
       "                for (var i = 0; i < nbb_cells.length; ++i) {\n",
       "                    if (nbb_cells[i].input_prompt_number == nbb_cell_id) {\n",
       "                        if (nbb_cells[i].get_text() == nbb_unformatted_code) {\n",
       "                             nbb_cells[i].set_text(nbb_formatted_code);\n",
       "                        }\n",
       "                        break;\n",
       "                    }\n",
       "                }\n",
       "            }, 500);\n",
       "            "
      ],
      "text/plain": [
       "<IPython.core.display.Javascript object>"
      ]
     },
     "metadata": {},
     "output_type": "display_data"
    }
   ],
   "source": [
    "plot_effect_ambiguity_choiceshare_kw94(\n",
    "    simulated_dense_ambiguity_models_kw94, al_selected_dense, \"dense\"\n",
    ")"
   ]
  },
  {
   "cell_type": "markdown",
   "metadata": {},
   "source": [
    "<div class=\"alert alert-block alert-success\"> \n",
    "<u><b>Effect ambiguity on expected utility</b></u></div>"
   ]
  },
  {
   "cell_type": "markdown",
   "metadata": {},
   "source": [
    "It is necessary to specify the indexes of the value functions in the respective KW94 or KW97 models."
   ]
  },
  {
   "cell_type": "code",
   "execution_count": 8,
   "metadata": {},
   "outputs": [
    {
     "data": {
      "application/javascript": [
       "\n",
       "            setTimeout(function() {\n",
       "                var nbb_cell_id = 8;\n",
       "                var nbb_unformatted_code = \"indexes_value_func_kw94 = [\\n    \\\"Value_Function_A\\\",\\n    \\\"Value_Function_B\\\",\\n    \\\"Value_Function_Edu\\\",\\n    \\\"Value_Function_Home\\\",\\n]\";\n",
       "                var nbb_formatted_code = \"indexes_value_func_kw94 = [\\n    \\\"Value_Function_A\\\",\\n    \\\"Value_Function_B\\\",\\n    \\\"Value_Function_Edu\\\",\\n    \\\"Value_Function_Home\\\",\\n]\";\n",
       "                var nbb_cells = Jupyter.notebook.get_cells();\n",
       "                for (var i = 0; i < nbb_cells.length; ++i) {\n",
       "                    if (nbb_cells[i].input_prompt_number == nbb_cell_id) {\n",
       "                        if (nbb_cells[i].get_text() == nbb_unformatted_code) {\n",
       "                             nbb_cells[i].set_text(nbb_formatted_code);\n",
       "                        }\n",
       "                        break;\n",
       "                    }\n",
       "                }\n",
       "            }, 500);\n",
       "            "
      ],
      "text/plain": [
       "<IPython.core.display.Javascript object>"
      ]
     },
     "metadata": {},
     "output_type": "display_data"
    }
   ],
   "source": [
    "indexes_value_func_kw94 = [\n",
    "    \"Value_Function_A\",\n",
    "    \"Value_Function_B\",\n",
    "    \"Value_Function_Edu\",\n",
    "    \"Value_Function_Home\",\n",
    "]"
   ]
  },
  {
   "cell_type": "markdown",
   "metadata": {},
   "source": [
    "The function **`eu_loss_ambiguity`**\n",
    "calculates for each simulated ambiguity model the maximum expected utility as average of the individual maximum expected utilities. In particular, for each individual decision-maker $i \\in \\{1, \\dots, N \\}$ the maximum value of $v_1^{\\pi^*}(s_1)$ will be retrieved. \n",
    "The expected utility EU under a model $\\mathcal{M}(\\theta; \\eta)$ is then given by \n",
    "$$ \\text{EU}_{\\eta = a} \\equiv \\sum_{i=1}^N \\frac{1}{N} v_{i1}^{\\pi_i^*}(s_{i1}). $$\n",
    "\n",
    "The expected utility loss is defined as \n",
    "\n",
    "$$ \\text{EU_loss}_{\\eta = a} \\equiv \\left| \\frac{ \\text{EU}_{\\eta = 0} - \\text{EU}_{\\eta = a}}{\\text{EU}_{\\eta = 0}} \\right|, $$\n",
    "\n",
    "where $\\text{EU}_{\\eta = a}$ denotes the expected utiliy under a model with ambiguity level $\\eta = a$, and $\\text{EU}_{\\eta = 0}$ denotes the expected utility derived in a risk-only model."
   ]
  },
  {
   "cell_type": "code",
   "execution_count": 9,
   "metadata": {},
   "outputs": [
    {
     "data": {
      "text/html": [
       "<div>\n",
       "<style scoped>\n",
       "    .dataframe tbody tr th:only-of-type {\n",
       "        vertical-align: middle;\n",
       "    }\n",
       "\n",
       "    .dataframe tbody tr th {\n",
       "        vertical-align: top;\n",
       "    }\n",
       "\n",
       "    .dataframe thead th {\n",
       "        text-align: right;\n",
       "    }\n",
       "</style>\n",
       "<table border=\"1\" class=\"dataframe\">\n",
       "  <thead>\n",
       "    <tr style=\"text-align: right;\">\n",
       "      <th></th>\n",
       "      <th>EU</th>\n",
       "      <th>EU_loss</th>\n",
       "    </tr>\n",
       "  </thead>\n",
       "  <tbody>\n",
       "    <tr>\n",
       "      <th>0.000</th>\n",
       "      <td>403743.470682</td>\n",
       "      <td>0.000000</td>\n",
       "    </tr>\n",
       "    <tr>\n",
       "      <th>0.010</th>\n",
       "      <td>427585.097112</td>\n",
       "      <td>0.059051</td>\n",
       "    </tr>\n",
       "    <tr>\n",
       "      <th>0.020</th>\n",
       "      <td>439107.718090</td>\n",
       "      <td>0.087591</td>\n",
       "    </tr>\n",
       "    <tr>\n",
       "      <th>0.100</th>\n",
       "      <td>497680.064225</td>\n",
       "      <td>0.232664</td>\n",
       "    </tr>\n",
       "    <tr>\n",
       "      <th>0.200</th>\n",
       "      <td>548769.169865</td>\n",
       "      <td>0.359203</td>\n",
       "    </tr>\n",
       "    <tr>\n",
       "      <th>0.500</th>\n",
       "      <td>663582.409826</td>\n",
       "      <td>0.643574</td>\n",
       "    </tr>\n",
       "    <tr>\n",
       "      <th>1.000</th>\n",
       "      <td>810637.328862</td>\n",
       "      <td>1.007803</td>\n",
       "    </tr>\n",
       "    <tr>\n",
       "      <th>1.500</th>\n",
       "      <td>933321.386047</td>\n",
       "      <td>1.311669</td>\n",
       "    </tr>\n",
       "  </tbody>\n",
       "</table>\n",
       "</div>"
      ],
      "text/plain": [
       "                  EU   EU_loss\n",
       "0.000  403743.470682  0.000000\n",
       "0.010  427585.097112  0.059051\n",
       "0.020  439107.718090  0.087591\n",
       "0.100  497680.064225  0.232664\n",
       "0.200  548769.169865  0.359203\n",
       "0.500  663582.409826  0.643574\n",
       "1.000  810637.328862  1.007803\n",
       "1.500  933321.386047  1.311669"
      ]
     },
     "execution_count": 9,
     "metadata": {},
     "output_type": "execute_result"
    },
    {
     "data": {
      "application/javascript": [
       "\n",
       "            setTimeout(function() {\n",
       "                var nbb_cell_id = 9;\n",
       "                var nbb_unformatted_code = \"eu_loss_ambiguity(simulated_dense_ambiguity_models_kw94, indexes_value_func_kw94)\";\n",
       "                var nbb_formatted_code = \"eu_loss_ambiguity(simulated_dense_ambiguity_models_kw94, indexes_value_func_kw94)\";\n",
       "                var nbb_cells = Jupyter.notebook.get_cells();\n",
       "                for (var i = 0; i < nbb_cells.length; ++i) {\n",
       "                    if (nbb_cells[i].input_prompt_number == nbb_cell_id) {\n",
       "                        if (nbb_cells[i].get_text() == nbb_unformatted_code) {\n",
       "                             nbb_cells[i].set_text(nbb_formatted_code);\n",
       "                        }\n",
       "                        break;\n",
       "                    }\n",
       "                }\n",
       "            }, 500);\n",
       "            "
      ],
      "text/plain": [
       "<IPython.core.display.Javascript object>"
      ]
     },
     "metadata": {},
     "output_type": "display_data"
    }
   ],
   "source": [
    "eu_loss_ambiguity(\n",
    "    simulated_dense_ambiguity_models_kw94, indexes_value_func_kw94\n",
    ")"
   ]
  },
  {
   "cell_type": "markdown",
   "metadata": {},
   "source": [
    "<div class=\"alert alert-block alert-success\"> \n",
    "<u><b>Let ambiguity and tuitions subsidies in!</b></u></div>"
   ]
  },
  {
   "cell_type": "markdown",
   "metadata": {},
   "source": [
    "We want to add a layer to the analysis above, namely the effect of a tuition subsidy. Together with the information from the ambiguity analysis we can determine the cross-effect of a tuition subsidy for different ambiguity levels.\n",
    "\n",
    "We will load a simulated ambiguity-tuitionsubsidy KW 94 model and select the tuition subsidies we want to consider. In the example we simulated the model for tuition subsidies $0$ and $1000$. Hence, we will consider the effect of a $\\$ 1000$ tuition subsidy in the analysis."
   ]
  },
  {
   "cell_type": "code",
   "execution_count": 10,
   "metadata": {},
   "outputs": [
    {
     "data": {
      "application/javascript": [
       "\n",
       "            setTimeout(function() {\n",
       "                var nbb_cell_id = 10;\n",
       "                var nbb_unformatted_code = \"simulated_dense_ambiguity_ts_models_kw94 = pkl.load(\\n    open(\\\"sim_dense_ambiguity_ts_models_kw94.pkl\\\", \\\"rb\\\")\\n)\";\n",
       "                var nbb_formatted_code = \"simulated_dense_ambiguity_ts_models_kw94 = pkl.load(\\n    open(\\\"sim_dense_ambiguity_ts_models_kw94.pkl\\\", \\\"rb\\\")\\n)\";\n",
       "                var nbb_cells = Jupyter.notebook.get_cells();\n",
       "                for (var i = 0; i < nbb_cells.length; ++i) {\n",
       "                    if (nbb_cells[i].input_prompt_number == nbb_cell_id) {\n",
       "                        if (nbb_cells[i].get_text() == nbb_unformatted_code) {\n",
       "                             nbb_cells[i].set_text(nbb_formatted_code);\n",
       "                        }\n",
       "                        break;\n",
       "                    }\n",
       "                }\n",
       "            }, 500);\n",
       "            "
      ],
      "text/plain": [
       "<IPython.core.display.Javascript object>"
      ]
     },
     "metadata": {},
     "output_type": "display_data"
    }
   ],
   "source": [
    "simulated_dense_ambiguity_ts_models_kw94 = pkl.load(\n",
    "    open(\"sim_dense_ambiguity_ts_models_kw94.pkl\", \"rb\")\n",
    ")"
   ]
  },
  {
   "cell_type": "code",
   "execution_count": 11,
   "metadata": {},
   "outputs": [
    {
     "data": {
      "text/plain": [
       "['0', '1000']"
      ]
     },
     "execution_count": 11,
     "metadata": {},
     "output_type": "execute_result"
    },
    {
     "data": {
      "application/javascript": [
       "\n",
       "            setTimeout(function() {\n",
       "                var nbb_cell_id = 11;\n",
       "                var nbb_unformatted_code = \"tuition_subsidies = list(simulated_dense_ambiguity_ts_models_kw94[\\\"0.000\\\"].keys())\\ntuition_subsidies\";\n",
       "                var nbb_formatted_code = \"tuition_subsidies = list(simulated_dense_ambiguity_ts_models_kw94[\\\"0.000\\\"].keys())\\ntuition_subsidies\";\n",
       "                var nbb_cells = Jupyter.notebook.get_cells();\n",
       "                for (var i = 0; i < nbb_cells.length; ++i) {\n",
       "                    if (nbb_cells[i].input_prompt_number == nbb_cell_id) {\n",
       "                        if (nbb_cells[i].get_text() == nbb_unformatted_code) {\n",
       "                             nbb_cells[i].set_text(nbb_formatted_code);\n",
       "                        }\n",
       "                        break;\n",
       "                    }\n",
       "                }\n",
       "            }, 500);\n",
       "            "
      ],
      "text/plain": [
       "<IPython.core.display.Javascript object>"
      ]
     },
     "metadata": {},
     "output_type": "display_data"
    }
   ],
   "source": [
    "tuition_subsidies = list(\n",
    "    simulated_dense_ambiguity_ts_models_kw94[\"0.000\"].keys()\n",
    ")\n",
    "tuition_subsidies"
   ]
  },
  {
   "cell_type": "markdown",
   "metadata": {},
   "source": [
    "The effect of a tuition subsidy is largest for low ambiguity-levels.  \n",
    "In the risk-only world a $ \\$1000$ tuition subsidy increase the level of schooling by 1.239 years. In a world with a low level of ambiguity ($\\eta = 0.010$) the same tuition subsidy increases schooling by 1.986 years. Hence, a tuition subsidy is 60 \\% more effective (as measured in years of completed schooling) in a low-ambiguity world.\n",
    "\n",
    "However, the picture changes if we increase ambiguity even further. Whereas the tuition subsidy is still 19 \\% more effective in a world with $\\eta = 0.02$ (compared to $\\eta = 0$) it is 40 ppt. less effective compared to a world with $\\eta = 0.01$.\n",
    "\n",
    "Tuition subsidies become ineffective in a world where ambiguity exceeds $\\eta = 0.100$. As individuals already have a high level of schooling (as measured to the maximum attainable level of schooling in the model) a tuition subsidy induces only a small effect. The high level of chosen schooling is motived by an insurance motive. \n",
    "\n",
    "**Summary:** Economic environments that carry a high level of ambiguity induce a high level of completed schooling (insurance motivation). In those cases, a tuition subsidy is less effective."
   ]
  },
  {
   "cell_type": "code",
   "execution_count": 12,
   "metadata": {},
   "outputs": [
    {
     "data": {
      "text/html": [
       "<div>\n",
       "<style scoped>\n",
       "    .dataframe tbody tr th:only-of-type {\n",
       "        vertical-align: middle;\n",
       "    }\n",
       "\n",
       "    .dataframe tbody tr th {\n",
       "        vertical-align: top;\n",
       "    }\n",
       "\n",
       "    .dataframe thead th {\n",
       "        text-align: right;\n",
       "    }\n",
       "</style>\n",
       "<table border=\"1\" class=\"dataframe\">\n",
       "  <thead>\n",
       "    <tr style=\"text-align: right;\">\n",
       "      <th></th>\n",
       "      <th></th>\n",
       "      <th>Blue</th>\n",
       "      <th>White</th>\n",
       "      <th>School</th>\n",
       "      <th>Home</th>\n",
       "    </tr>\n",
       "  </thead>\n",
       "  <tbody>\n",
       "    <tr>\n",
       "      <th rowspan=\"2\" valign=\"top\">0.000</th>\n",
       "      <th>0</th>\n",
       "      <td>23.122</td>\n",
       "      <td>10.998</td>\n",
       "      <td>12.438</td>\n",
       "      <td>3.442</td>\n",
       "    </tr>\n",
       "    <tr>\n",
       "      <th>1000</th>\n",
       "      <td>20.086</td>\n",
       "      <td>13.310</td>\n",
       "      <td>13.677</td>\n",
       "      <td>2.927</td>\n",
       "    </tr>\n",
       "    <tr>\n",
       "      <th rowspan=\"2\" valign=\"top\">0.010</th>\n",
       "      <th>0</th>\n",
       "      <td>15.831</td>\n",
       "      <td>16.791</td>\n",
       "      <td>15.174</td>\n",
       "      <td>2.204</td>\n",
       "    </tr>\n",
       "    <tr>\n",
       "      <th>1000</th>\n",
       "      <td>11.479</td>\n",
       "      <td>19.745</td>\n",
       "      <td>17.160</td>\n",
       "      <td>1.616</td>\n",
       "    </tr>\n",
       "    <tr>\n",
       "      <th rowspan=\"2\" valign=\"top\">0.020</th>\n",
       "      <th>0</th>\n",
       "      <td>11.901</td>\n",
       "      <td>19.643</td>\n",
       "      <td>16.819</td>\n",
       "      <td>1.637</td>\n",
       "    </tr>\n",
       "    <tr>\n",
       "      <th>1000</th>\n",
       "      <td>8.791</td>\n",
       "      <td>21.620</td>\n",
       "      <td>18.294</td>\n",
       "      <td>1.295</td>\n",
       "    </tr>\n",
       "    <tr>\n",
       "      <th rowspan=\"2\" valign=\"top\">0.100</th>\n",
       "      <th>0</th>\n",
       "      <td>5.451</td>\n",
       "      <td>23.816</td>\n",
       "      <td>19.711</td>\n",
       "      <td>1.022</td>\n",
       "    </tr>\n",
       "    <tr>\n",
       "      <th>1000</th>\n",
       "      <td>5.224</td>\n",
       "      <td>23.912</td>\n",
       "      <td>19.850</td>\n",
       "      <td>1.014</td>\n",
       "    </tr>\n",
       "    <tr>\n",
       "      <th rowspan=\"2\" valign=\"top\">0.200</th>\n",
       "      <th>0</th>\n",
       "      <td>4.598</td>\n",
       "      <td>24.432</td>\n",
       "      <td>19.960</td>\n",
       "      <td>1.010</td>\n",
       "    </tr>\n",
       "    <tr>\n",
       "      <th>1000</th>\n",
       "      <td>4.548</td>\n",
       "      <td>24.473</td>\n",
       "      <td>19.971</td>\n",
       "      <td>1.008</td>\n",
       "    </tr>\n",
       "    <tr>\n",
       "      <th rowspan=\"2\" valign=\"top\">0.500</th>\n",
       "      <th>0</th>\n",
       "      <td>3.745</td>\n",
       "      <td>25.248</td>\n",
       "      <td>20.000</td>\n",
       "      <td>1.007</td>\n",
       "    </tr>\n",
       "    <tr>\n",
       "      <th>1000</th>\n",
       "      <td>3.736</td>\n",
       "      <td>25.257</td>\n",
       "      <td>20.000</td>\n",
       "      <td>1.007</td>\n",
       "    </tr>\n",
       "    <tr>\n",
       "      <th rowspan=\"2\" valign=\"top\">1.000</th>\n",
       "      <th>0</th>\n",
       "      <td>3.163</td>\n",
       "      <td>25.831</td>\n",
       "      <td>20.000</td>\n",
       "      <td>1.006</td>\n",
       "    </tr>\n",
       "    <tr>\n",
       "      <th>1000</th>\n",
       "      <td>3.160</td>\n",
       "      <td>25.834</td>\n",
       "      <td>20.000</td>\n",
       "      <td>1.006</td>\n",
       "    </tr>\n",
       "    <tr>\n",
       "      <th rowspan=\"2\" valign=\"top\">1.500</th>\n",
       "      <th>0</th>\n",
       "      <td>2.852</td>\n",
       "      <td>26.143</td>\n",
       "      <td>20.000</td>\n",
       "      <td>1.005</td>\n",
       "    </tr>\n",
       "    <tr>\n",
       "      <th>1000</th>\n",
       "      <td>2.852</td>\n",
       "      <td>26.143</td>\n",
       "      <td>20.000</td>\n",
       "      <td>1.005</td>\n",
       "    </tr>\n",
       "  </tbody>\n",
       "</table>\n",
       "</div>"
      ],
      "text/plain": [
       "              Blue   White  School   Home\n",
       "0.000 0     23.122  10.998  12.438  3.442\n",
       "      1000  20.086  13.310  13.677  2.927\n",
       "0.010 0     15.831  16.791  15.174  2.204\n",
       "      1000  11.479  19.745  17.160  1.616\n",
       "0.020 0     11.901  19.643  16.819  1.637\n",
       "      1000   8.791  21.620  18.294  1.295\n",
       "0.100 0      5.451  23.816  19.711  1.022\n",
       "      1000   5.224  23.912  19.850  1.014\n",
       "0.200 0      4.598  24.432  19.960  1.010\n",
       "      1000   4.548  24.473  19.971  1.008\n",
       "0.500 0      3.745  25.248  20.000  1.007\n",
       "      1000   3.736  25.257  20.000  1.007\n",
       "1.000 0      3.163  25.831  20.000  1.006\n",
       "      1000   3.160  25.834  20.000  1.006\n",
       "1.500 0      2.852  26.143  20.000  1.005\n",
       "      1000   2.852  26.143  20.000  1.005"
      ]
     },
     "execution_count": 12,
     "metadata": {},
     "output_type": "execute_result"
    },
    {
     "data": {
      "application/javascript": [
       "\n",
       "            setTimeout(function() {\n",
       "                var nbb_cell_id = 12;\n",
       "                var nbb_unformatted_code = \"effect_ambiguity_ts_experiences_kw94(\\n    dense_ambiguity_levels, tuition_subsidies, simulated_dense_ambiguity_ts_models_kw94\\n)\";\n",
       "                var nbb_formatted_code = \"effect_ambiguity_ts_experiences_kw94(\\n    dense_ambiguity_levels, tuition_subsidies, simulated_dense_ambiguity_ts_models_kw94\\n)\";\n",
       "                var nbb_cells = Jupyter.notebook.get_cells();\n",
       "                for (var i = 0; i < nbb_cells.length; ++i) {\n",
       "                    if (nbb_cells[i].input_prompt_number == nbb_cell_id) {\n",
       "                        if (nbb_cells[i].get_text() == nbb_unformatted_code) {\n",
       "                             nbb_cells[i].set_text(nbb_formatted_code);\n",
       "                        }\n",
       "                        break;\n",
       "                    }\n",
       "                }\n",
       "            }, 500);\n",
       "            "
      ],
      "text/plain": [
       "<IPython.core.display.Javascript object>"
      ]
     },
     "metadata": {},
     "output_type": "display_data"
    }
   ],
   "source": [
    "effect_ambiguity_ts_experiences_kw94(\n",
    "    dense_ambiguity_levels,\n",
    "    tuition_subsidies,\n",
    "    simulated_dense_ambiguity_ts_models_kw94,\n",
    ")"
   ]
  },
  {
   "cell_type": "markdown",
   "metadata": {},
   "source": [
    "<div class=\"alert alert-block alert-warning\"> \n",
    "<u><b>Let ambiguity and tuitions subsidies in!</b></u></div>\n",
    "\n",
    "- `dict_ambiguity_levels`   \n",
    "dictionary that contains a name (first entry) along with specified ambiguity levels\n",
    "- `simulated_ambiguity_model`   \n",
    "pd.DataFrame with the simulated decisions of the agents given by the model $\\mathcal{M}(\\theta)$\n",
    "- `dict_simulated_ambiguity_models`   \n",
    "dictionary that contains a `simulated_ambiguity_model` for each ambiguity level specified in `dict_ambiguity_levels`  \n",
    "- `df_params`  \n",
    "pd.DataFrame that contains the desired parametrization of the model $\\mathcal{M}(\\theta)$\n",
    "- `dict_options`  \n",
    "dictionary that contains the options for the simulation of the model"
   ]
  }
 ],
 "metadata": {
  "kernelspec": {
   "display_name": "Python 3",
   "language": "python",
   "name": "python3"
  },
  "language_info": {
   "codemirror_mode": {
    "name": "ipython",
    "version": 3
   },
   "file_extension": ".py",
   "mimetype": "text/x-python",
   "name": "python",
   "nbconvert_exporter": "python",
   "pygments_lexer": "ipython3",
   "version": "3.7.6"
  }
 },
 "nbformat": 4,
 "nbformat_minor": 4
}

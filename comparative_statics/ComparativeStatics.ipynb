{
 "cells": [
  {
   "cell_type": "code",
   "execution_count": 1,
   "metadata": {},
   "outputs": [
    {
     "data": {
      "application/javascript": [
       "\n",
       "            setTimeout(function() {\n",
       "                var nbb_cell_id = 1;\n",
       "                var nbb_unformatted_code = \"import pickle as pkl\\n\\nfrom aux_compstatics import ambiguity_effect_experiences\\nfrom aux_compstatics import plot_ambiguity_effect_choiceshare\\n\\n%load_ext nb_black\";\n",
       "                var nbb_formatted_code = \"import pickle as pkl\\n\\nfrom aux_compstatics import ambiguity_effect_experiences\\nfrom aux_compstatics import plot_ambiguity_effect_choiceshare\\n\\n%load_ext nb_black\";\n",
       "                var nbb_cells = Jupyter.notebook.get_cells();\n",
       "                for (var i = 0; i < nbb_cells.length; ++i) {\n",
       "                    if (nbb_cells[i].input_prompt_number == nbb_cell_id) {\n",
       "                        if (nbb_cells[i].get_text() == nbb_unformatted_code) {\n",
       "                             nbb_cells[i].set_text(nbb_formatted_code);\n",
       "                        }\n",
       "                        break;\n",
       "                    }\n",
       "                }\n",
       "            }, 500);\n",
       "            "
      ],
      "text/plain": [
       "<IPython.core.display.Javascript object>"
      ]
     },
     "metadata": {},
     "output_type": "display_data"
    }
   ],
   "source": [
    "import pickle as pkl\n",
    "\n",
    "from aux_compstatics import ambiguity_effect_experiences\n",
    "from aux_compstatics import plot_ambiguity_effect_choiceshare\n",
    "\n",
    "%load_ext nb_black"
   ]
  },
  {
   "cell_type": "markdown",
   "metadata": {},
   "source": [
    "## Ambiguity level grid analysis\n",
    "---\n",
    "\n",
    "Following ambiguity-level grids are available to simulate the model:\n",
    "\n",
    "- `dense_ambiguity_grid.pkl` includes a simulated model (100 agents) under each of the the ambiguity set sizes   \n",
    "{ 0.000, 0.010, 0.020, 0.100, 0.200, 0.500, 1.000, 1.500, 2.000 }.\n",
    "- `spread_ambiguity_grid.pkl` includes a simulated model (1,000 agents) under each of the the ambiguity set sizes { 0.000, 1.000, 2.000, 3.000, 4.000, 5.000 }.\n",
    "\n",
    "\n"
   ]
  },
  {
   "cell_type": "code",
   "execution_count": 2,
   "metadata": {},
   "outputs": [
    {
     "data": {
      "application/javascript": [
       "\n",
       "            setTimeout(function() {\n",
       "                var nbb_cell_id = 2;\n",
       "                var nbb_unformatted_code = \"dense_ambiguity_grid = pkl.load(open(\\\"dense_ambiguity_grid.pkl\\\", \\\"rb\\\"))\\nspread_ambiguity_grid = pkl.load(open(\\\"spread_ambiguity_grid.pkl\\\", \\\"rb\\\"))\";\n",
       "                var nbb_formatted_code = \"dense_ambiguity_grid = pkl.load(open(\\\"dense_ambiguity_grid.pkl\\\", \\\"rb\\\"))\\nspread_ambiguity_grid = pkl.load(open(\\\"spread_ambiguity_grid.pkl\\\", \\\"rb\\\"))\";\n",
       "                var nbb_cells = Jupyter.notebook.get_cells();\n",
       "                for (var i = 0; i < nbb_cells.length; ++i) {\n",
       "                    if (nbb_cells[i].input_prompt_number == nbb_cell_id) {\n",
       "                        if (nbb_cells[i].get_text() == nbb_unformatted_code) {\n",
       "                             nbb_cells[i].set_text(nbb_formatted_code);\n",
       "                        }\n",
       "                        break;\n",
       "                    }\n",
       "                }\n",
       "            }, 500);\n",
       "            "
      ],
      "text/plain": [
       "<IPython.core.display.Javascript object>"
      ]
     },
     "metadata": {},
     "output_type": "display_data"
    }
   ],
   "source": [
    "dense_ambiguity_grid = pkl.load(open(\"dense_ambiguity_grid.pkl\", \"rb\"))\n",
    "spread_ambiguity_grid = pkl.load(open(\"spread_ambiguity_grid.pkl\", \"rb\"))"
   ]
  },
  {
   "cell_type": "code",
   "execution_count": 3,
   "metadata": {},
   "outputs": [
    {
     "data": {
      "text/html": [
       "<div>\n",
       "<style scoped>\n",
       "    .dataframe tbody tr th:only-of-type {\n",
       "        vertical-align: middle;\n",
       "    }\n",
       "\n",
       "    .dataframe tbody tr th {\n",
       "        vertical-align: top;\n",
       "    }\n",
       "\n",
       "    .dataframe thead th {\n",
       "        text-align: right;\n",
       "    }\n",
       "</style>\n",
       "<table border=\"1\" class=\"dataframe\">\n",
       "  <thead>\n",
       "    <tr style=\"text-align: right;\">\n",
       "      <th></th>\n",
       "      <th>Blue</th>\n",
       "      <th>White</th>\n",
       "      <th>Military</th>\n",
       "      <th>School</th>\n",
       "    </tr>\n",
       "  </thead>\n",
       "  <tbody>\n",
       "    <tr>\n",
       "      <th>0000</th>\n",
       "      <td>20.79</td>\n",
       "      <td>22.30</td>\n",
       "      <td>0.57</td>\n",
       "      <td>13.38</td>\n",
       "    </tr>\n",
       "    <tr>\n",
       "      <th>0010</th>\n",
       "      <td>20.17</td>\n",
       "      <td>22.96</td>\n",
       "      <td>0.42</td>\n",
       "      <td>13.49</td>\n",
       "    </tr>\n",
       "    <tr>\n",
       "      <th>0020</th>\n",
       "      <td>19.97</td>\n",
       "      <td>23.20</td>\n",
       "      <td>0.36</td>\n",
       "      <td>13.52</td>\n",
       "    </tr>\n",
       "    <tr>\n",
       "      <th>0100</th>\n",
       "      <td>19.67</td>\n",
       "      <td>23.39</td>\n",
       "      <td>0.32</td>\n",
       "      <td>13.64</td>\n",
       "    </tr>\n",
       "    <tr>\n",
       "      <th>0200</th>\n",
       "      <td>17.97</td>\n",
       "      <td>24.51</td>\n",
       "      <td>0.33</td>\n",
       "      <td>14.06</td>\n",
       "    </tr>\n",
       "    <tr>\n",
       "      <th>0500</th>\n",
       "      <td>14.95</td>\n",
       "      <td>26.92</td>\n",
       "      <td>0.19</td>\n",
       "      <td>14.73</td>\n",
       "    </tr>\n",
       "    <tr>\n",
       "      <th>1000</th>\n",
       "      <td>13.06</td>\n",
       "      <td>28.31</td>\n",
       "      <td>0.15</td>\n",
       "      <td>15.20</td>\n",
       "    </tr>\n",
       "    <tr>\n",
       "      <th>1500</th>\n",
       "      <td>12.35</td>\n",
       "      <td>28.78</td>\n",
       "      <td>0.08</td>\n",
       "      <td>15.50</td>\n",
       "    </tr>\n",
       "    <tr>\n",
       "      <th>2000</th>\n",
       "      <td>12.20</td>\n",
       "      <td>28.77</td>\n",
       "      <td>0.07</td>\n",
       "      <td>15.63</td>\n",
       "    </tr>\n",
       "  </tbody>\n",
       "</table>\n",
       "</div>"
      ],
      "text/plain": [
       "       Blue  White  Military  School\n",
       "0000  20.79  22.30      0.57   13.38\n",
       "0010  20.17  22.96      0.42   13.49\n",
       "0020  19.97  23.20      0.36   13.52\n",
       "0100  19.67  23.39      0.32   13.64\n",
       "0200  17.97  24.51      0.33   14.06\n",
       "0500  14.95  26.92      0.19   14.73\n",
       "1000  13.06  28.31      0.15   15.20\n",
       "1500  12.35  28.78      0.08   15.50\n",
       "2000  12.20  28.77      0.07   15.63"
      ]
     },
     "execution_count": 3,
     "metadata": {},
     "output_type": "execute_result"
    },
    {
     "data": {
      "application/javascript": [
       "\n",
       "            setTimeout(function() {\n",
       "                var nbb_cell_id = 3;\n",
       "                var nbb_unformatted_code = \"ambiguity_effect_experiences(dense_ambiguity_grid)\";\n",
       "                var nbb_formatted_code = \"ambiguity_effect_experiences(dense_ambiguity_grid)\";\n",
       "                var nbb_cells = Jupyter.notebook.get_cells();\n",
       "                for (var i = 0; i < nbb_cells.length; ++i) {\n",
       "                    if (nbb_cells[i].input_prompt_number == nbb_cell_id) {\n",
       "                        if (nbb_cells[i].get_text() == nbb_unformatted_code) {\n",
       "                             nbb_cells[i].set_text(nbb_formatted_code);\n",
       "                        }\n",
       "                        break;\n",
       "                    }\n",
       "                }\n",
       "            }, 500);\n",
       "            "
      ],
      "text/plain": [
       "<IPython.core.display.Javascript object>"
      ]
     },
     "metadata": {},
     "output_type": "display_data"
    }
   ],
   "source": [
    "ambiguity_effect_experiences(dense_ambiguity_grid)"
   ]
  },
  {
   "cell_type": "code",
   "execution_count": 4,
   "metadata": {},
   "outputs": [
    {
     "data": {
      "text/html": [
       "<div>\n",
       "<style scoped>\n",
       "    .dataframe tbody tr th:only-of-type {\n",
       "        vertical-align: middle;\n",
       "    }\n",
       "\n",
       "    .dataframe tbody tr th {\n",
       "        vertical-align: top;\n",
       "    }\n",
       "\n",
       "    .dataframe thead th {\n",
       "        text-align: right;\n",
       "    }\n",
       "</style>\n",
       "<table border=\"1\" class=\"dataframe\">\n",
       "  <thead>\n",
       "    <tr style=\"text-align: right;\">\n",
       "      <th></th>\n",
       "      <th>Blue</th>\n",
       "      <th>White</th>\n",
       "      <th>Military</th>\n",
       "      <th>School</th>\n",
       "    </tr>\n",
       "  </thead>\n",
       "  <tbody>\n",
       "    <tr>\n",
       "      <th>0000</th>\n",
       "      <td>22.551</td>\n",
       "      <td>20.846</td>\n",
       "      <td>0.552</td>\n",
       "      <td>13.076</td>\n",
       "    </tr>\n",
       "    <tr>\n",
       "      <th>0010</th>\n",
       "      <td>20.170</td>\n",
       "      <td>22.960</td>\n",
       "      <td>0.420</td>\n",
       "      <td>13.490</td>\n",
       "    </tr>\n",
       "    <tr>\n",
       "      <th>0020</th>\n",
       "      <td>19.970</td>\n",
       "      <td>23.200</td>\n",
       "      <td>0.360</td>\n",
       "      <td>13.520</td>\n",
       "    </tr>\n",
       "    <tr>\n",
       "      <th>0100</th>\n",
       "      <td>19.670</td>\n",
       "      <td>23.390</td>\n",
       "      <td>0.320</td>\n",
       "      <td>13.640</td>\n",
       "    </tr>\n",
       "    <tr>\n",
       "      <th>0200</th>\n",
       "      <td>17.970</td>\n",
       "      <td>24.510</td>\n",
       "      <td>0.330</td>\n",
       "      <td>14.060</td>\n",
       "    </tr>\n",
       "    <tr>\n",
       "      <th>0500</th>\n",
       "      <td>14.950</td>\n",
       "      <td>26.920</td>\n",
       "      <td>0.190</td>\n",
       "      <td>14.730</td>\n",
       "    </tr>\n",
       "    <tr>\n",
       "      <th>1000</th>\n",
       "      <td>14.076</td>\n",
       "      <td>27.629</td>\n",
       "      <td>0.059</td>\n",
       "      <td>15.074</td>\n",
       "    </tr>\n",
       "    <tr>\n",
       "      <th>1500</th>\n",
       "      <td>12.350</td>\n",
       "      <td>28.780</td>\n",
       "      <td>0.080</td>\n",
       "      <td>15.500</td>\n",
       "    </tr>\n",
       "    <tr>\n",
       "      <th>2000</th>\n",
       "      <td>12.926</td>\n",
       "      <td>28.231</td>\n",
       "      <td>0.024</td>\n",
       "      <td>15.558</td>\n",
       "    </tr>\n",
       "    <tr>\n",
       "      <th>3000</th>\n",
       "      <td>13.283</td>\n",
       "      <td>27.647</td>\n",
       "      <td>0.030</td>\n",
       "      <td>15.664</td>\n",
       "    </tr>\n",
       "    <tr>\n",
       "      <th>4000</th>\n",
       "      <td>13.697</td>\n",
       "      <td>27.102</td>\n",
       "      <td>0.032</td>\n",
       "      <td>15.718</td>\n",
       "    </tr>\n",
       "    <tr>\n",
       "      <th>5000</th>\n",
       "      <td>14.178</td>\n",
       "      <td>26.507</td>\n",
       "      <td>0.065</td>\n",
       "      <td>15.740</td>\n",
       "    </tr>\n",
       "  </tbody>\n",
       "</table>\n",
       "</div>"
      ],
      "text/plain": [
       "        Blue   White  Military  School\n",
       "0000  22.551  20.846     0.552  13.076\n",
       "0010  20.170  22.960     0.420  13.490\n",
       "0020  19.970  23.200     0.360  13.520\n",
       "0100  19.670  23.390     0.320  13.640\n",
       "0200  17.970  24.510     0.330  14.060\n",
       "0500  14.950  26.920     0.190  14.730\n",
       "1000  14.076  27.629     0.059  15.074\n",
       "1500  12.350  28.780     0.080  15.500\n",
       "2000  12.926  28.231     0.024  15.558\n",
       "3000  13.283  27.647     0.030  15.664\n",
       "4000  13.697  27.102     0.032  15.718\n",
       "5000  14.178  26.507     0.065  15.740"
      ]
     },
     "execution_count": 4,
     "metadata": {},
     "output_type": "execute_result"
    },
    {
     "data": {
      "application/javascript": [
       "\n",
       "            setTimeout(function() {\n",
       "                var nbb_cell_id = 4;\n",
       "                var nbb_unformatted_code = \"ambiguity_effect_experiences(spread_ambiguity_grid)\";\n",
       "                var nbb_formatted_code = \"ambiguity_effect_experiences(spread_ambiguity_grid)\";\n",
       "                var nbb_cells = Jupyter.notebook.get_cells();\n",
       "                for (var i = 0; i < nbb_cells.length; ++i) {\n",
       "                    if (nbb_cells[i].input_prompt_number == nbb_cell_id) {\n",
       "                        if (nbb_cells[i].get_text() == nbb_unformatted_code) {\n",
       "                             nbb_cells[i].set_text(nbb_formatted_code);\n",
       "                        }\n",
       "                        break;\n",
       "                    }\n",
       "                }\n",
       "            }, 500);\n",
       "            "
      ],
      "text/plain": [
       "<IPython.core.display.Javascript object>"
      ]
     },
     "metadata": {},
     "output_type": "display_data"
    }
   ],
   "source": [
    "ambiguity_effect_experiences(spread_ambiguity_grid)"
   ]
  },
  {
   "cell_type": "markdown",
   "metadata": {},
   "source": [
    "## Plotting \n",
    "---\n",
    "\n",
    "We will select ambiguity levels that will be plotted. In the following we will choose \n",
    "\n",
    "- **dense_ambiguity_levels_selected** includes low ambiguity levels (up to 1.000)\n",
    "- **spread_ambiguity_levels_selected** includes high ambiguity levels that are widely spread (2.000 to 5.000)"
   ]
  },
  {
   "cell_type": "code",
   "execution_count": 5,
   "metadata": {},
   "outputs": [
    {
     "data": {
      "application/javascript": [
       "\n",
       "            setTimeout(function() {\n",
       "                var nbb_cell_id = 5;\n",
       "                var nbb_unformatted_code = \"dense_ambiguity_levels_selected = [\\\"0010\\\", \\\"0100\\\", \\\"0500\\\", \\\"1000\\\"]\\nspread_ambiguity_levels_selected = [\\\"2000\\\", \\\"3000\\\", \\\"4000\\\", \\\"5000\\\"]\";\n",
       "                var nbb_formatted_code = \"dense_ambiguity_levels_selected = [\\\"0010\\\", \\\"0100\\\", \\\"0500\\\", \\\"1000\\\"]\\nspread_ambiguity_levels_selected = [\\\"2000\\\", \\\"3000\\\", \\\"4000\\\", \\\"5000\\\"]\";\n",
       "                var nbb_cells = Jupyter.notebook.get_cells();\n",
       "                for (var i = 0; i < nbb_cells.length; ++i) {\n",
       "                    if (nbb_cells[i].input_prompt_number == nbb_cell_id) {\n",
       "                        if (nbb_cells[i].get_text() == nbb_unformatted_code) {\n",
       "                             nbb_cells[i].set_text(nbb_formatted_code);\n",
       "                        }\n",
       "                        break;\n",
       "                    }\n",
       "                }\n",
       "            }, 500);\n",
       "            "
      ],
      "text/plain": [
       "<IPython.core.display.Javascript object>"
      ]
     },
     "metadata": {},
     "output_type": "display_data"
    }
   ],
   "source": [
    "dense_ambiguity_levels_selected = [\"0010\", \"0100\", \"0500\", \"1000\"]\n",
    "spread_ambiguity_levels_selected = [\"2000\", \"3000\", \"4000\", \"5000\"]"
   ]
  },
  {
   "cell_type": "code",
   "execution_count": 6,
   "metadata": {},
   "outputs": [
    {
     "data": {
      "image/png": "[encoded data removed]",
      "text/plain": [
       "<Figure size 1440x288 with 4 Axes>"
      ]
     },
     "metadata": {
      "needs_background": "light"
     },
     "output_type": "display_data"
    },
    {
     "data": {
      "application/javascript": [
       "\n",
       "            setTimeout(function() {\n",
       "                var nbb_cell_id = 6;\n",
       "                var nbb_unformatted_code = \"plot_ambiguity_effect_choiceshare(\\n    dense_ambiguity_grid, dense_ambiguity_levels_selected, \\\"dense\\\"\\n)\";\n",
       "                var nbb_formatted_code = \"plot_ambiguity_effect_choiceshare(\\n    dense_ambiguity_grid, dense_ambiguity_levels_selected, \\\"dense\\\"\\n)\";\n",
       "                var nbb_cells = Jupyter.notebook.get_cells();\n",
       "                for (var i = 0; i < nbb_cells.length; ++i) {\n",
       "                    if (nbb_cells[i].input_prompt_number == nbb_cell_id) {\n",
       "                        if (nbb_cells[i].get_text() == nbb_unformatted_code) {\n",
       "                             nbb_cells[i].set_text(nbb_formatted_code);\n",
       "                        }\n",
       "                        break;\n",
       "                    }\n",
       "                }\n",
       "            }, 500);\n",
       "            "
      ],
      "text/plain": [
       "<IPython.core.display.Javascript object>"
      ]
     },
     "metadata": {},
     "output_type": "display_data"
    }
   ],
   "source": [
    "plot_ambiguity_effect_choiceshare(\n",
    "    dense_ambiguity_grid, dense_ambiguity_levels_selected, \"dense\"\n",
    ")"
   ]
  },
  {
   "cell_type": "code",
   "execution_count": 7,
   "metadata": {},
   "outputs": [
    {
     "data": {
      "image/png": "[encoded data removed]",
      "text/plain": [
       "<Figure size 1440x288 with 4 Axes>"
      ]
     },
     "metadata": {
      "needs_background": "light"
     },
     "output_type": "display_data"
    },
    {
     "data": {
      "application/javascript": [
       "\n",
       "            setTimeout(function() {\n",
       "                var nbb_cell_id = 7;\n",
       "                var nbb_unformatted_code = \"plot_ambiguity_effect_choiceshare(\\n    spread_ambiguity_grid, spread_ambiguity_levels_selected, \\\"spread\\\"\\n)\";\n",
       "                var nbb_formatted_code = \"plot_ambiguity_effect_choiceshare(\\n    spread_ambiguity_grid, spread_ambiguity_levels_selected, \\\"spread\\\"\\n)\";\n",
       "                var nbb_cells = Jupyter.notebook.get_cells();\n",
       "                for (var i = 0; i < nbb_cells.length; ++i) {\n",
       "                    if (nbb_cells[i].input_prompt_number == nbb_cell_id) {\n",
       "                        if (nbb_cells[i].get_text() == nbb_unformatted_code) {\n",
       "                             nbb_cells[i].set_text(nbb_formatted_code);\n",
       "                        }\n",
       "                        break;\n",
       "                    }\n",
       "                }\n",
       "            }, 500);\n",
       "            "
      ],
      "text/plain": [
       "<IPython.core.display.Javascript object>"
      ]
     },
     "metadata": {},
     "output_type": "display_data"
    }
   ],
   "source": [
    "plot_ambiguity_effect_choiceshare(\n",
    "    spread_ambiguity_grid, spread_ambiguity_levels_selected, \"spread\"\n",
    ")"
   ]
  }
 ],
 "metadata": {
  "kernelspec": {
   "display_name": "Python 3",
   "language": "python",
   "name": "python3"
  },
  "language_info": {
   "codemirror_mode": {
    "name": "ipython",
    "version": 3
   },
   "file_extension": ".py",
   "mimetype": "text/x-python",
   "name": "python",
   "nbconvert_exporter": "python",
   "pygments_lexer": "ipython3",
   "version": "3.7.6"
  }
 },
 "nbformat": 4,
 "nbformat_minor": 4
}

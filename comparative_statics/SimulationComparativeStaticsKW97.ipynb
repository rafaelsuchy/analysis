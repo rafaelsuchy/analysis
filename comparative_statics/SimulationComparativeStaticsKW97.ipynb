{
 "cells": [
  {
   "cell_type": "markdown",
   "metadata": {},
   "source": [
    "<div class=\"alert alert-block alert-info\">\n",
    " <h1> Simulation datasets for comparative static analysis </h1></div>"
   ]
  },
  {
   "cell_type": "code",
   "execution_count": 1,
   "metadata": {},
   "outputs": [
    {
     "data": {
      "application/javascript": [
       "\n",
       "            setTimeout(function() {\n",
       "                var nbb_cell_id = 1;\n",
       "                var nbb_unformatted_code = \"import respy as rp\\nimport pandas as pd\\n\\nfrom dicts_ambiguity_levels import dense_ambiguity_levels\\nfrom dicts_ambiguity_levels import spread_ambiguity_levels\\nfrom simulate_models import simulate_ambiguity_models_kw97\\nfrom simulate_models import simulate_ambiguity_ts_models_kw97\\n\\n%load_ext nb_black\";\n",
       "                var nbb_formatted_code = \"import respy as rp\\nimport pandas as pd\\n\\nfrom dicts_ambiguity_levels import dense_ambiguity_levels\\nfrom dicts_ambiguity_levels import spread_ambiguity_levels\\nfrom simulate_models import simulate_ambiguity_models_kw97\\nfrom simulate_models import simulate_ambiguity_ts_models_kw97\\n\\n%load_ext nb_black\";\n",
       "                var nbb_cells = Jupyter.notebook.get_cells();\n",
       "                for (var i = 0; i < nbb_cells.length; ++i) {\n",
       "                    if (nbb_cells[i].input_prompt_number == nbb_cell_id) {\n",
       "                        if (nbb_cells[i].get_text() == nbb_unformatted_code) {\n",
       "                             nbb_cells[i].set_text(nbb_formatted_code);\n",
       "                        }\n",
       "                        break;\n",
       "                    }\n",
       "                }\n",
       "            }, 500);\n",
       "            "
      ],
      "text/plain": [
       "<IPython.core.display.Javascript object>"
      ]
     },
     "metadata": {},
     "output_type": "display_data"
    }
   ],
   "source": [
    "import respy as rp\n",
    "import pandas as pd\n",
    "\n",
    "from dicts_ambiguity_levels import dense_ambiguity_levels\n",
    "from dicts_ambiguity_levels import spread_ambiguity_levels\n",
    "from simulate_models import simulate_ambiguity_models_kw97\n",
    "from simulate_models import simulate_ambiguity_ts_models_kw97\n",
    "\n",
    "%load_ext nb_black"
   ]
  },
  {
   "cell_type": "markdown",
   "metadata": {},
   "source": [
    "<div class=\"alert alert-block alert-success\"> \n",
    "<u><b>Simulated ambiguity levels</b></u></div>\n",
    "\n",
    "The main goal is to obtain simulated models (decisions) for economic environments with various ambiguity levels. The set of ambiguity levels is provided in the form of dictionaries. In the following we will simulate models for a set of `dense_ambiguity_levels` and a set of `spread_ambiguity_levels`."
   ]
  },
  {
   "cell_type": "code",
   "execution_count": 2,
   "metadata": {},
   "outputs": [
    {
     "data": {
      "text/plain": [
       "{'name': 'dense',\n",
       " '0.000': 0.0,\n",
       " '0.010': 0.01,\n",
       " '0.020': 0.02,\n",
       " '0.100': 0.1,\n",
       " '0.200': 0.2,\n",
       " '0.500': 0.5,\n",
       " '1.000': 1.0,\n",
       " '1.500': 1.5}"
      ]
     },
     "execution_count": 2,
     "metadata": {},
     "output_type": "execute_result"
    },
    {
     "data": {
      "application/javascript": [
       "\n",
       "            setTimeout(function() {\n",
       "                var nbb_cell_id = 2;\n",
       "                var nbb_unformatted_code = \"dense_ambiguity_levels\";\n",
       "                var nbb_formatted_code = \"dense_ambiguity_levels\";\n",
       "                var nbb_cells = Jupyter.notebook.get_cells();\n",
       "                for (var i = 0; i < nbb_cells.length; ++i) {\n",
       "                    if (nbb_cells[i].input_prompt_number == nbb_cell_id) {\n",
       "                        if (nbb_cells[i].get_text() == nbb_unformatted_code) {\n",
       "                             nbb_cells[i].set_text(nbb_formatted_code);\n",
       "                        }\n",
       "                        break;\n",
       "                    }\n",
       "                }\n",
       "            }, 500);\n",
       "            "
      ],
      "text/plain": [
       "<IPython.core.display.Javascript object>"
      ]
     },
     "metadata": {},
     "output_type": "display_data"
    }
   ],
   "source": [
    "dense_ambiguity_levels"
   ]
  },
  {
   "cell_type": "code",
   "execution_count": 3,
   "metadata": {},
   "outputs": [
    {
     "data": {
      "text/plain": [
       "{'name': 'spread',\n",
       " '0.000': 0.0,\n",
       " '1.000': 1.0,\n",
       " '2.000': 2.0,\n",
       " '3.000': 3.0,\n",
       " '4.000': 4.0,\n",
       " '5.000': 5.0}"
      ]
     },
     "execution_count": 3,
     "metadata": {},
     "output_type": "execute_result"
    },
    {
     "data": {
      "application/javascript": [
       "\n",
       "            setTimeout(function() {\n",
       "                var nbb_cell_id = 3;\n",
       "                var nbb_unformatted_code = \"spread_ambiguity_levels\";\n",
       "                var nbb_formatted_code = \"spread_ambiguity_levels\";\n",
       "                var nbb_cells = Jupyter.notebook.get_cells();\n",
       "                for (var i = 0; i < nbb_cells.length; ++i) {\n",
       "                    if (nbb_cells[i].input_prompt_number == nbb_cell_id) {\n",
       "                        if (nbb_cells[i].get_text() == nbb_unformatted_code) {\n",
       "                             nbb_cells[i].set_text(nbb_formatted_code);\n",
       "                        }\n",
       "                        break;\n",
       "                    }\n",
       "                }\n",
       "            }, 500);\n",
       "            "
      ],
      "text/plain": [
       "<IPython.core.display.Javascript object>"
      ]
     },
     "metadata": {},
     "output_type": "display_data"
    }
   ],
   "source": [
    "spread_ambiguity_levels"
   ]
  },
  {
   "cell_type": "markdown",
   "metadata": {},
   "source": [
    "**Setting up a new grid**\n",
    "1. In `dicts_ambiguity_levels.py` create a new dictionary with the desired ambiguity levels as key: value pairs\n",
    "2. The dictionary should contain its own name - functions use the information for labeling purposes"
   ]
  },
  {
   "cell_type": "markdown",
   "metadata": {},
   "source": [
    "<div class=\"alert alert-block alert-success\">  \n",
    "<u><b>Simulate ambiguity models</b></u></div>\n",
    "\n",
    "\n",
    "**General steps** to start the simulation:\n",
    "1. Define a dictionary of ambiguity levels for which a model will be simulated, respectively (see above)\n",
    "2. Load a model parametrization (pd.DataFrame) and model options (dict)\n",
    "3. Adjust the parameters and options (if necessary)\n",
    "4. Call the function `simulate_ambiguity_models_kw97` and pass the ambiguity dictionary, model parameters, and model options.\n",
    "\n",
    "The function `simulate_ambiguity_models_kw97` simulates for each level of ambiguity $\\eta$ contained in `dense_ambiguity_levels` a KW97 model $\\mathcal{M}(\\theta, \\eta)$ according to the passed parameters `params_kw97` $\\theta$ and options `options_kw97`.\n",
    "\n",
    "The model will be stored in the current directory and contains the name of the passed dictionary (if the name is provided) from `dicts_ambiguity_levels.py`."
   ]
  },
  {
   "cell_type": "code",
   "execution_count": 4,
   "metadata": {},
   "outputs": [
    {
     "data": {
      "application/javascript": [
       "\n",
       "            setTimeout(function() {\n",
       "                var nbb_cell_id = 4;\n",
       "                var nbb_unformatted_code = \"# Step 2 and step 3\\nNUM_AGENTS = 1000\\n\\n_, options_kw97 = rp.get_example_model(\\\"kw_97_basic\\\", with_data=False)\\nparams_kw97 = pd.read_pickle(\\\"params_revised_basic.pkl\\\")\\noptions_kw97[\\\"simulation_agents\\\"] = NUM_AGENTS\\ninitial_years_schooling_kw97 = 10\";\n",
       "                var nbb_formatted_code = \"# Step 2 and step 3\\nNUM_AGENTS = 1000\\n\\n_, options_kw97 = rp.get_example_model(\\\"kw_97_basic\\\", with_data=False)\\nparams_kw97 = pd.read_pickle(\\\"params_revised_basic.pkl\\\")\\noptions_kw97[\\\"simulation_agents\\\"] = NUM_AGENTS\\ninitial_years_schooling_kw97 = 10\";\n",
       "                var nbb_cells = Jupyter.notebook.get_cells();\n",
       "                for (var i = 0; i < nbb_cells.length; ++i) {\n",
       "                    if (nbb_cells[i].input_prompt_number == nbb_cell_id) {\n",
       "                        if (nbb_cells[i].get_text() == nbb_unformatted_code) {\n",
       "                             nbb_cells[i].set_text(nbb_formatted_code);\n",
       "                        }\n",
       "                        break;\n",
       "                    }\n",
       "                }\n",
       "            }, 500);\n",
       "            "
      ],
      "text/plain": [
       "<IPython.core.display.Javascript object>"
      ]
     },
     "metadata": {},
     "output_type": "display_data"
    }
   ],
   "source": [
    "# Step 2 and step 3\n",
    "NUM_AGENTS = 1000\n",
    "\n",
    "_, options_kw97 = rp.get_example_model(\"kw_97_basic\", with_data=False)\n",
    "params_kw97 = pd.read_pickle(\"params_revised_basic.pkl\")\n",
    "options_kw97[\"simulation_agents\"] = NUM_AGENTS\n",
    "initial_years_schooling_kw97 = 10"
   ]
  },
  {
   "cell_type": "code",
   "execution_count": 5,
   "metadata": {},
   "outputs": [
    {
     "data": {
      "application/javascript": [
       "\n",
       "            setTimeout(function() {\n",
       "                var nbb_cell_id = 5;\n",
       "                var nbb_unformatted_code = \"pd.options.display.max_rows = 999\\n# params_kw97\\n# params_kw97.to_csv(\\\"params_97.csv\\\")\";\n",
       "                var nbb_formatted_code = \"pd.options.display.max_rows = 999\\n# params_kw97\\n# params_kw97.to_csv(\\\"params_97.csv\\\")\";\n",
       "                var nbb_cells = Jupyter.notebook.get_cells();\n",
       "                for (var i = 0; i < nbb_cells.length; ++i) {\n",
       "                    if (nbb_cells[i].input_prompt_number == nbb_cell_id) {\n",
       "                        if (nbb_cells[i].get_text() == nbb_unformatted_code) {\n",
       "                             nbb_cells[i].set_text(nbb_formatted_code);\n",
       "                        }\n",
       "                        break;\n",
       "                    }\n",
       "                }\n",
       "            }, 500);\n",
       "            "
      ],
      "text/plain": [
       "<IPython.core.display.Javascript object>"
      ]
     },
     "metadata": {},
     "output_type": "display_data"
    }
   ],
   "source": [
    "pd.options.display.max_rows = 999\n",
    "# params_kw97\n",
    "# params_kw97.to_csv(\"params_97.csv\")"
   ]
  },
  {
   "cell_type": "markdown",
   "metadata": {},
   "source": [
    "In the KW97 models, the return to schooling in the various occupations plays a crucial role. The **return to schooling** for the blue-collar, white-collar, and military choices are 0.01599, 0.09859, and 0.00447 respectively."
   ]
  },
  {
   "cell_type": "code",
   "execution_count": 6,
   "metadata": {},
   "outputs": [
    {
     "data": {
      "text/plain": [
       "{'blue_collar': 0.015985331011401115,\n",
       " 'white_collar': 0.098595405152752,\n",
       " 'miliary': 0.04479952607361996}"
      ]
     },
     "execution_count": 6,
     "metadata": {},
     "output_type": "execute_result"
    },
    {
     "data": {
      "application/javascript": [
       "\n",
       "            setTimeout(function() {\n",
       "                var nbb_cell_id = 6;\n",
       "                var nbb_unformatted_code = \"return_schooling = {\\n    \\\"blue_collar\\\": params_kw97.loc[\\n        (\\\"wage_blue_collar\\\", \\\"exp_school\\\"), \\\"value\\\"\\n    ],\\n    \\\"white_collar\\\": params_kw97.loc[\\n        (\\\"wage_white_collar\\\", \\\"exp_school\\\"), \\\"value\\\"\\n    ],\\n    \\\"miliary\\\": params_kw97.loc[(\\\"wage_military\\\", \\\"exp_school\\\"), \\\"value\\\"],\\n}\\nreturn_schooling\";\n",
       "                var nbb_formatted_code = \"return_schooling = {\\n    \\\"blue_collar\\\": params_kw97.loc[(\\\"wage_blue_collar\\\", \\\"exp_school\\\"), \\\"value\\\"],\\n    \\\"white_collar\\\": params_kw97.loc[(\\\"wage_white_collar\\\", \\\"exp_school\\\"), \\\"value\\\"],\\n    \\\"miliary\\\": params_kw97.loc[(\\\"wage_military\\\", \\\"exp_school\\\"), \\\"value\\\"],\\n}\\nreturn_schooling\";\n",
       "                var nbb_cells = Jupyter.notebook.get_cells();\n",
       "                for (var i = 0; i < nbb_cells.length; ++i) {\n",
       "                    if (nbb_cells[i].input_prompt_number == nbb_cell_id) {\n",
       "                        if (nbb_cells[i].get_text() == nbb_unformatted_code) {\n",
       "                             nbb_cells[i].set_text(nbb_formatted_code);\n",
       "                        }\n",
       "                        break;\n",
       "                    }\n",
       "                }\n",
       "            }, 500);\n",
       "            "
      ],
      "text/plain": [
       "<IPython.core.display.Javascript object>"
      ]
     },
     "metadata": {},
     "output_type": "display_data"
    }
   ],
   "source": [
    "return_schooling = {\n",
    "    \"blue_collar\": params_kw97.loc[\n",
    "        (\"wage_blue_collar\", \"exp_school\"), \"value\"\n",
    "    ],\n",
    "    \"white_collar\": params_kw97.loc[\n",
    "        (\"wage_white_collar\", \"exp_school\"), \"value\"\n",
    "    ],\n",
    "    \"miliary\": params_kw97.loc[(\"wage_military\", \"exp_school\"), \"value\"],\n",
    "}\n",
    "return_schooling"
   ]
  },
  {
   "cell_type": "markdown",
   "metadata": {},
   "source": [
    "The **nonpecuniary reward of schooling** consists of a consumption value of school, highschool, and college attendence. The reward is adjusted for type-specific initial endowment."
   ]
  },
  {
   "cell_type": "code",
   "execution_count": 7,
   "metadata": {},
   "outputs": [
    {
     "data": {
      "text/html": [
       "<div>\n",
       "<style scoped>\n",
       "    .dataframe tbody tr th:only-of-type {\n",
       "        vertical-align: middle;\n",
       "    }\n",
       "\n",
       "    .dataframe tbody tr th {\n",
       "        vertical-align: top;\n",
       "    }\n",
       "\n",
       "    .dataframe thead th {\n",
       "        text-align: right;\n",
       "    }\n",
       "</style>\n",
       "<table border=\"1\" class=\"dataframe\">\n",
       "  <thead>\n",
       "    <tr style=\"text-align: right;\">\n",
       "      <th></th>\n",
       "      <th>value</th>\n",
       "      <th>comment</th>\n",
       "    </tr>\n",
       "    <tr>\n",
       "      <th>name</th>\n",
       "      <th></th>\n",
       "      <th></th>\n",
       "    </tr>\n",
       "  </thead>\n",
       "  <tbody>\n",
       "    <tr>\n",
       "      <th>constant</th>\n",
       "      <td>46916.470212</td>\n",
       "      <td>consumption value of school attendance for type 0</td>\n",
       "    </tr>\n",
       "    <tr>\n",
       "      <th>hs_graduate</th>\n",
       "      <td>-2985.101654</td>\n",
       "      <td>consumption value of college</td>\n",
       "    </tr>\n",
       "    <tr>\n",
       "      <th>co_graduate</th>\n",
       "      <td>-26408.496873</td>\n",
       "      <td>consumption value of graduate school</td>\n",
       "    </tr>\n",
       "    <tr>\n",
       "      <th>type_1</th>\n",
       "      <td>-23381.791538</td>\n",
       "      <td>deviation for type 1 from type 0 in edu</td>\n",
       "    </tr>\n",
       "    <tr>\n",
       "      <th>type_2</th>\n",
       "      <td>-30713.784043</td>\n",
       "      <td>deviation for type 2 from type 0 in edu</td>\n",
       "    </tr>\n",
       "    <tr>\n",
       "      <th>type_3</th>\n",
       "      <td>226.254565</td>\n",
       "      <td>deviation for type 3 from type 0 in edu</td>\n",
       "    </tr>\n",
       "  </tbody>\n",
       "</table>\n",
       "</div>"
      ],
      "text/plain": [
       "                    value                                            comment\n",
       "name                                                                        \n",
       "constant     46916.470212  consumption value of school attendance for type 0\n",
       "hs_graduate  -2985.101654                       consumption value of college\n",
       "co_graduate -26408.496873               consumption value of graduate school\n",
       "type_1      -23381.791538            deviation for type 1 from type 0 in edu\n",
       "type_2      -30713.784043            deviation for type 2 from type 0 in edu\n",
       "type_3         226.254565            deviation for type 3 from type 0 in edu"
      ]
     },
     "execution_count": 7,
     "metadata": {},
     "output_type": "execute_result"
    },
    {
     "data": {
      "application/javascript": [
       "\n",
       "            setTimeout(function() {\n",
       "                var nbb_cell_id = 7;\n",
       "                var nbb_unformatted_code = \"params_kw97.loc[\\\"nonpec_school\\\"]\";\n",
       "                var nbb_formatted_code = \"params_kw97.loc[\\\"nonpec_school\\\"]\";\n",
       "                var nbb_cells = Jupyter.notebook.get_cells();\n",
       "                for (var i = 0; i < nbb_cells.length; ++i) {\n",
       "                    if (nbb_cells[i].input_prompt_number == nbb_cell_id) {\n",
       "                        if (nbb_cells[i].get_text() == nbb_unformatted_code) {\n",
       "                             nbb_cells[i].set_text(nbb_formatted_code);\n",
       "                        }\n",
       "                        break;\n",
       "                    }\n",
       "                }\n",
       "            }, 500);\n",
       "            "
      ],
      "text/plain": [
       "<IPython.core.display.Javascript object>"
      ]
     },
     "metadata": {},
     "output_type": "display_data"
    }
   ],
   "source": [
    "params_kw97.loc[\"nonpec_school\"]"
   ]
  },
  {
   "cell_type": "code",
   "execution_count": 8,
   "metadata": {
    "scrolled": true
   },
   "outputs": [
    {
     "name": "stdout",
     "output_type": "stream",
     "text": [
      "Current ambiguity level: 0.0 .\n",
      "Current ambiguity level: 0.01 .\n",
      "Current ambiguity level: 0.02 .\n",
      "Current ambiguity level: 0.1 .\n",
      "Current ambiguity level: 0.2 .\n",
      "Current ambiguity level: 0.5 .\n",
      "Current ambiguity level: 1.0 .\n",
      "Current ambiguity level: 1.5 .\n"
     ]
    },
    {
     "data": {
      "application/javascript": [
       "\n",
       "            setTimeout(function() {\n",
       "                var nbb_cell_id = 8;\n",
       "                var nbb_unformatted_code = \"# Step 4\\nsimulate_ambiguity_models_kw97(\\n    dense_ambiguity_levels, params_kw97, options_kw97\\n)\";\n",
       "                var nbb_formatted_code = \"# Step 4\\nsimulate_ambiguity_models_kw97(dense_ambiguity_levels, params_kw97, options_kw97)\";\n",
       "                var nbb_cells = Jupyter.notebook.get_cells();\n",
       "                for (var i = 0; i < nbb_cells.length; ++i) {\n",
       "                    if (nbb_cells[i].input_prompt_number == nbb_cell_id) {\n",
       "                        if (nbb_cells[i].get_text() == nbb_unformatted_code) {\n",
       "                             nbb_cells[i].set_text(nbb_formatted_code);\n",
       "                        }\n",
       "                        break;\n",
       "                    }\n",
       "                }\n",
       "            }, 500);\n",
       "            "
      ],
      "text/plain": [
       "<IPython.core.display.Javascript object>"
      ]
     },
     "metadata": {},
     "output_type": "display_data"
    }
   ],
   "source": [
    "# Step 4\n",
    "simulate_ambiguity_models_kw97(\n",
    "    dense_ambiguity_levels, params_kw97, options_kw97\n",
    ")"
   ]
  },
  {
   "cell_type": "code",
   "execution_count": 9,
   "metadata": {},
   "outputs": [
    {
     "name": "stdout",
     "output_type": "stream",
     "text": [
      "Current ambiguity level: 0.0 .\n",
      "Current ambiguity level: 1.0 .\n",
      "Current ambiguity level: 2.0 .\n",
      "Current ambiguity level: 3.0 .\n",
      "Current ambiguity level: 4.0 .\n",
      "Current ambiguity level: 5.0 .\n"
     ]
    },
    {
     "data": {
      "application/javascript": [
       "\n",
       "            setTimeout(function() {\n",
       "                var nbb_cell_id = 9;\n",
       "                var nbb_unformatted_code = \"simulate_ambiguity_models_kw97(\\n    spread_ambiguity_levels, params_kw97, options_kw97\\n)\";\n",
       "                var nbb_formatted_code = \"simulate_ambiguity_models_kw97(spread_ambiguity_levels, params_kw97, options_kw97)\";\n",
       "                var nbb_cells = Jupyter.notebook.get_cells();\n",
       "                for (var i = 0; i < nbb_cells.length; ++i) {\n",
       "                    if (nbb_cells[i].input_prompt_number == nbb_cell_id) {\n",
       "                        if (nbb_cells[i].get_text() == nbb_unformatted_code) {\n",
       "                             nbb_cells[i].set_text(nbb_formatted_code);\n",
       "                        }\n",
       "                        break;\n",
       "                    }\n",
       "                }\n",
       "            }, 500);\n",
       "            "
      ],
      "text/plain": [
       "<IPython.core.display.Javascript object>"
      ]
     },
     "metadata": {},
     "output_type": "display_data"
    }
   ],
   "source": [
    "simulate_ambiguity_models_kw97(\n",
    "    spread_ambiguity_levels, params_kw97, options_kw97\n",
    ")"
   ]
  },
  {
   "cell_type": "markdown",
   "metadata": {},
   "source": [
    "<div class=\"alert alert-block alert-success\">  \n",
    "<u><b>Simulate ambiguity and tuition subsidy models</b></u></div>\n",
    "\n",
    "In the following we will simulate a model with different ambiguity levels $\\eta$ *and* various level of tuition subsidies $ts$. The **general steps** to start the simulation are similar as for the ambiguity-only model, but are repeated for convenience:\n",
    "\n",
    "1. Define a dictionary of ambiguity levels for each a model will be simulated\n",
    "2. Define a list of tuition subsidies for each a model will be simualted\n",
    "3. Load a desired model parametrization (pd.DataFrame) and model options (dict)\n",
    "3. Adjust the parameters and options (if necessary)\n",
    "4. Call the function `simulate_ambiguity_ts_models_kw97` and pass the ambiguity dictionary, tuition subsidy list, model parameters, and model options.\n",
    "\n",
    "The function `simulate_ambiguity_models_ts_kw97` simulates for each level of ambiguity $\\eta$ contained in `dense_ambiguity_levels` and each tuition subsidy contained in `tuition_subsidies` a KW97 model $\\mathcal{M}(\\theta, \\eta)$ according to the passed parameters `params_kw97` $\\theta$ and options."
   ]
  },
  {
   "cell_type": "code",
   "execution_count": 10,
   "metadata": {},
   "outputs": [
    {
     "data": {
      "application/javascript": [
       "\n",
       "            setTimeout(function() {\n",
       "                var nbb_cell_id = 10;\n",
       "                var nbb_unformatted_code = \"# Step 2, step 3, step 4\\nNUM_AGENTS = 1000\\nTUITION_SUBSIDIES = [0, 1000]\\n\\n_, options_kw97 = rp.get_example_model(\\\"kw_97_basic\\\", with_data=False)\\nparams_kw97 = pd.read_pickle(\\\"params_revised_basic.pkl\\\")\\noptions_kw97[\\\"simulation_agents\\\"] = NUM_AGENTS\\ninitial_years_schooling_kw97 = 10\";\n",
       "                var nbb_formatted_code = \"# Step 2, step 3, step 4\\nNUM_AGENTS = 1000\\nTUITION_SUBSIDIES = [0, 1000]\\n\\n_, options_kw97 = rp.get_example_model(\\\"kw_97_basic\\\", with_data=False)\\nparams_kw97 = pd.read_pickle(\\\"params_revised_basic.pkl\\\")\\noptions_kw97[\\\"simulation_agents\\\"] = NUM_AGENTS\\ninitial_years_schooling_kw97 = 10\";\n",
       "                var nbb_cells = Jupyter.notebook.get_cells();\n",
       "                for (var i = 0; i < nbb_cells.length; ++i) {\n",
       "                    if (nbb_cells[i].input_prompt_number == nbb_cell_id) {\n",
       "                        if (nbb_cells[i].get_text() == nbb_unformatted_code) {\n",
       "                             nbb_cells[i].set_text(nbb_formatted_code);\n",
       "                        }\n",
       "                        break;\n",
       "                    }\n",
       "                }\n",
       "            }, 500);\n",
       "            "
      ],
      "text/plain": [
       "<IPython.core.display.Javascript object>"
      ]
     },
     "metadata": {},
     "output_type": "display_data"
    }
   ],
   "source": [
    "# Step 2, step 3, step 4\n",
    "NUM_AGENTS = 1000\n",
    "TUITION_SUBSIDIES = [0, 1000]\n",
    "\n",
    "_, options_kw97 = rp.get_example_model(\"kw_97_basic\", with_data=False)\n",
    "params_kw97 = pd.read_pickle(\"params_revised_basic.pkl\")\n",
    "options_kw97[\"simulation_agents\"] = NUM_AGENTS\n",
    "initial_years_schooling_kw97 = 10"
   ]
  },
  {
   "cell_type": "code",
   "execution_count": 11,
   "metadata": {},
   "outputs": [
    {
     "name": "stdout",
     "output_type": "stream",
     "text": [
      "Current ambiguity level: 0.0 and current tuition subsidy: 0 .\n",
      "Current ambiguity level: 0.0 and current tuition subsidy: 1000 .\n",
      "Current ambiguity level: 0.01 and current tuition subsidy: 0 .\n",
      "Current ambiguity level: 0.01 and current tuition subsidy: 1000 .\n",
      "Current ambiguity level: 0.02 and current tuition subsidy: 0 .\n",
      "Current ambiguity level: 0.02 and current tuition subsidy: 1000 .\n",
      "Current ambiguity level: 0.1 and current tuition subsidy: 0 .\n",
      "Current ambiguity level: 0.1 and current tuition subsidy: 1000 .\n",
      "Current ambiguity level: 0.2 and current tuition subsidy: 0 .\n",
      "Current ambiguity level: 0.2 and current tuition subsidy: 1000 .\n",
      "Current ambiguity level: 0.5 and current tuition subsidy: 0 .\n",
      "Current ambiguity level: 0.5 and current tuition subsidy: 1000 .\n",
      "Current ambiguity level: 1.0 and current tuition subsidy: 0 .\n",
      "Current ambiguity level: 1.0 and current tuition subsidy: 1000 .\n",
      "Current ambiguity level: 1.5 and current tuition subsidy: 0 .\n",
      "Current ambiguity level: 1.5 and current tuition subsidy: 1000 .\n"
     ]
    },
    {
     "data": {
      "application/javascript": [
       "\n",
       "            setTimeout(function() {\n",
       "                var nbb_cell_id = 11;\n",
       "                var nbb_unformatted_code = \"# Step 5\\nsimulate_ambiguity_ts_models_kw97(\\n    dense_ambiguity_levels, TUITION_SUBSIDIES, params_kw97, options_kw97\\n)\";\n",
       "                var nbb_formatted_code = \"# Step 5\\nsimulate_ambiguity_ts_models_kw97(\\n    dense_ambiguity_levels, TUITION_SUBSIDIES, params_kw97, options_kw97\\n)\";\n",
       "                var nbb_cells = Jupyter.notebook.get_cells();\n",
       "                for (var i = 0; i < nbb_cells.length; ++i) {\n",
       "                    if (nbb_cells[i].input_prompt_number == nbb_cell_id) {\n",
       "                        if (nbb_cells[i].get_text() == nbb_unformatted_code) {\n",
       "                             nbb_cells[i].set_text(nbb_formatted_code);\n",
       "                        }\n",
       "                        break;\n",
       "                    }\n",
       "                }\n",
       "            }, 500);\n",
       "            "
      ],
      "text/plain": [
       "<IPython.core.display.Javascript object>"
      ]
     },
     "metadata": {},
     "output_type": "display_data"
    }
   ],
   "source": [
    "# Step 5\n",
    "simulate_ambiguity_ts_models_kw97(\n",
    "    dense_ambiguity_levels, TUITION_SUBSIDIES, params_kw97, options_kw97\n",
    ")"
   ]
  },
  {
   "cell_type": "code",
   "execution_count": 12,
   "metadata": {},
   "outputs": [
    {
     "name": "stdout",
     "output_type": "stream",
     "text": [
      "Current ambiguity level: 0.0 and current tuition subsidy: 0 .\n",
      "Current ambiguity level: 0.0 and current tuition subsidy: 1000 .\n",
      "Current ambiguity level: 1.0 and current tuition subsidy: 0 .\n",
      "Current ambiguity level: 1.0 and current tuition subsidy: 1000 .\n",
      "Current ambiguity level: 2.0 and current tuition subsidy: 0 .\n",
      "Current ambiguity level: 2.0 and current tuition subsidy: 1000 .\n",
      "Current ambiguity level: 3.0 and current tuition subsidy: 0 .\n",
      "Current ambiguity level: 3.0 and current tuition subsidy: 1000 .\n",
      "Current ambiguity level: 4.0 and current tuition subsidy: 0 .\n",
      "Current ambiguity level: 4.0 and current tuition subsidy: 1000 .\n",
      "Current ambiguity level: 5.0 and current tuition subsidy: 0 .\n",
      "Current ambiguity level: 5.0 and current tuition subsidy: 1000 .\n"
     ]
    },
    {
     "data": {
      "application/javascript": [
       "\n",
       "            setTimeout(function() {\n",
       "                var nbb_cell_id = 12;\n",
       "                var nbb_unformatted_code = \"simulate_ambiguity_ts_models_kw97(\\n    spread_ambiguity_levels, TUITION_SUBSIDIES, params_kw97, options_kw97\\n)\";\n",
       "                var nbb_formatted_code = \"simulate_ambiguity_ts_models_kw97(\\n    spread_ambiguity_levels, TUITION_SUBSIDIES, params_kw97, options_kw97\\n)\";\n",
       "                var nbb_cells = Jupyter.notebook.get_cells();\n",
       "                for (var i = 0; i < nbb_cells.length; ++i) {\n",
       "                    if (nbb_cells[i].input_prompt_number == nbb_cell_id) {\n",
       "                        if (nbb_cells[i].get_text() == nbb_unformatted_code) {\n",
       "                             nbb_cells[i].set_text(nbb_formatted_code);\n",
       "                        }\n",
       "                        break;\n",
       "                    }\n",
       "                }\n",
       "            }, 500);\n",
       "            "
      ],
      "text/plain": [
       "<IPython.core.display.Javascript object>"
      ]
     },
     "metadata": {},
     "output_type": "display_data"
    }
   ],
   "source": [
    "simulate_ambiguity_ts_models_kw97(\n",
    "    spread_ambiguity_levels, TUITION_SUBSIDIES, params_kw97, options_kw97\n",
    ")"
   ]
  },
  {
   "cell_type": "markdown",
   "metadata": {},
   "source": [
    "<div class=\"alert alert-block alert-warning\">  \n",
    "<u><b>Terminology</b></u></div>\n",
    "\n",
    "- `dict_ambiguity_levels`   \n",
    "dictionary that contains a name (first entry) along with specified ambiguity levels\n",
    "- `simulated_ambiguity_model`   \n",
    "pd.DataFrame with the simulated decisions of the agents given by the model $\\mathcal{M}(\\theta)$\n",
    "- `dict_simulated_ambiguity_models`   \n",
    "dictionary that contains a `simulated_ambiguity_model` for each ambiguity level specified in `dict_ambiguity_levels`  \n",
    "- `df_params`  \n",
    "pd.DataFrame that contains the desired parametrization of the model $\\mathcal{M}(\\theta)$\n",
    "- `dict_options`  \n",
    "dictionary that contains the options for the simulation of the model"
   ]
  }
 ],
 "metadata": {
  "kernelspec": {
   "display_name": "Python 3",
   "language": "python",
   "name": "python3"
  },
  "language_info": {
   "codemirror_mode": {
    "name": "ipython",
    "version": 3
   },
   "file_extension": ".py",
   "mimetype": "text/x-python",
   "name": "python",
   "nbconvert_exporter": "python",
   "pygments_lexer": "ipython3",
   "version": "3.7.6"
  }
 },
 "nbformat": 4,
 "nbformat_minor": 4
}

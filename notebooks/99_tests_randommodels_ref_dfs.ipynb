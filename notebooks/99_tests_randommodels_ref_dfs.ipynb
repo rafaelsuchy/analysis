{
 "cells": [
  {
   "cell_type": "code",
   "execution_count": 1,
   "metadata": {},
   "outputs": [
    {
     "data": {
      "application/javascript": [
       "\n",
       "            setTimeout(function() {\n",
       "                var nbb_cell_id = 1;\n",
       "                var nbb_unformatted_code = \"import numpy as np\\nimport pandas as pd\\n\\nfrom respy.simulate import get_simulate_func\\nfrom respy.likelihood import get_crit_func\\nfrom respy.tests.random_model import generate_random_model\\n\\n%load_ext nb_black\";\n",
       "                var nbb_formatted_code = \"import numpy as np\\nimport pandas as pd\\n\\nfrom respy.simulate import get_simulate_func\\nfrom respy.likelihood import get_crit_func\\nfrom respy.tests.random_model import generate_random_model\\n\\n%load_ext nb_black\";\n",
       "                var nbb_cells = Jupyter.notebook.get_cells();\n",
       "                for (var i = 0; i < nbb_cells.length; ++i) {\n",
       "                    if (nbb_cells[i].input_prompt_number == nbb_cell_id) {\n",
       "                        if (nbb_cells[i].get_text() == nbb_unformatted_code) {\n",
       "                             nbb_cells[i].set_text(nbb_formatted_code);\n",
       "                        }\n",
       "                        break;\n",
       "                    }\n",
       "                }\n",
       "            }, 500);\n",
       "            "
      ],
      "text/plain": [
       "<IPython.core.display.Javascript object>"
      ]
     },
     "metadata": {},
     "output_type": "display_data"
    }
   ],
   "source": [
    "import numpy as np\n",
    "import pandas as pd\n",
    "\n",
    "from respy.simulate import get_simulate_func\n",
    "from respy.likelihood import get_crit_func\n",
    "from respy.tests.random_model import generate_random_model\n",
    "\n",
    "%load_ext nb_black"
   ]
  },
  {
   "cell_type": "code",
   "execution_count": 2,
   "metadata": {},
   "outputs": [
    {
     "data": {
      "application/javascript": [
       "\n",
       "            setTimeout(function() {\n",
       "                var nbb_cell_id = 2;\n",
       "                var nbb_unformatted_code = \"def random_ambiguity():\\n    ambiguity_value_ = np.random.uniform(low=0.001, high=0.02)\\n    return ambiguity_value_\";\n",
       "                var nbb_formatted_code = \"def random_ambiguity():\\n    ambiguity_value_ = np.random.uniform(low=0.001, high=0.02)\\n    return ambiguity_value_\";\n",
       "                var nbb_cells = Jupyter.notebook.get_cells();\n",
       "                for (var i = 0; i < nbb_cells.length; ++i) {\n",
       "                    if (nbb_cells[i].input_prompt_number == nbb_cell_id) {\n",
       "                        if (nbb_cells[i].get_text() == nbb_unformatted_code) {\n",
       "                             nbb_cells[i].set_text(nbb_formatted_code);\n",
       "                        }\n",
       "                        break;\n",
       "                    }\n",
       "                }\n",
       "            }, 500);\n",
       "            "
      ],
      "text/plain": [
       "<IPython.core.display.Javascript object>"
      ]
     },
     "metadata": {},
     "output_type": "display_data"
    }
   ],
   "source": [
    "def random_ambiguity():\n",
    "    ambiguity_value_ = np.random.uniform(low=0.001, high=0.02)\n",
    "    return ambiguity_value_"
   ]
  },
  {
   "cell_type": "code",
   "execution_count": null,
   "metadata": {},
   "outputs": [],
   "source": [
    "NUM_RANDOM_MODELS = 200\n",
    "\n",
    "for i in range(int(NUM_RANDOM_MODELS)):\n",
    "    params, options = generate_random_model()\n",
    "\n",
    "    simulate_func = get_simulate_func(params, options)\n",
    "    df = simulate_func(params)\n",
    "\n",
    "    loglike_func = get_crit_func(\n",
    "        params, options, df, return_comparison_plot_data=False\n",
    "    )\n",
    "    loglike = loglike_func(params)\n",
    "\n",
    "    if i == 0:\n",
    "        df_ll_ms = pd.concat({i: params}, names=[\"modelspec\"])\n",
    "        df_ll_ms.loc[(i, \"options\", \"options\"), :] = [\n",
    "            options,\n",
    "            \"options dictionary for given model specification\",\n",
    "            \"NaN\",\n",
    "            \"NaN\",\n",
    "        ]\n",
    "        df_ll_ms.loc[(i, \"loglike\", \"loglike\"), :] = [\n",
    "            loglike,\n",
    "            \"loglike value\",\n",
    "            \"NaN\",\n",
    "            \"NaN\",\n",
    "        ]\n",
    "\n",
    "    else:\n",
    "        new_df = pd.concat({i: params}, names=[\"modelspec\"])\n",
    "        new_df.loc[(i, \"options\", \"options\"), :] = [\n",
    "            options,\n",
    "            \"options dictionary for given model specification\",\n",
    "            \"NaN\",\n",
    "            \"NaN\",\n",
    "        ]\n",
    "        new_df.loc[(i, \"loglike\", \"loglike\"), :] = [\n",
    "            loglike,\n",
    "            \"loglike value\",\n",
    "            \"NaN\",\n",
    "            \"NaN\",\n",
    "        ]\n",
    "\n",
    "        df_ll_ms = df_ll_ms.append(new_df)\n",
    "\n",
    "# Do not change path: Ensures that \"old\" test files are never overwritten in ../tests/resources\n",
    "df_ll_ms.to_pickle(\"../tests/df_loglike_modelspecification.pickle\")"
   ]
  }
 ],
 "metadata": {
  "kernelspec": {
   "display_name": "Python 3",
   "language": "python",
   "name": "python3"
  },
  "language_info": {
   "codemirror_mode": {
    "name": "ipython",
    "version": 3
   },
   "file_extension": ".py",
   "mimetype": "text/x-python",
   "name": "python",
   "nbconvert_exporter": "python",
   "pygments_lexer": "ipython3",
   "version": "3.7.6"
  }
 },
 "nbformat": 4,
 "nbformat_minor": 4
}

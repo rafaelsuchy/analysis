{
 "cells": [
  {
   "cell_type": "code",
   "execution_count": 1,
   "metadata": {},
   "outputs": [
    {
     "data": {
      "application/javascript": [
       "\n",
       "            setTimeout(function() {\n",
       "                var nbb_cell_id = 1;\n",
       "                var nbb_unformatted_code = \"# Imports\\n%load_ext nb_black\\nimport numpy as np\\nimport pandas as pd\\nimport respy as rp\\nfrom estimagic.optimization.optimize import minimize\";\n",
       "                var nbb_formatted_code = \"# Imports\\n%load_ext nb_black\\nimport numpy as np\\nimport pandas as pd\\nimport respy as rp\\nfrom estimagic.optimization.optimize import minimize\";\n",
       "                var nbb_cells = Jupyter.notebook.get_cells();\n",
       "                for (var i = 0; i < nbb_cells.length; ++i) {\n",
       "                    if (nbb_cells[i].input_prompt_number == nbb_cell_id) {\n",
       "                        if (nbb_cells[i].get_text() == nbb_unformatted_code) {\n",
       "                             nbb_cells[i].set_text(nbb_formatted_code);\n",
       "                        }\n",
       "                        break;\n",
       "                    }\n",
       "                }\n",
       "            }, 500);\n",
       "            "
      ],
      "text/plain": [
       "<IPython.core.display.Javascript object>"
      ]
     },
     "metadata": {},
     "output_type": "display_data"
    }
   ],
   "source": [
    "import numpy as np\n",
    "import respy as rp\n",
    "from estimagic.optimization.optimize import minimize\n",
    "\n",
    "%load_ext nb_black"
   ]
  },
  {
   "cell_type": "code",
   "execution_count": 2,
   "metadata": {},
   "outputs": [
    {
     "data": {
      "application/javascript": [
       "\n",
       "            setTimeout(function() {\n",
       "                var nbb_cell_id = 2;\n",
       "                var nbb_unformatted_code = \"# Parameters for the simulation --> will go to config.py\\nNUM_AGENTS = 500\\nNUM_PERIODS = 5\";\n",
       "                var nbb_formatted_code = \"# Parameters for the simulation --> will go to config.py\\nNUM_AGENTS = 500\\nNUM_PERIODS = 5\";\n",
       "                var nbb_cells = Jupyter.notebook.get_cells();\n",
       "                for (var i = 0; i < nbb_cells.length; ++i) {\n",
       "                    if (nbb_cells[i].input_prompt_number == nbb_cell_id) {\n",
       "                        if (nbb_cells[i].get_text() == nbb_unformatted_code) {\n",
       "                             nbb_cells[i].set_text(nbb_formatted_code);\n",
       "                        }\n",
       "                        break;\n",
       "                    }\n",
       "                }\n",
       "            }, 500);\n",
       "            "
      ],
      "text/plain": [
       "<IPython.core.display.Javascript object>"
      ]
     },
     "metadata": {},
     "output_type": "display_data"
    }
   ],
   "source": [
    "# Parameters for the simulation --> will go to config.py\n",
    "NUM_AGENTS = 500\n",
    "NUM_PERIODS = 5"
   ]
  },
  {
   "cell_type": "markdown",
   "metadata": {},
   "source": [
    "In the following we will simulate 500 representative Robinson Crusoe agents that live and plan for 5 periods."
   ]
  },
  {
   "cell_type": "code",
   "execution_count": 3,
   "metadata": {},
   "outputs": [
    {
     "data": {
      "application/javascript": [
       "\n",
       "            setTimeout(function() {\n",
       "                var nbb_cell_id = 3;\n",
       "                var nbb_unformatted_code = \"params_base, options = rp.get_example_model(\\\"robinson_crusoe_basic\\\", with_data=False)\\noptions[\\\"n_periods\\\"] = NUM_PERIODS\\noptions[\\\"simulation_agents\\\"] = NUM_AGENTS\";\n",
       "                var nbb_formatted_code = \"params_base, options = rp.get_example_model(\\\"robinson_crusoe_basic\\\", with_data=False)\\noptions[\\\"n_periods\\\"] = NUM_PERIODS\\noptions[\\\"simulation_agents\\\"] = NUM_AGENTS\";\n",
       "                var nbb_cells = Jupyter.notebook.get_cells();\n",
       "                for (var i = 0; i < nbb_cells.length; ++i) {\n",
       "                    if (nbb_cells[i].input_prompt_number == nbb_cell_id) {\n",
       "                        if (nbb_cells[i].get_text() == nbb_unformatted_code) {\n",
       "                             nbb_cells[i].set_text(nbb_formatted_code);\n",
       "                        }\n",
       "                        break;\n",
       "                    }\n",
       "                }\n",
       "            }, 500);\n",
       "            "
      ],
      "text/plain": [
       "<IPython.core.display.Javascript object>"
      ]
     },
     "metadata": {},
     "output_type": "display_data"
    }
   ],
   "source": [
    "params_base, options = rp.get_example_model(\"robinson_crusoe_basic\", with_data=False)\n",
    "options[\"n_periods\"] = NUM_PERIODS\n",
    "options[\"simulation_agents\"] = NUM_AGENTS"
   ]
  },
  {
   "cell_type": "markdown",
   "metadata": {},
   "source": [
    "**Simulation**\n",
    "1. Build the simulate function.\n",
    "2. Enter the parameters into the built simulate function and simulate the agents"
   ]
  },
  {
   "cell_type": "code",
   "execution_count": 4,
   "metadata": {},
   "outputs": [
    {
     "data": {
      "application/javascript": [
       "\n",
       "            setTimeout(function() {\n",
       "                var nbb_cell_id = 4;\n",
       "                var nbb_unformatted_code = \"simulate = rp.get_simulate_func(params_base, options)\\ndf_base = simulate(params_base)\";\n",
       "                var nbb_formatted_code = \"simulate = rp.get_simulate_func(params_base, options)\\ndf_base = simulate(params_base)\";\n",
       "                var nbb_cells = Jupyter.notebook.get_cells();\n",
       "                for (var i = 0; i < nbb_cells.length; ++i) {\n",
       "                    if (nbb_cells[i].input_prompt_number == nbb_cell_id) {\n",
       "                        if (nbb_cells[i].get_text() == nbb_unformatted_code) {\n",
       "                             nbb_cells[i].set_text(nbb_formatted_code);\n",
       "                        }\n",
       "                        break;\n",
       "                    }\n",
       "                }\n",
       "            }, 500);\n",
       "            "
      ],
      "text/plain": [
       "<IPython.core.display.Javascript object>"
      ]
     },
     "metadata": {},
     "output_type": "display_data"
    }
   ],
   "source": [
    "simulate = rp.get_simulate_func(params_base, options)\n",
    "df_base = simulate(params_base)"
   ]
  },
  {
   "cell_type": "markdown",
   "metadata": {},
   "source": [
    "The observed data will show that our 500th agent will alternate between hammock and fishing. In the first two periods he will idle around in the hammock. In period 2 he starts to go fishing in order to make a living. However, in the last period our Robinson No. 500 decides to go into retirement in the hammock."
   ]
  },
  {
   "cell_type": "code",
   "execution_count": 5,
   "metadata": {},
   "outputs": [
    {
     "data": {
      "application/javascript": [
       "\n",
       "            setTimeout(function() {\n",
       "                var nbb_cell_id = 5;\n",
       "                var nbb_unformatted_code = \"# df_base.tail(10)\";\n",
       "                var nbb_formatted_code = \"# df_base.tail(10)\";\n",
       "                var nbb_cells = Jupyter.notebook.get_cells();\n",
       "                for (var i = 0; i < nbb_cells.length; ++i) {\n",
       "                    if (nbb_cells[i].input_prompt_number == nbb_cell_id) {\n",
       "                        if (nbb_cells[i].get_text() == nbb_unformatted_code) {\n",
       "                             nbb_cells[i].set_text(nbb_formatted_code);\n",
       "                        }\n",
       "                        break;\n",
       "                    }\n",
       "                }\n",
       "            }, 500);\n",
       "            "
      ],
      "text/plain": [
       "<IPython.core.display.Javascript object>"
      ]
     },
     "metadata": {},
     "output_type": "display_data"
    }
   ],
   "source": [
    "# df_base.tail(10)"
   ]
  },
  {
   "cell_type": "markdown",
   "metadata": {},
   "source": [
    "We \"select\" our moments that we will use for the MSM procedure\n",
    "- Choice frequencies\n",
    "- Wage distribution"
   ]
  },
  {
   "cell_type": "code",
   "execution_count": 6,
   "metadata": {},
   "outputs": [
    {
     "data": {
      "application/javascript": [
       "\n",
       "            setTimeout(function() {\n",
       "                var nbb_cell_id = 6;\n",
       "                var nbb_unformatted_code = \"def calc_choice_frequencies(df):\\n    \\\"\\\"\\\"Calculation of choice frequencies\\\"\\\"\\\"\\n    return df.groupby(\\\"Period\\\").Choice.value_counts(normalize=True).unstack()\";\n",
       "                var nbb_formatted_code = \"def calc_choice_frequencies(df):\\n    \\\"\\\"\\\"Calculation of choice frequencies\\\"\\\"\\\"\\n    return df.groupby(\\\"Period\\\").Choice.value_counts(normalize=True).unstack()\";\n",
       "                var nbb_cells = Jupyter.notebook.get_cells();\n",
       "                for (var i = 0; i < nbb_cells.length; ++i) {\n",
       "                    if (nbb_cells[i].input_prompt_number == nbb_cell_id) {\n",
       "                        if (nbb_cells[i].get_text() == nbb_unformatted_code) {\n",
       "                             nbb_cells[i].set_text(nbb_formatted_code);\n",
       "                        }\n",
       "                        break;\n",
       "                    }\n",
       "                }\n",
       "            }, 500);\n",
       "            "
      ],
      "text/plain": [
       "<IPython.core.display.Javascript object>"
      ]
     },
     "metadata": {},
     "output_type": "display_data"
    }
   ],
   "source": [
    "def calc_choice_frequencies(df):\n",
    "    \"\"\"Calculation of choice frequencies\"\"\"\n",
    "    return df.groupby(\"Period\").Choice.value_counts(normalize=True).unstack()"
   ]
  },
  {
   "cell_type": "code",
   "execution_count": 7,
   "metadata": {},
   "outputs": [
    {
     "data": {
      "application/javascript": [
       "\n",
       "            setTimeout(function() {\n",
       "                var nbb_cell_id = 7;\n",
       "                var nbb_unformatted_code = \"def calc_wage_distribution(df):\\n    \\\"\\\"\\\"Calculation of wage distribution\\\"\\\"\\\"\\n    return df.groupby([\\\"Period\\\"])[\\\"Wage\\\"].describe()[[\\\"mean\\\", \\\"std\\\"]]\";\n",
       "                var nbb_formatted_code = \"def calc_wage_distribution(df):\\n    \\\"\\\"\\\"Calculation of wage distribution\\\"\\\"\\\"\\n    return df.groupby([\\\"Period\\\"])[\\\"Wage\\\"].describe()[[\\\"mean\\\", \\\"std\\\"]]\";\n",
       "                var nbb_cells = Jupyter.notebook.get_cells();\n",
       "                for (var i = 0; i < nbb_cells.length; ++i) {\n",
       "                    if (nbb_cells[i].input_prompt_number == nbb_cell_id) {\n",
       "                        if (nbb_cells[i].get_text() == nbb_unformatted_code) {\n",
       "                             nbb_cells[i].set_text(nbb_formatted_code);\n",
       "                        }\n",
       "                        break;\n",
       "                    }\n",
       "                }\n",
       "            }, 500);\n",
       "            "
      ],
      "text/plain": [
       "<IPython.core.display.Javascript object>"
      ]
     },
     "metadata": {},
     "output_type": "display_data"
    }
   ],
   "source": [
    "def calc_wage_distribution(df):\n",
    "    \"\"\"Calculation of wage distribution\"\"\"\n",
    "    return df.groupby([\"Period\"])[\"Wage\"].describe()[[\"mean\", \"std\"]]"
   ]
  },
  {
   "cell_type": "code",
   "execution_count": 8,
   "metadata": {},
   "outputs": [
    {
     "data": {
      "application/javascript": [
       "\n",
       "            setTimeout(function() {\n",
       "                var nbb_cell_id = 8;\n",
       "                var nbb_unformatted_code = \"def fill_nans_zero(df):\\n    return df.fillna(0)\";\n",
       "                var nbb_formatted_code = \"def fill_nans_zero(df):\\n    return df.fillna(0)\";\n",
       "                var nbb_cells = Jupyter.notebook.get_cells();\n",
       "                for (var i = 0; i < nbb_cells.length; ++i) {\n",
       "                    if (nbb_cells[i].input_prompt_number == nbb_cell_id) {\n",
       "                        if (nbb_cells[i].get_text() == nbb_unformatted_code) {\n",
       "                             nbb_cells[i].set_text(nbb_formatted_code);\n",
       "                        }\n",
       "                        break;\n",
       "                    }\n",
       "                }\n",
       "            }, 500);\n",
       "            "
      ],
      "text/plain": [
       "<IPython.core.display.Javascript object>"
      ]
     },
     "metadata": {},
     "output_type": "display_data"
    }
   ],
   "source": [
    "def fill_nans_zero(df):\n",
    "    return df.fillna(0)"
   ]
  },
  {
   "cell_type": "markdown",
   "metadata": {},
   "source": [
    "Assemble the desired calculation wrapper for moments. Currently supported methods are\n",
    "- `calc_choice_frequencies`\n",
    "- `calc_wage_distribution`"
   ]
  },
  {
   "cell_type": "code",
   "execution_count": 9,
   "metadata": {},
   "outputs": [
    {
     "data": {
      "application/javascript": [
       "\n",
       "            setTimeout(function() {\n",
       "                var nbb_cell_id = 9;\n",
       "                var nbb_unformatted_code = \"calc_moments = {\\n    \\\"Choice Frequencies\\\": calc_choice_frequencies,\\n    \\\"Wage Distribution\\\": calc_wage_distribution,\\n}\";\n",
       "                var nbb_formatted_code = \"calc_moments = {\\n    \\\"Choice Frequencies\\\": calc_choice_frequencies,\\n    \\\"Wage Distribution\\\": calc_wage_distribution,\\n}\";\n",
       "                var nbb_cells = Jupyter.notebook.get_cells();\n",
       "                for (var i = 0; i < nbb_cells.length; ++i) {\n",
       "                    if (nbb_cells[i].input_prompt_number == nbb_cell_id) {\n",
       "                        if (nbb_cells[i].get_text() == nbb_unformatted_code) {\n",
       "                             nbb_cells[i].set_text(nbb_formatted_code);\n",
       "                        }\n",
       "                        break;\n",
       "                    }\n",
       "                }\n",
       "            }, 500);\n",
       "            "
      ],
      "text/plain": [
       "<IPython.core.display.Javascript object>"
      ]
     },
     "metadata": {},
     "output_type": "display_data"
    }
   ],
   "source": [
    "calc_moments = {\n",
    "    \"Choice Frequencies\": calc_choice_frequencies,\n",
    "    \"Wage Distribution\": calc_wage_distribution,\n",
    "}"
   ]
  },
  {
   "cell_type": "markdown",
   "metadata": {},
   "source": [
    "We need to define how to deal with missings: We will just replace them with 0-values."
   ]
  },
  {
   "cell_type": "code",
   "execution_count": 10,
   "metadata": {},
   "outputs": [
    {
     "data": {
      "application/javascript": [
       "\n",
       "            setTimeout(function() {\n",
       "                var nbb_cell_id = 10;\n",
       "                var nbb_unformatted_code = \"def replace_nans(df):\\n    return df.fillna(0)\";\n",
       "                var nbb_formatted_code = \"def replace_nans(df):\\n    return df.fillna(0)\";\n",
       "                var nbb_cells = Jupyter.notebook.get_cells();\n",
       "                for (var i = 0; i < nbb_cells.length; ++i) {\n",
       "                    if (nbb_cells[i].input_prompt_number == nbb_cell_id) {\n",
       "                        if (nbb_cells[i].get_text() == nbb_unformatted_code) {\n",
       "                             nbb_cells[i].set_text(nbb_formatted_code);\n",
       "                        }\n",
       "                        break;\n",
       "                    }\n",
       "                }\n",
       "            }, 500);\n",
       "            "
      ],
      "text/plain": [
       "<IPython.core.display.Javascript object>"
      ]
     },
     "metadata": {},
     "output_type": "display_data"
    }
   ],
   "source": [
    "def replace_nans(df):\n",
    "    return df.fillna(0)"
   ]
  },
  {
   "cell_type": "code",
   "execution_count": 11,
   "metadata": {},
   "outputs": [
    {
     "data": {
      "application/javascript": [
       "\n",
       "            setTimeout(function() {\n",
       "                var nbb_cell_id = 11;\n",
       "                var nbb_unformatted_code = \"moments_obs = {\\n    \\\"Choice Frequencies\\\": replace_nans(calc_moments[\\\"Choice Frequencies\\\"](df_base)),\\n    \\\"Wage Distribution\\\": replace_nans(calc_moments[\\\"Wage Distribution\\\"](df_base)),\\n}\";\n",
       "                var nbb_formatted_code = \"moments_obs = {\\n    \\\"Choice Frequencies\\\": replace_nans(calc_moments[\\\"Choice Frequencies\\\"](df_base)),\\n    \\\"Wage Distribution\\\": replace_nans(calc_moments[\\\"Wage Distribution\\\"](df_base)),\\n}\";\n",
       "                var nbb_cells = Jupyter.notebook.get_cells();\n",
       "                for (var i = 0; i < nbb_cells.length; ++i) {\n",
       "                    if (nbb_cells[i].input_prompt_number == nbb_cell_id) {\n",
       "                        if (nbb_cells[i].get_text() == nbb_unformatted_code) {\n",
       "                             nbb_cells[i].set_text(nbb_formatted_code);\n",
       "                        }\n",
       "                        break;\n",
       "                    }\n",
       "                }\n",
       "            }, 500);\n",
       "            "
      ],
      "text/plain": [
       "<IPython.core.display.Javascript object>"
      ]
     },
     "metadata": {},
     "output_type": "display_data"
    }
   ],
   "source": [
    "moments_obs = {\n",
    "    \"Choice Frequencies\": replace_nans(calc_moments[\"Choice Frequencies\"](df_base)),\n",
    "    \"Wage Distribution\": replace_nans(calc_moments[\"Wage Distribution\"](df_base)),\n",
    "}"
   ]
  },
  {
   "cell_type": "code",
   "execution_count": 12,
   "metadata": {},
   "outputs": [
    {
     "data": {
      "application/javascript": [
       "\n",
       "            setTimeout(function() {\n",
       "                var nbb_cell_id = 12;\n",
       "                var nbb_unformatted_code = \"# print('Choice Frequencies')\\n# print(moments_obs[\\\"Choice Frequencies\\\"])\\n# print('\\\\n Wage Distribution')\\n# print(moments_obs[\\\"Wage Distribution\\\"])\";\n",
       "                var nbb_formatted_code = \"# print('Choice Frequencies')\\n# print(moments_obs[\\\"Choice Frequencies\\\"])\\n# print('\\\\n Wage Distribution')\\n# print(moments_obs[\\\"Wage Distribution\\\"])\";\n",
       "                var nbb_cells = Jupyter.notebook.get_cells();\n",
       "                for (var i = 0; i < nbb_cells.length; ++i) {\n",
       "                    if (nbb_cells[i].input_prompt_number == nbb_cell_id) {\n",
       "                        if (nbb_cells[i].get_text() == nbb_unformatted_code) {\n",
       "                             nbb_cells[i].set_text(nbb_formatted_code);\n",
       "                        }\n",
       "                        break;\n",
       "                    }\n",
       "                }\n",
       "            }, 500);\n",
       "            "
      ],
      "text/plain": [
       "<IPython.core.display.Javascript object>"
      ]
     },
     "metadata": {},
     "output_type": "display_data"
    }
   ],
   "source": [
    "# print('Choice Frequencies')\n",
    "# print(moments_obs[\"Choice Frequencies\"])\n",
    "# print('\\n Wage Distribution')\n",
    "# print(moments_obs[\"Wage Distribution\"])"
   ]
  },
  {
   "cell_type": "code",
   "execution_count": 13,
   "metadata": {},
   "outputs": [
    {
     "data": {
      "application/javascript": [
       "\n",
       "            setTimeout(function() {\n",
       "                var nbb_cell_id = 13;\n",
       "                var nbb_unformatted_code = \"def get_weighting_matrix(data, calc_moments, num_boots, num_agents_msm):\\n    \\\"\\\"\\\" Compute weighting matrix for estimation with MSM.\\\"\\\"\\\"\\n    # Seed for reproducibility.\\n    np.random.seed(123)\\n\\n    index_base = data.index.get_level_values(\\\"Identifier\\\").unique()\\n\\n    # Create bootstrapped moments.\\n    moments_sample = list()\\n    for _ in range(num_boots):\\n        ids_boot = np.random.choice(index_base, num_agents_msm, replace=False)\\n        moments_boot = [\\n            calc_moments[key](data.loc[ids_boot, :]) for key in calc_moments.keys()\\n        ]\\n\\n        moments_boot = rp.get_flat_moments(moments_boot)\\n\\n        moments_sample.append(moments_boot)\\n\\n    # Compute variance for each moment and construct diagonal weighting matrix.\\n    moments_var = np.array(moments_sample).var(axis=0)\\n    weighting_matrix = np.diag(moments_var ** (-1))\\n\\n    return np.nan_to_num(weighting_matrix)\";\n",
       "                var nbb_formatted_code = \"def get_weighting_matrix(data, calc_moments, num_boots, num_agents_msm):\\n    \\\"\\\"\\\" Compute weighting matrix for estimation with MSM.\\\"\\\"\\\"\\n    # Seed for reproducibility.\\n    np.random.seed(123)\\n\\n    index_base = data.index.get_level_values(\\\"Identifier\\\").unique()\\n\\n    # Create bootstrapped moments.\\n    moments_sample = list()\\n    for _ in range(num_boots):\\n        ids_boot = np.random.choice(index_base, num_agents_msm, replace=False)\\n        moments_boot = [\\n            calc_moments[key](data.loc[ids_boot, :]) for key in calc_moments.keys()\\n        ]\\n\\n        moments_boot = rp.get_flat_moments(moments_boot)\\n\\n        moments_sample.append(moments_boot)\\n\\n    # Compute variance for each moment and construct diagonal weighting matrix.\\n    moments_var = np.array(moments_sample).var(axis=0)\\n    weighting_matrix = np.diag(moments_var ** (-1))\\n\\n    return np.nan_to_num(weighting_matrix)\";\n",
       "                var nbb_cells = Jupyter.notebook.get_cells();\n",
       "                for (var i = 0; i < nbb_cells.length; ++i) {\n",
       "                    if (nbb_cells[i].input_prompt_number == nbb_cell_id) {\n",
       "                        if (nbb_cells[i].get_text() == nbb_unformatted_code) {\n",
       "                             nbb_cells[i].set_text(nbb_formatted_code);\n",
       "                        }\n",
       "                        break;\n",
       "                    }\n",
       "                }\n",
       "            }, 500);\n",
       "            "
      ],
      "text/plain": [
       "<IPython.core.display.Javascript object>"
      ]
     },
     "metadata": {},
     "output_type": "display_data"
    }
   ],
   "source": [
    "def get_weighting_matrix(data, calc_moments, num_boots, num_agents_msm):\n",
    "    \"\"\" Compute weighting matrix for estimation with MSM.\"\"\"\n",
    "    # Seed for reproducibility.\n",
    "    np.random.seed(123)\n",
    "\n",
    "    index_base = data.index.get_level_values(\"Identifier\").unique()\n",
    "\n",
    "    # Create bootstrapped moments.\n",
    "    moments_sample = list()\n",
    "    for _ in range(num_boots):\n",
    "        ids_boot = np.random.choice(index_base, num_agents_msm, replace=False)\n",
    "        moments_boot = [\n",
    "            calc_moments[key](data.loc[ids_boot, :]) for key in calc_moments.keys()\n",
    "        ]\n",
    "\n",
    "        moments_boot = rp.get_flat_moments(moments_boot)\n",
    "\n",
    "        moments_sample.append(moments_boot)\n",
    "\n",
    "    # Compute variance for each moment and construct diagonal weighting matrix.\n",
    "    moments_var = np.array(moments_sample).var(axis=0)\n",
    "    weighting_matrix = np.diag(moments_var ** (-1))\n",
    "\n",
    "    return np.nan_to_num(weighting_matrix)"
   ]
  },
  {
   "cell_type": "code",
   "execution_count": 14,
   "metadata": {},
   "outputs": [
    {
     "data": {
      "application/javascript": [
       "\n",
       "            setTimeout(function() {\n",
       "                var nbb_cell_id = 14;\n",
       "                var nbb_unformatted_code = \"weighting_matrix = rp.get_diag_weighting_matrix(moments_obs)\";\n",
       "                var nbb_formatted_code = \"weighting_matrix = rp.get_diag_weighting_matrix(moments_obs)\";\n",
       "                var nbb_cells = Jupyter.notebook.get_cells();\n",
       "                for (var i = 0; i < nbb_cells.length; ++i) {\n",
       "                    if (nbb_cells[i].input_prompt_number == nbb_cell_id) {\n",
       "                        if (nbb_cells[i].get_text() == nbb_unformatted_code) {\n",
       "                             nbb_cells[i].set_text(nbb_formatted_code);\n",
       "                        }\n",
       "                        break;\n",
       "                    }\n",
       "                }\n",
       "            }, 500);\n",
       "            "
      ],
      "text/plain": [
       "<IPython.core.display.Javascript object>"
      ]
     },
     "metadata": {},
     "output_type": "display_data"
    }
   ],
   "source": [
    "weighting_matrix = rp.get_diag_weighting_matrix(moments_obs)"
   ]
  },
  {
   "cell_type": "code",
   "execution_count": 15,
   "metadata": {},
   "outputs": [
    {
     "data": {
      "application/javascript": [
       "\n",
       "            setTimeout(function() {\n",
       "                var nbb_cell_id = 15;\n",
       "                var nbb_unformatted_code = \"msm = rp.get_msm_func(\\n    params=params_base,\\n    options=options,\\n    calc_moments=calc_moments,\\n    replace_nans = fill_nans_zero,\\n    empirical_moments=moments_obs,\\n    weighting_matrix = weighting_matrix,\\n    return_scalar=True,\\n)\";\n",
       "                var nbb_formatted_code = \"msm = rp.get_msm_func(\\n    params=params_base,\\n    options=options,\\n    calc_moments=calc_moments,\\n    replace_nans=fill_nans_zero,\\n    empirical_moments=moments_obs,\\n    weighting_matrix=weighting_matrix,\\n    return_scalar=True,\\n)\";\n",
       "                var nbb_cells = Jupyter.notebook.get_cells();\n",
       "                for (var i = 0; i < nbb_cells.length; ++i) {\n",
       "                    if (nbb_cells[i].input_prompt_number == nbb_cell_id) {\n",
       "                        if (nbb_cells[i].get_text() == nbb_unformatted_code) {\n",
       "                             nbb_cells[i].set_text(nbb_formatted_code);\n",
       "                        }\n",
       "                        break;\n",
       "                    }\n",
       "                }\n",
       "            }, 500);\n",
       "            "
      ],
      "text/plain": [
       "<IPython.core.display.Javascript object>"
      ]
     },
     "metadata": {},
     "output_type": "display_data"
    }
   ],
   "source": [
    "msm = rp.get_msm_func(\n",
    "    params=params_base,\n",
    "    options=options,\n",
    "    calc_moments=calc_moments,\n",
    "    replace_nans=fill_nans_zero,\n",
    "    empirical_moments=moments_obs,\n",
    "    weighting_matrix=weighting_matrix,\n",
    "    return_scalar=True,\n",
    ")"
   ]
  },
  {
   "cell_type": "code",
   "execution_count": 16,
   "metadata": {},
   "outputs": [
    {
     "data": {
      "application/javascript": [
       "\n",
       "            setTimeout(function() {\n",
       "                var nbb_cell_id = 16;\n",
       "                var nbb_unformatted_code = \"criterion_msm_base = rp.get_msm_func(\\n    params_base, options, calc_moments, replace_nans, moments_obs, weighting_matrix\\n)\";\n",
       "                var nbb_formatted_code = \"criterion_msm_base = rp.get_msm_func(\\n    params_base, options, calc_moments, replace_nans, moments_obs, weighting_matrix\\n)\";\n",
       "                var nbb_cells = Jupyter.notebook.get_cells();\n",
       "                for (var i = 0; i < nbb_cells.length; ++i) {\n",
       "                    if (nbb_cells[i].input_prompt_number == nbb_cell_id) {\n",
       "                        if (nbb_cells[i].get_text() == nbb_unformatted_code) {\n",
       "                             nbb_cells[i].set_text(nbb_formatted_code);\n",
       "                        }\n",
       "                        break;\n",
       "                    }\n",
       "                }\n",
       "            }, 500);\n",
       "            "
      ],
      "text/plain": [
       "<IPython.core.display.Javascript object>"
      ]
     },
     "metadata": {},
     "output_type": "display_data"
    }
   ],
   "source": [
    "criterion_msm_base = rp.get_msm_func(\n",
    "    params_base, options, calc_moments, replace_nans, moments_obs, weighting_matrix\n",
    ")"
   ]
  },
  {
   "cell_type": "code",
   "execution_count": 17,
   "metadata": {},
   "outputs": [
    {
     "data": {
      "text/plain": [
       "0.0"
      ]
     },
     "execution_count": 17,
     "metadata": {},
     "output_type": "execute_result"
    },
    {
     "data": {
      "application/javascript": [
       "\n",
       "            setTimeout(function() {\n",
       "                var nbb_cell_id = 17;\n",
       "                var nbb_unformatted_code = \"fval = criterion_msm_base(params_base)\\nfval\";\n",
       "                var nbb_formatted_code = \"fval = criterion_msm_base(params_base)\\nfval\";\n",
       "                var nbb_cells = Jupyter.notebook.get_cells();\n",
       "                for (var i = 0; i < nbb_cells.length; ++i) {\n",
       "                    if (nbb_cells[i].input_prompt_number == nbb_cell_id) {\n",
       "                        if (nbb_cells[i].get_text() == nbb_unformatted_code) {\n",
       "                             nbb_cells[i].set_text(nbb_formatted_code);\n",
       "                        }\n",
       "                        break;\n",
       "                    }\n",
       "                }\n",
       "            }, 500);\n",
       "            "
      ],
      "text/plain": [
       "<IPython.core.display.Javascript object>"
      ]
     },
     "metadata": {},
     "output_type": "display_data"
    }
   ],
   "source": [
    "fval = criterion_msm_base(params_base)\n",
    "fval"
   ]
  },
  {
   "cell_type": "markdown",
   "metadata": {},
   "source": [
    "## Alternate discounting of agent"
   ]
  },
  {
   "cell_type": "code",
   "execution_count": 18,
   "metadata": {},
   "outputs": [
    {
     "data": {
      "application/javascript": [
       "\n",
       "            setTimeout(function() {\n",
       "                var nbb_cell_id = 18;\n",
       "                var nbb_unformatted_code = \"params_delta = params_base.copy()\\nparams_delta.loc[\\\"delta\\\", \\\"value\\\"] = 0.8\";\n",
       "                var nbb_formatted_code = \"params_delta = params_base.copy()\\nparams_delta.loc[\\\"delta\\\", \\\"value\\\"] = 0.8\";\n",
       "                var nbb_cells = Jupyter.notebook.get_cells();\n",
       "                for (var i = 0; i < nbb_cells.length; ++i) {\n",
       "                    if (nbb_cells[i].input_prompt_number == nbb_cell_id) {\n",
       "                        if (nbb_cells[i].get_text() == nbb_unformatted_code) {\n",
       "                             nbb_cells[i].set_text(nbb_formatted_code);\n",
       "                        }\n",
       "                        break;\n",
       "                    }\n",
       "                }\n",
       "            }, 500);\n",
       "            "
      ],
      "text/plain": [
       "<IPython.core.display.Javascript object>"
      ]
     },
     "metadata": {},
     "output_type": "display_data"
    }
   ],
   "source": [
    "params_delta = params_base.copy()\n",
    "params_delta.loc[\"delta\", \"value\"] = 0.8"
   ]
  },
  {
   "cell_type": "code",
   "execution_count": 19,
   "metadata": {},
   "outputs": [
    {
     "data": {
      "application/javascript": [
       "\n",
       "            setTimeout(function() {\n",
       "                var nbb_cell_id = 19;\n",
       "                var nbb_unformatted_code = \"simulate_delta = rp.get_simulate_func(params_delta, options)\\ndf_sim_delta = simulate_delta(params_delta)\";\n",
       "                var nbb_formatted_code = \"simulate_delta = rp.get_simulate_func(params_delta, options)\\ndf_sim_delta = simulate_delta(params_delta)\";\n",
       "                var nbb_cells = Jupyter.notebook.get_cells();\n",
       "                for (var i = 0; i < nbb_cells.length; ++i) {\n",
       "                    if (nbb_cells[i].input_prompt_number == nbb_cell_id) {\n",
       "                        if (nbb_cells[i].get_text() == nbb_unformatted_code) {\n",
       "                             nbb_cells[i].set_text(nbb_formatted_code);\n",
       "                        }\n",
       "                        break;\n",
       "                    }\n",
       "                }\n",
       "            }, 500);\n",
       "            "
      ],
      "text/plain": [
       "<IPython.core.display.Javascript object>"
      ]
     },
     "metadata": {},
     "output_type": "display_data"
    }
   ],
   "source": [
    "simulate_delta = rp.get_simulate_func(params_delta, options)\n",
    "df_sim_delta = simulate_delta(params_delta)"
   ]
  },
  {
   "cell_type": "code",
   "execution_count": 20,
   "metadata": {},
   "outputs": [
    {
     "data": {
      "application/javascript": [
       "\n",
       "            setTimeout(function() {\n",
       "                var nbb_cell_id = 20;\n",
       "                var nbb_unformatted_code = \"moments_sim_delta = {\\n    \\\"Choice Frequencies\\\": replace_nans(\\n        calc_moments[\\\"Choice Frequencies\\\"](df_sim_delta)\\n    ),\\n    \\\"Wage Distribution\\\": replace_nans(calc_moments[\\\"Wage Distribution\\\"](df_sim_delta)),\\n}\";\n",
       "                var nbb_formatted_code = \"moments_sim_delta = {\\n    \\\"Choice Frequencies\\\": replace_nans(\\n        calc_moments[\\\"Choice Frequencies\\\"](df_sim_delta)\\n    ),\\n    \\\"Wage Distribution\\\": replace_nans(calc_moments[\\\"Wage Distribution\\\"](df_sim_delta)),\\n}\";\n",
       "                var nbb_cells = Jupyter.notebook.get_cells();\n",
       "                for (var i = 0; i < nbb_cells.length; ++i) {\n",
       "                    if (nbb_cells[i].input_prompt_number == nbb_cell_id) {\n",
       "                        if (nbb_cells[i].get_text() == nbb_unformatted_code) {\n",
       "                             nbb_cells[i].set_text(nbb_formatted_code);\n",
       "                        }\n",
       "                        break;\n",
       "                    }\n",
       "                }\n",
       "            }, 500);\n",
       "            "
      ],
      "text/plain": [
       "<IPython.core.display.Javascript object>"
      ]
     },
     "metadata": {},
     "output_type": "display_data"
    }
   ],
   "source": [
    "moments_sim_delta = {\n",
    "    \"Choice Frequencies\": replace_nans(\n",
    "        calc_moments[\"Choice Frequencies\"](df_sim_delta)\n",
    "    ),\n",
    "    \"Wage Distribution\": replace_nans(calc_moments[\"Wage Distribution\"](df_sim_delta)),\n",
    "}"
   ]
  },
  {
   "cell_type": "code",
   "execution_count": 21,
   "metadata": {},
   "outputs": [
    {
     "data": {
      "application/javascript": [
       "\n",
       "            setTimeout(function() {\n",
       "                var nbb_cell_id = 21;\n",
       "                var nbb_unformatted_code = \"criterion_msm_delta = rp.get_msm_func(\\n    params_delta, options, calc_moments, replace_nans, moments_obs, weighting_matrix\\n)\";\n",
       "                var nbb_formatted_code = \"criterion_msm_delta = rp.get_msm_func(\\n    params_delta, options, calc_moments, replace_nans, moments_obs, weighting_matrix\\n)\";\n",
       "                var nbb_cells = Jupyter.notebook.get_cells();\n",
       "                for (var i = 0; i < nbb_cells.length; ++i) {\n",
       "                    if (nbb_cells[i].input_prompt_number == nbb_cell_id) {\n",
       "                        if (nbb_cells[i].get_text() == nbb_unformatted_code) {\n",
       "                             nbb_cells[i].set_text(nbb_formatted_code);\n",
       "                        }\n",
       "                        break;\n",
       "                    }\n",
       "                }\n",
       "            }, 500);\n",
       "            "
      ],
      "text/plain": [
       "<IPython.core.display.Javascript object>"
      ]
     },
     "metadata": {},
     "output_type": "display_data"
    }
   ],
   "source": [
    "criterion_msm_delta = rp.get_msm_func(\n",
    "    params_delta, options, calc_moments, replace_nans, moments_obs, weighting_matrix\n",
    ")"
   ]
  },
  {
   "cell_type": "code",
   "execution_count": 22,
   "metadata": {},
   "outputs": [
    {
     "data": {
      "text/plain": [
       "0.3065964459758088"
      ]
     },
     "execution_count": 22,
     "metadata": {},
     "output_type": "execute_result"
    },
    {
     "data": {
      "application/javascript": [
       "\n",
       "            setTimeout(function() {\n",
       "                var nbb_cell_id = 22;\n",
       "                var nbb_unformatted_code = \"fval = criterion_msm_delta(params_delta)\\nfval\";\n",
       "                var nbb_formatted_code = \"fval = criterion_msm_delta(params_delta)\\nfval\";\n",
       "                var nbb_cells = Jupyter.notebook.get_cells();\n",
       "                for (var i = 0; i < nbb_cells.length; ++i) {\n",
       "                    if (nbb_cells[i].input_prompt_number == nbb_cell_id) {\n",
       "                        if (nbb_cells[i].get_text() == nbb_unformatted_code) {\n",
       "                             nbb_cells[i].set_text(nbb_formatted_code);\n",
       "                        }\n",
       "                        break;\n",
       "                    }\n",
       "                }\n",
       "            }, 500);\n",
       "            "
      ],
      "text/plain": [
       "<IPython.core.display.Javascript object>"
      ]
     },
     "metadata": {},
     "output_type": "display_data"
    }
   ],
   "source": [
    "fval = criterion_msm_delta(params_delta)\n",
    "fval"
   ]
  },
  {
   "cell_type": "markdown",
   "metadata": {},
   "source": [
    "## Inclusion of ambiguity\n",
    "\n",
    "Open question: When we add ambiguity, do we need to calculate the moments, weighting matrix etc. anew? Conjecture: Yes, we should."
   ]
  },
  {
   "cell_type": "code",
   "execution_count": 23,
   "metadata": {},
   "outputs": [
    {
     "data": {
      "application/javascript": [
       "\n",
       "            setTimeout(function() {\n",
       "                var nbb_cell_id = 23;\n",
       "                var nbb_unformatted_code = \"params_eta = params_base.copy()\\nparams_eta.loc[(\\\"eta\\\", \\\"eta\\\"), :] = 0.1  # eta_values[\\\"baseline\\\"]\\n# params_eta\";\n",
       "                var nbb_formatted_code = \"params_eta = params_base.copy()\\nparams_eta.loc[(\\\"eta\\\", \\\"eta\\\"), :] = 0.1  # eta_values[\\\"baseline\\\"]\\n# params_eta\";\n",
       "                var nbb_cells = Jupyter.notebook.get_cells();\n",
       "                for (var i = 0; i < nbb_cells.length; ++i) {\n",
       "                    if (nbb_cells[i].input_prompt_number == nbb_cell_id) {\n",
       "                        if (nbb_cells[i].get_text() == nbb_unformatted_code) {\n",
       "                             nbb_cells[i].set_text(nbb_formatted_code);\n",
       "                        }\n",
       "                        break;\n",
       "                    }\n",
       "                }\n",
       "            }, 500);\n",
       "            "
      ],
      "text/plain": [
       "<IPython.core.display.Javascript object>"
      ]
     },
     "metadata": {},
     "output_type": "display_data"
    }
   ],
   "source": [
    "params_eta = params_base.copy()\n",
    "params_eta.loc[(\"eta\", \"eta\"), :] = 0.1  # eta_values[\"baseline\"]\n",
    "# params_eta"
   ]
  },
  {
   "cell_type": "code",
   "execution_count": 24,
   "metadata": {},
   "outputs": [
    {
     "data": {
      "application/javascript": [
       "\n",
       "            setTimeout(function() {\n",
       "                var nbb_cell_id = 24;\n",
       "                var nbb_unformatted_code = \"simulate_eta = rp.get_simulate_func(params_eta, options)\\ndf_sim_eta = simulate_delta(params_eta)\";\n",
       "                var nbb_formatted_code = \"simulate_eta = rp.get_simulate_func(params_eta, options)\\ndf_sim_eta = simulate_delta(params_eta)\";\n",
       "                var nbb_cells = Jupyter.notebook.get_cells();\n",
       "                for (var i = 0; i < nbb_cells.length; ++i) {\n",
       "                    if (nbb_cells[i].input_prompt_number == nbb_cell_id) {\n",
       "                        if (nbb_cells[i].get_text() == nbb_unformatted_code) {\n",
       "                             nbb_cells[i].set_text(nbb_formatted_code);\n",
       "                        }\n",
       "                        break;\n",
       "                    }\n",
       "                }\n",
       "            }, 500);\n",
       "            "
      ],
      "text/plain": [
       "<IPython.core.display.Javascript object>"
      ]
     },
     "metadata": {},
     "output_type": "display_data"
    }
   ],
   "source": [
    "simulate_eta = rp.get_simulate_func(params_eta, options)\n",
    "df_sim_eta = simulate_delta(params_eta)"
   ]
  },
  {
   "cell_type": "markdown",
   "metadata": {},
   "source": [
    "As we have simulated new agents with including ambiguity, we need to calculate the simulated moments based on the resulting \"simulation data frame\" `df_sim_eta`."
   ]
  },
  {
   "cell_type": "code",
   "execution_count": 25,
   "metadata": {},
   "outputs": [
    {
     "data": {
      "application/javascript": [
       "\n",
       "            setTimeout(function() {\n",
       "                var nbb_cell_id = 25;\n",
       "                var nbb_unformatted_code = \"moments_sim_eta = {\\n    \\\"Choice Frequencies\\\": replace_nans(calc_moments[\\\"Choice Frequencies\\\"](df_sim_eta)),\\n    \\\"Wage Distribution\\\": replace_nans(calc_moments[\\\"Wage Distribution\\\"](df_sim_eta)),\\n}\";\n",
       "                var nbb_formatted_code = \"moments_sim_eta = {\\n    \\\"Choice Frequencies\\\": replace_nans(calc_moments[\\\"Choice Frequencies\\\"](df_sim_eta)),\\n    \\\"Wage Distribution\\\": replace_nans(calc_moments[\\\"Wage Distribution\\\"](df_sim_eta)),\\n}\";\n",
       "                var nbb_cells = Jupyter.notebook.get_cells();\n",
       "                for (var i = 0; i < nbb_cells.length; ++i) {\n",
       "                    if (nbb_cells[i].input_prompt_number == nbb_cell_id) {\n",
       "                        if (nbb_cells[i].get_text() == nbb_unformatted_code) {\n",
       "                             nbb_cells[i].set_text(nbb_formatted_code);\n",
       "                        }\n",
       "                        break;\n",
       "                    }\n",
       "                }\n",
       "            }, 500);\n",
       "            "
      ],
      "text/plain": [
       "<IPython.core.display.Javascript object>"
      ]
     },
     "metadata": {},
     "output_type": "display_data"
    }
   ],
   "source": [
    "moments_sim_eta = {\n",
    "    \"Choice Frequencies\": replace_nans(calc_moments[\"Choice Frequencies\"](df_sim_eta)),\n",
    "    \"Wage Distribution\": replace_nans(calc_moments[\"Wage Distribution\"](df_sim_eta)),\n",
    "}"
   ]
  },
  {
   "cell_type": "markdown",
   "metadata": {},
   "source": [
    "Build the MSM criterion function, including the $\\eta$ parameters."
   ]
  },
  {
   "cell_type": "code",
   "execution_count": 26,
   "metadata": {},
   "outputs": [
    {
     "data": {
      "application/javascript": [
       "\n",
       "            setTimeout(function() {\n",
       "                var nbb_cell_id = 26;\n",
       "                var nbb_unformatted_code = \"criterion_msm_eta = rp.get_msm_func(\\n    params_eta, options, calc_moments, replace_nans, moments_obs, weighting_matrix\\n)\";\n",
       "                var nbb_formatted_code = \"criterion_msm_eta = rp.get_msm_func(\\n    params_eta, options, calc_moments, replace_nans, moments_obs, weighting_matrix\\n)\";\n",
       "                var nbb_cells = Jupyter.notebook.get_cells();\n",
       "                for (var i = 0; i < nbb_cells.length; ++i) {\n",
       "                    if (nbb_cells[i].input_prompt_number == nbb_cell_id) {\n",
       "                        if (nbb_cells[i].get_text() == nbb_unformatted_code) {\n",
       "                             nbb_cells[i].set_text(nbb_formatted_code);\n",
       "                        }\n",
       "                        break;\n",
       "                    }\n",
       "                }\n",
       "            }, 500);\n",
       "            "
      ],
      "text/plain": [
       "<IPython.core.display.Javascript object>"
      ]
     },
     "metadata": {},
     "output_type": "display_data"
    }
   ],
   "source": [
    "criterion_msm_eta = rp.get_msm_func(\n",
    "    params_eta, options, calc_moments, replace_nans, moments_obs, weighting_matrix\n",
    ")"
   ]
  },
  {
   "cell_type": "code",
   "execution_count": 27,
   "metadata": {},
   "outputs": [
    {
     "data": {
      "application/javascript": [
       "\n",
       "            setTimeout(function() {\n",
       "                var nbb_cell_id = 27;\n",
       "                var nbb_unformatted_code = \"rslt = minimize(\\n    criterion=criterion_msm_eta, params=params_eta, algorithm=\\\"nlopt_bobyqa\\\"\\n)\";\n",
       "                var nbb_formatted_code = \"rslt = minimize(\\n    criterion=criterion_msm_eta, params=params_eta, algorithm=\\\"nlopt_bobyqa\\\"\\n)\";\n",
       "                var nbb_cells = Jupyter.notebook.get_cells();\n",
       "                for (var i = 0; i < nbb_cells.length; ++i) {\n",
       "                    if (nbb_cells[i].input_prompt_number == nbb_cell_id) {\n",
       "                        if (nbb_cells[i].get_text() == nbb_unformatted_code) {\n",
       "                             nbb_cells[i].set_text(nbb_formatted_code);\n",
       "                        }\n",
       "                        break;\n",
       "                    }\n",
       "                }\n",
       "            }, 500);\n",
       "            "
      ],
      "text/plain": [
       "<IPython.core.display.Javascript object>"
      ]
     },
     "metadata": {},
     "output_type": "display_data"
    }
   ],
   "source": [
    "rslt = minimize(\n",
    "    criterion=criterion_msm_eta, params=params_eta, algorithm=\"nlopt_bobyqa\"\n",
    ")"
   ]
  },
  {
   "cell_type": "code",
   "execution_count": 28,
   "metadata": {},
   "outputs": [
    {
     "data": {
      "text/plain": [
       "{'fun': 0.0}"
      ]
     },
     "execution_count": 28,
     "metadata": {},
     "output_type": "execute_result"
    },
    {
     "data": {
      "application/javascript": [
       "\n",
       "            setTimeout(function() {\n",
       "                var nbb_cell_id = 28;\n",
       "                var nbb_unformatted_code = \"rslt[0]\";\n",
       "                var nbb_formatted_code = \"rslt[0]\";\n",
       "                var nbb_cells = Jupyter.notebook.get_cells();\n",
       "                for (var i = 0; i < nbb_cells.length; ++i) {\n",
       "                    if (nbb_cells[i].input_prompt_number == nbb_cell_id) {\n",
       "                        if (nbb_cells[i].get_text() == nbb_unformatted_code) {\n",
       "                             nbb_cells[i].set_text(nbb_formatted_code);\n",
       "                        }\n",
       "                        break;\n",
       "                    }\n",
       "                }\n",
       "            }, 500);\n",
       "            "
      ],
      "text/plain": [
       "<IPython.core.display.Javascript object>"
      ]
     },
     "metadata": {},
     "output_type": "display_data"
    }
   ],
   "source": [
    "rslt[0]"
   ]
  },
  {
   "cell_type": "markdown",
   "metadata": {},
   "source": [
    "ESTIMATION FIXING CONSTRAINTS"
   ]
  },
  {
   "cell_type": "code",
   "execution_count": 29,
   "metadata": {},
   "outputs": [
    {
     "data": {
      "application/javascript": [
       "\n",
       "            setTimeout(function() {\n",
       "                var nbb_cell_id = 29;\n",
       "                var nbb_unformatted_code = \"constr_base = [\\n    {\\\"loc\\\": \\\"shocks_sdcorr\\\", \\\"type\\\": \\\"sdcorr\\\"},\\n    {\\\"loc\\\": \\\"eta\\\", \\\"type\\\": \\\"fixed\\\"},\\n    {\\\"loc\\\": \\\"delta\\\", \\\"type\\\": \\\"fixed\\\"},\\n    {\\\"loc\\\": \\\"wage_fishing\\\", \\\"type\\\": \\\"fixed\\\"},\\n    {\\\"loc\\\": \\\"nonpec_fishing\\\", \\\"type\\\": \\\"fixed\\\"},\\n    {\\\"loc\\\": \\\"nonpec_hammock\\\", \\\"type\\\": \\\"fixed\\\"},\\n    {\\\"loc\\\": \\\"shocks_sdcorr\\\", \\\"type\\\": \\\"fixed\\\"},\\n]\";\n",
       "                var nbb_formatted_code = \"constr_base = [\\n    {\\\"loc\\\": \\\"shocks_sdcorr\\\", \\\"type\\\": \\\"sdcorr\\\"},\\n    {\\\"loc\\\": \\\"eta\\\", \\\"type\\\": \\\"fixed\\\"},\\n    {\\\"loc\\\": \\\"delta\\\", \\\"type\\\": \\\"fixed\\\"},\\n    {\\\"loc\\\": \\\"wage_fishing\\\", \\\"type\\\": \\\"fixed\\\"},\\n    {\\\"loc\\\": \\\"nonpec_fishing\\\", \\\"type\\\": \\\"fixed\\\"},\\n    {\\\"loc\\\": \\\"nonpec_hammock\\\", \\\"type\\\": \\\"fixed\\\"},\\n    {\\\"loc\\\": \\\"shocks_sdcorr\\\", \\\"type\\\": \\\"fixed\\\"},\\n]\";\n",
       "                var nbb_cells = Jupyter.notebook.get_cells();\n",
       "                for (var i = 0; i < nbb_cells.length; ++i) {\n",
       "                    if (nbb_cells[i].input_prompt_number == nbb_cell_id) {\n",
       "                        if (nbb_cells[i].get_text() == nbb_unformatted_code) {\n",
       "                             nbb_cells[i].set_text(nbb_formatted_code);\n",
       "                        }\n",
       "                        break;\n",
       "                    }\n",
       "                }\n",
       "            }, 500);\n",
       "            "
      ],
      "text/plain": [
       "<IPython.core.display.Javascript object>"
      ]
     },
     "metadata": {},
     "output_type": "display_data"
    }
   ],
   "source": [
    "constr_base = [\n",
    "    {\"loc\": \"shocks_sdcorr\", \"type\": \"sdcorr\"},\n",
    "    {\"loc\": \"eta\", \"type\": \"fixed\"},\n",
    "    {\"loc\": \"delta\", \"type\": \"fixed\"},\n",
    "    {\"loc\": \"wage_fishing\", \"type\": \"fixed\"},\n",
    "    {\"loc\": \"nonpec_fishing\", \"type\": \"fixed\"},\n",
    "    {\"loc\": \"nonpec_hammock\", \"type\": \"fixed\"},\n",
    "    {\"loc\": \"shocks_sdcorr\", \"type\": \"fixed\"},\n",
    "]"
   ]
  },
  {
   "cell_type": "code",
   "execution_count": 30,
   "metadata": {},
   "outputs": [
    {
     "data": {
      "application/javascript": [
       "\n",
       "            setTimeout(function() {\n",
       "                var nbb_cell_id = 30;\n",
       "                var nbb_unformatted_code = \"constr_eta = constr_base.copy()\\nconstr_eta.remove({\\\"loc\\\": \\\"eta\\\", \\\"type\\\": \\\"fixed\\\"},)\";\n",
       "                var nbb_formatted_code = \"constr_eta = constr_base.copy()\\nconstr_eta.remove({\\\"loc\\\": \\\"eta\\\", \\\"type\\\": \\\"fixed\\\"},)\";\n",
       "                var nbb_cells = Jupyter.notebook.get_cells();\n",
       "                for (var i = 0; i < nbb_cells.length; ++i) {\n",
       "                    if (nbb_cells[i].input_prompt_number == nbb_cell_id) {\n",
       "                        if (nbb_cells[i].get_text() == nbb_unformatted_code) {\n",
       "                             nbb_cells[i].set_text(nbb_formatted_code);\n",
       "                        }\n",
       "                        break;\n",
       "                    }\n",
       "                }\n",
       "            }, 500);\n",
       "            "
      ],
      "text/plain": [
       "<IPython.core.display.Javascript object>"
      ]
     },
     "metadata": {},
     "output_type": "display_data"
    }
   ],
   "source": [
    "constr_eta = constr_base.copy()\n",
    "constr_eta.remove({\"loc\": \"eta\", \"type\": \"fixed\"},)"
   ]
  },
  {
   "cell_type": "code",
   "execution_count": 31,
   "metadata": {},
   "outputs": [
    {
     "data": {
      "text/html": [
       "<div>\n",
       "<style scoped>\n",
       "    .dataframe tbody tr th:only-of-type {\n",
       "        vertical-align: middle;\n",
       "    }\n",
       "\n",
       "    .dataframe tbody tr th {\n",
       "        vertical-align: top;\n",
       "    }\n",
       "\n",
       "    .dataframe thead th {\n",
       "        text-align: right;\n",
       "    }\n",
       "</style>\n",
       "<table border=\"1\" class=\"dataframe\">\n",
       "  <thead>\n",
       "    <tr style=\"text-align: right;\">\n",
       "      <th></th>\n",
       "      <th></th>\n",
       "      <th>value</th>\n",
       "      <th>lower</th>\n",
       "      <th>upper</th>\n",
       "      <th>group</th>\n",
       "      <th>name</th>\n",
       "      <th>_fixed_value</th>\n",
       "      <th>_is_fixed_to_value</th>\n",
       "      <th>_post_replacements</th>\n",
       "      <th>_is_fixed_to_other</th>\n",
       "      <th>_internal_lower</th>\n",
       "      <th>_internal_upper</th>\n",
       "      <th>_internal_free</th>\n",
       "      <th>_pre_replacements</th>\n",
       "      <th>_internal_fixed_value</th>\n",
       "    </tr>\n",
       "    <tr>\n",
       "      <th>category</th>\n",
       "      <th>name</th>\n",
       "      <th></th>\n",
       "      <th></th>\n",
       "      <th></th>\n",
       "      <th></th>\n",
       "      <th></th>\n",
       "      <th></th>\n",
       "      <th></th>\n",
       "      <th></th>\n",
       "      <th></th>\n",
       "      <th></th>\n",
       "      <th></th>\n",
       "      <th></th>\n",
       "      <th></th>\n",
       "      <th></th>\n",
       "    </tr>\n",
       "  </thead>\n",
       "  <tbody>\n",
       "    <tr>\n",
       "      <th>delta</th>\n",
       "      <th>delta</th>\n",
       "      <td>0.95</td>\n",
       "      <td>-inf</td>\n",
       "      <td>inf</td>\n",
       "      <td>All Parameters</td>\n",
       "      <td>delta_delta</td>\n",
       "      <td>0.95</td>\n",
       "      <td>True</td>\n",
       "      <td>-1</td>\n",
       "      <td>False</td>\n",
       "      <td>-inf</td>\n",
       "      <td>inf</td>\n",
       "      <td>False</td>\n",
       "      <td>-1</td>\n",
       "      <td>0.95</td>\n",
       "    </tr>\n",
       "    <tr>\n",
       "      <th>wage_fishing</th>\n",
       "      <th>exp_fishing</th>\n",
       "      <td>0.10</td>\n",
       "      <td>-inf</td>\n",
       "      <td>inf</td>\n",
       "      <td>All Parameters</td>\n",
       "      <td>wage_fishing_exp_fishing</td>\n",
       "      <td>0.10</td>\n",
       "      <td>True</td>\n",
       "      <td>-1</td>\n",
       "      <td>False</td>\n",
       "      <td>-inf</td>\n",
       "      <td>inf</td>\n",
       "      <td>False</td>\n",
       "      <td>-1</td>\n",
       "      <td>0.10</td>\n",
       "    </tr>\n",
       "    <tr>\n",
       "      <th>nonpec_fishing</th>\n",
       "      <th>constant</th>\n",
       "      <td>-1.00</td>\n",
       "      <td>-inf</td>\n",
       "      <td>inf</td>\n",
       "      <td>All Parameters</td>\n",
       "      <td>nonpec_fishing_constant</td>\n",
       "      <td>-1.00</td>\n",
       "      <td>True</td>\n",
       "      <td>-1</td>\n",
       "      <td>False</td>\n",
       "      <td>-inf</td>\n",
       "      <td>inf</td>\n",
       "      <td>False</td>\n",
       "      <td>-1</td>\n",
       "      <td>-1.00</td>\n",
       "    </tr>\n",
       "    <tr>\n",
       "      <th rowspan=\"2\" valign=\"top\">nonpec_hammock</th>\n",
       "      <th>constant</th>\n",
       "      <td>2.50</td>\n",
       "      <td>-inf</td>\n",
       "      <td>inf</td>\n",
       "      <td>All Parameters</td>\n",
       "      <td>nonpec_hammock_constant</td>\n",
       "      <td>2.50</td>\n",
       "      <td>True</td>\n",
       "      <td>-1</td>\n",
       "      <td>False</td>\n",
       "      <td>-inf</td>\n",
       "      <td>inf</td>\n",
       "      <td>False</td>\n",
       "      <td>-1</td>\n",
       "      <td>2.50</td>\n",
       "    </tr>\n",
       "    <tr>\n",
       "      <th>not_fishing_last_period</th>\n",
       "      <td>-1.00</td>\n",
       "      <td>-inf</td>\n",
       "      <td>inf</td>\n",
       "      <td>All Parameters</td>\n",
       "      <td>nonpec_hammock_not_fishing_last_period</td>\n",
       "      <td>-1.00</td>\n",
       "      <td>True</td>\n",
       "      <td>-1</td>\n",
       "      <td>False</td>\n",
       "      <td>-inf</td>\n",
       "      <td>inf</td>\n",
       "      <td>False</td>\n",
       "      <td>-1</td>\n",
       "      <td>-1.00</td>\n",
       "    </tr>\n",
       "    <tr>\n",
       "      <th rowspan=\"3\" valign=\"top\">shocks_sdcorr</th>\n",
       "      <th>sd_fishing</th>\n",
       "      <td>1.00</td>\n",
       "      <td>-inf</td>\n",
       "      <td>inf</td>\n",
       "      <td>All Parameters</td>\n",
       "      <td>shocks_sdcorr_sd_fishing</td>\n",
       "      <td>1.00</td>\n",
       "      <td>True</td>\n",
       "      <td>-1</td>\n",
       "      <td>False</td>\n",
       "      <td>-inf</td>\n",
       "      <td>inf</td>\n",
       "      <td>False</td>\n",
       "      <td>-1</td>\n",
       "      <td>1.00</td>\n",
       "    </tr>\n",
       "    <tr>\n",
       "      <th>sd_hammock</th>\n",
       "      <td>1.00</td>\n",
       "      <td>-inf</td>\n",
       "      <td>inf</td>\n",
       "      <td>All Parameters</td>\n",
       "      <td>shocks_sdcorr_sd_hammock</td>\n",
       "      <td>1.00</td>\n",
       "      <td>True</td>\n",
       "      <td>-1</td>\n",
       "      <td>False</td>\n",
       "      <td>-inf</td>\n",
       "      <td>inf</td>\n",
       "      <td>False</td>\n",
       "      <td>-1</td>\n",
       "      <td>1.00</td>\n",
       "    </tr>\n",
       "    <tr>\n",
       "      <th>corr_hammock_fishing</th>\n",
       "      <td>-0.20</td>\n",
       "      <td>-inf</td>\n",
       "      <td>inf</td>\n",
       "      <td>All Parameters</td>\n",
       "      <td>shocks_sdcorr_corr_hammock_fishing</td>\n",
       "      <td>-0.20</td>\n",
       "      <td>True</td>\n",
       "      <td>-1</td>\n",
       "      <td>False</td>\n",
       "      <td>-inf</td>\n",
       "      <td>inf</td>\n",
       "      <td>False</td>\n",
       "      <td>-1</td>\n",
       "      <td>-0.20</td>\n",
       "    </tr>\n",
       "    <tr>\n",
       "      <th>lagged_choice_1_hammock</th>\n",
       "      <th>constant</th>\n",
       "      <td>1.00</td>\n",
       "      <td>-inf</td>\n",
       "      <td>inf</td>\n",
       "      <td>All Parameters</td>\n",
       "      <td>lagged_choice_1_hammock_constant</td>\n",
       "      <td>NaN</td>\n",
       "      <td>False</td>\n",
       "      <td>-1</td>\n",
       "      <td>False</td>\n",
       "      <td>-inf</td>\n",
       "      <td>inf</td>\n",
       "      <td>True</td>\n",
       "      <td>0</td>\n",
       "      <td>NaN</td>\n",
       "    </tr>\n",
       "    <tr>\n",
       "      <th>inadmissibility_penalty</th>\n",
       "      <th>inadmissibility_penalty</th>\n",
       "      <td>-20.00</td>\n",
       "      <td>-inf</td>\n",
       "      <td>inf</td>\n",
       "      <td>All Parameters</td>\n",
       "      <td>inadmissibility_penalty_inadmissibility_penalty</td>\n",
       "      <td>NaN</td>\n",
       "      <td>False</td>\n",
       "      <td>-1</td>\n",
       "      <td>False</td>\n",
       "      <td>-inf</td>\n",
       "      <td>inf</td>\n",
       "      <td>True</td>\n",
       "      <td>1</td>\n",
       "      <td>NaN</td>\n",
       "    </tr>\n",
       "    <tr>\n",
       "      <th>eta</th>\n",
       "      <th>eta</th>\n",
       "      <td>0.00</td>\n",
       "      <td>-inf</td>\n",
       "      <td>inf</td>\n",
       "      <td>All Parameters</td>\n",
       "      <td>eta_eta</td>\n",
       "      <td>NaN</td>\n",
       "      <td>False</td>\n",
       "      <td>-1</td>\n",
       "      <td>False</td>\n",
       "      <td>-inf</td>\n",
       "      <td>inf</td>\n",
       "      <td>True</td>\n",
       "      <td>2</td>\n",
       "      <td>NaN</td>\n",
       "    </tr>\n",
       "  </tbody>\n",
       "</table>\n",
       "</div>"
      ],
      "text/plain": [
       "                                                 value  lower  upper  \\\n",
       "category                name                                           \n",
       "delta                   delta                     0.95   -inf    inf   \n",
       "wage_fishing            exp_fishing               0.10   -inf    inf   \n",
       "nonpec_fishing          constant                 -1.00   -inf    inf   \n",
       "nonpec_hammock          constant                  2.50   -inf    inf   \n",
       "                        not_fishing_last_period  -1.00   -inf    inf   \n",
       "shocks_sdcorr           sd_fishing                1.00   -inf    inf   \n",
       "                        sd_hammock                1.00   -inf    inf   \n",
       "                        corr_hammock_fishing     -0.20   -inf    inf   \n",
       "lagged_choice_1_hammock constant                  1.00   -inf    inf   \n",
       "inadmissibility_penalty inadmissibility_penalty -20.00   -inf    inf   \n",
       "eta                     eta                       0.00   -inf    inf   \n",
       "\n",
       "                                                          group  \\\n",
       "category                name                                      \n",
       "delta                   delta                    All Parameters   \n",
       "wage_fishing            exp_fishing              All Parameters   \n",
       "nonpec_fishing          constant                 All Parameters   \n",
       "nonpec_hammock          constant                 All Parameters   \n",
       "                        not_fishing_last_period  All Parameters   \n",
       "shocks_sdcorr           sd_fishing               All Parameters   \n",
       "                        sd_hammock               All Parameters   \n",
       "                        corr_hammock_fishing     All Parameters   \n",
       "lagged_choice_1_hammock constant                 All Parameters   \n",
       "inadmissibility_penalty inadmissibility_penalty  All Parameters   \n",
       "eta                     eta                      All Parameters   \n",
       "\n",
       "                                                                                            name  \\\n",
       "category                name                                                                       \n",
       "delta                   delta                                                        delta_delta   \n",
       "wage_fishing            exp_fishing                                     wage_fishing_exp_fishing   \n",
       "nonpec_fishing          constant                                         nonpec_fishing_constant   \n",
       "nonpec_hammock          constant                                         nonpec_hammock_constant   \n",
       "                        not_fishing_last_period           nonpec_hammock_not_fishing_last_period   \n",
       "shocks_sdcorr           sd_fishing                                      shocks_sdcorr_sd_fishing   \n",
       "                        sd_hammock                                      shocks_sdcorr_sd_hammock   \n",
       "                        corr_hammock_fishing                  shocks_sdcorr_corr_hammock_fishing   \n",
       "lagged_choice_1_hammock constant                                lagged_choice_1_hammock_constant   \n",
       "inadmissibility_penalty inadmissibility_penalty  inadmissibility_penalty_inadmissibility_penalty   \n",
       "eta                     eta                                                              eta_eta   \n",
       "\n",
       "                                                 _fixed_value  \\\n",
       "category                name                                    \n",
       "delta                   delta                            0.95   \n",
       "wage_fishing            exp_fishing                      0.10   \n",
       "nonpec_fishing          constant                        -1.00   \n",
       "nonpec_hammock          constant                         2.50   \n",
       "                        not_fishing_last_period         -1.00   \n",
       "shocks_sdcorr           sd_fishing                       1.00   \n",
       "                        sd_hammock                       1.00   \n",
       "                        corr_hammock_fishing            -0.20   \n",
       "lagged_choice_1_hammock constant                          NaN   \n",
       "inadmissibility_penalty inadmissibility_penalty           NaN   \n",
       "eta                     eta                               NaN   \n",
       "\n",
       "                                                 _is_fixed_to_value  \\\n",
       "category                name                                          \n",
       "delta                   delta                                  True   \n",
       "wage_fishing            exp_fishing                            True   \n",
       "nonpec_fishing          constant                               True   \n",
       "nonpec_hammock          constant                               True   \n",
       "                        not_fishing_last_period                True   \n",
       "shocks_sdcorr           sd_fishing                             True   \n",
       "                        sd_hammock                             True   \n",
       "                        corr_hammock_fishing                   True   \n",
       "lagged_choice_1_hammock constant                              False   \n",
       "inadmissibility_penalty inadmissibility_penalty               False   \n",
       "eta                     eta                                   False   \n",
       "\n",
       "                                                 _post_replacements  \\\n",
       "category                name                                          \n",
       "delta                   delta                                    -1   \n",
       "wage_fishing            exp_fishing                              -1   \n",
       "nonpec_fishing          constant                                 -1   \n",
       "nonpec_hammock          constant                                 -1   \n",
       "                        not_fishing_last_period                  -1   \n",
       "shocks_sdcorr           sd_fishing                               -1   \n",
       "                        sd_hammock                               -1   \n",
       "                        corr_hammock_fishing                     -1   \n",
       "lagged_choice_1_hammock constant                                 -1   \n",
       "inadmissibility_penalty inadmissibility_penalty                  -1   \n",
       "eta                     eta                                      -1   \n",
       "\n",
       "                                                 _is_fixed_to_other  \\\n",
       "category                name                                          \n",
       "delta                   delta                                 False   \n",
       "wage_fishing            exp_fishing                           False   \n",
       "nonpec_fishing          constant                              False   \n",
       "nonpec_hammock          constant                              False   \n",
       "                        not_fishing_last_period               False   \n",
       "shocks_sdcorr           sd_fishing                            False   \n",
       "                        sd_hammock                            False   \n",
       "                        corr_hammock_fishing                  False   \n",
       "lagged_choice_1_hammock constant                              False   \n",
       "inadmissibility_penalty inadmissibility_penalty               False   \n",
       "eta                     eta                                   False   \n",
       "\n",
       "                                                 _internal_lower  \\\n",
       "category                name                                       \n",
       "delta                   delta                               -inf   \n",
       "wage_fishing            exp_fishing                         -inf   \n",
       "nonpec_fishing          constant                            -inf   \n",
       "nonpec_hammock          constant                            -inf   \n",
       "                        not_fishing_last_period             -inf   \n",
       "shocks_sdcorr           sd_fishing                          -inf   \n",
       "                        sd_hammock                          -inf   \n",
       "                        corr_hammock_fishing                -inf   \n",
       "lagged_choice_1_hammock constant                            -inf   \n",
       "inadmissibility_penalty inadmissibility_penalty             -inf   \n",
       "eta                     eta                                 -inf   \n",
       "\n",
       "                                                 _internal_upper  \\\n",
       "category                name                                       \n",
       "delta                   delta                                inf   \n",
       "wage_fishing            exp_fishing                          inf   \n",
       "nonpec_fishing          constant                             inf   \n",
       "nonpec_hammock          constant                             inf   \n",
       "                        not_fishing_last_period              inf   \n",
       "shocks_sdcorr           sd_fishing                           inf   \n",
       "                        sd_hammock                           inf   \n",
       "                        corr_hammock_fishing                 inf   \n",
       "lagged_choice_1_hammock constant                             inf   \n",
       "inadmissibility_penalty inadmissibility_penalty              inf   \n",
       "eta                     eta                                  inf   \n",
       "\n",
       "                                                 _internal_free  \\\n",
       "category                name                                      \n",
       "delta                   delta                             False   \n",
       "wage_fishing            exp_fishing                       False   \n",
       "nonpec_fishing          constant                          False   \n",
       "nonpec_hammock          constant                          False   \n",
       "                        not_fishing_last_period           False   \n",
       "shocks_sdcorr           sd_fishing                        False   \n",
       "                        sd_hammock                        False   \n",
       "                        corr_hammock_fishing              False   \n",
       "lagged_choice_1_hammock constant                           True   \n",
       "inadmissibility_penalty inadmissibility_penalty            True   \n",
       "eta                     eta                                True   \n",
       "\n",
       "                                                 _pre_replacements  \\\n",
       "category                name                                         \n",
       "delta                   delta                                   -1   \n",
       "wage_fishing            exp_fishing                             -1   \n",
       "nonpec_fishing          constant                                -1   \n",
       "nonpec_hammock          constant                                -1   \n",
       "                        not_fishing_last_period                 -1   \n",
       "shocks_sdcorr           sd_fishing                              -1   \n",
       "                        sd_hammock                              -1   \n",
       "                        corr_hammock_fishing                    -1   \n",
       "lagged_choice_1_hammock constant                                 0   \n",
       "inadmissibility_penalty inadmissibility_penalty                  1   \n",
       "eta                     eta                                      2   \n",
       "\n",
       "                                                 _internal_fixed_value  \n",
       "category                name                                            \n",
       "delta                   delta                                     0.95  \n",
       "wage_fishing            exp_fishing                               0.10  \n",
       "nonpec_fishing          constant                                 -1.00  \n",
       "nonpec_hammock          constant                                  2.50  \n",
       "                        not_fishing_last_period                  -1.00  \n",
       "shocks_sdcorr           sd_fishing                                1.00  \n",
       "                        sd_hammock                                1.00  \n",
       "                        corr_hammock_fishing                     -0.20  \n",
       "lagged_choice_1_hammock constant                                   NaN  \n",
       "inadmissibility_penalty inadmissibility_penalty                    NaN  \n",
       "eta                     eta                                        NaN  "
      ]
     },
     "execution_count": 31,
     "metadata": {},
     "output_type": "execute_result"
    },
    {
     "data": {
      "application/javascript": [
       "\n",
       "            setTimeout(function() {\n",
       "                var nbb_cell_id = 31;\n",
       "                var nbb_unformatted_code = \"rslt = minimize(\\n    criterion=criterion_msm_eta,\\n    params=params_eta,\\n    algorithm=\\\"nlopt_bobyqa\\\",\\n    constraints=constr_eta,\\n)\\nrslt[1]\";\n",
       "                var nbb_formatted_code = \"rslt = minimize(\\n    criterion=criterion_msm_eta,\\n    params=params_eta,\\n    algorithm=\\\"nlopt_bobyqa\\\",\\n    constraints=constr_eta,\\n)\\nrslt[1]\";\n",
       "                var nbb_cells = Jupyter.notebook.get_cells();\n",
       "                for (var i = 0; i < nbb_cells.length; ++i) {\n",
       "                    if (nbb_cells[i].input_prompt_number == nbb_cell_id) {\n",
       "                        if (nbb_cells[i].get_text() == nbb_unformatted_code) {\n",
       "                             nbb_cells[i].set_text(nbb_formatted_code);\n",
       "                        }\n",
       "                        break;\n",
       "                    }\n",
       "                }\n",
       "            }, 500);\n",
       "            "
      ],
      "text/plain": [
       "<IPython.core.display.Javascript object>"
      ]
     },
     "metadata": {},
     "output_type": "display_data"
    }
   ],
   "source": [
    "rslt = minimize(\n",
    "    criterion=criterion_msm_eta,\n",
    "    params=params_eta,\n",
    "    algorithm=\"nlopt_bobyqa\",\n",
    "    constraints=constr_eta,\n",
    ")\n",
    "rslt[1]"
   ]
  },
  {
   "cell_type": "code",
   "execution_count": 32,
   "metadata": {},
   "outputs": [
    {
     "data": {
      "application/javascript": [
       "\n",
       "            setTimeout(function() {\n",
       "                var nbb_cell_id = 32;\n",
       "                var nbb_unformatted_code = \"# Check the parameter combinations\\neta_perturbed = {\\n    \\\"true\\\": [],\\n    \\\"estimated\\\": [],\\n}\";\n",
       "                var nbb_formatted_code = \"# Check the parameter combinations\\neta_perturbed = {\\n    \\\"true\\\": [],\\n    \\\"estimated\\\": [],\\n}\";\n",
       "                var nbb_cells = Jupyter.notebook.get_cells();\n",
       "                for (var i = 0; i < nbb_cells.length; ++i) {\n",
       "                    if (nbb_cells[i].input_prompt_number == nbb_cell_id) {\n",
       "                        if (nbb_cells[i].get_text() == nbb_unformatted_code) {\n",
       "                             nbb_cells[i].set_text(nbb_formatted_code);\n",
       "                        }\n",
       "                        break;\n",
       "                    }\n",
       "                }\n",
       "            }, 500);\n",
       "            "
      ],
      "text/plain": [
       "<IPython.core.display.Javascript object>"
      ]
     },
     "metadata": {},
     "output_type": "display_data"
    }
   ],
   "source": [
    "# Check the parameter combinations\n",
    "eta_perturbed = {\n",
    "    \"true\": [],\n",
    "    \"estimated\": [],\n",
    "}"
   ]
  },
  {
   "cell_type": "code",
   "execution_count": null,
   "metadata": {},
   "outputs": [],
   "source": [
    "for eta in np.linspace(0, 0.25, 11):\n",
    "\n",
    "    # We want a change in the starting values (not in the simulated data)\n",
    "    params_eta.loc[(\"eta\", \"eta\"), :] = eta\n",
    "\n",
    "    # params[\"group\"] = params.index.get_level_values('category')\n",
    "    # need above only if we want dashboard output\n",
    "\n",
    "    # Get the criterion function with simulated data, but different param values\n",
    "    criterion_msm_eta = rp.get_msm_func(\n",
    "        params_eta, options, calc_moments, replace_nans, moments_obs, weighting_matrix\n",
    "    )\n",
    "\n",
    "    rslt, params_rslt = minimize(\n",
    "        criterion=criterion_msm_eta, params=params_eta, algorithm=\"nlopt_bobyqa\"\n",
    "    )\n",
    "\n",
    "    eta_perturbed[\"true\"].append(eta)\n",
    "    eta_perturbed[\"estimated\"].append(params_rslt.loc[\"eta\", \"value\"][0])"
   ]
  }
 ],
 "metadata": {
  "kernelspec": {
   "display_name": "Python 3",
   "language": "python",
   "name": "python3"
  },
  "language_info": {
   "codemirror_mode": {
    "name": "ipython",
    "version": 3
   },
   "file_extension": ".py",
   "mimetype": "text/x-python",
   "name": "python",
   "nbconvert_exporter": "python",
   "pygments_lexer": "ipython3",
   "version": "3.7.6"
  }
 },
 "nbformat": 4,
 "nbformat_minor": 4
}

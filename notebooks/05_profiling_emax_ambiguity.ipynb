{
 "cells": [
  {
   "cell_type": "markdown",
   "metadata": {},
   "source": [
    "# Profiling Emax for Ambiguity"
   ]
  },
  {
   "cell_type": "code",
   "execution_count": 2,
   "metadata": {},
   "outputs": [],
   "source": [
    "#import respy as rp\n",
    "import pandas as pd\n",
    "import numpy as np\n",
    "# import pickle as pkl\n",
    "\n",
    "from robupy.get_worst_case import get_worst_case_probs\n",
    "\n",
    "%load_ext snakeviz"
   ]
  },
  {
   "cell_type": "code",
   "execution_count": 3,
   "metadata": {},
   "outputs": [],
   "source": [
    "draws = 500"
   ]
  },
  {
   "cell_type": "code",
   "execution_count": 4,
   "metadata": {},
   "outputs": [],
   "source": [
    "v = np.arange(draws)\n",
    "q = np.full(draws, 1/draws)\n",
    "eta = 0.1"
   ]
  },
  {
   "cell_type": "code",
   "execution_count": 5,
   "metadata": {},
   "outputs": [
    {
     "name": "stdout",
     "output_type": "stream",
     "text": [
      " \n",
      "*** Profile stats marshalled to file '/var/folders/z_/x38pz1_9077b96886l_6zp440000gn/T/tmpn5amf7kp'. \n",
      "Embedding SnakeViz in this document...\n"
     ]
    },
    {
     "data": {
      "text/html": [
       "\n",
       "<iframe id='snakeviz-06bed3fa-97d9-11ea-b73a-784f4382a2d5' frameborder=0 seamless width='100%' height='1000'></iframe>\n",
       "<script>document.getElementById(\"snakeviz-06bed3fa-97d9-11ea-b73a-784f4382a2d5\").setAttribute(\"src\", \"http://\" + document.location.hostname + \":8080/snakeviz/%2Fvar%2Ffolders%2Fz_%2Fx38pz1_9077b96886l_6zp440000gn%2FT%2Ftmpn5amf7kp\")</script>\n"
      ],
      "text/plain": [
       "<IPython.core.display.HTML object>"
      ]
     },
     "metadata": {},
     "output_type": "display_data"
    }
   ],
   "source": [
    "%snakeviz get_worst_case_probs(v, q, eta)"
   ]
  },
  {
   "cell_type": "code",
   "execution_count": 2,
   "metadata": {},
   "outputs": [],
   "source": [
    "from respy.solve import calculate_expected_value_functions"
   ]
  },
  {
   "cell_type": "code",
   "execution_count": 3,
   "metadata": {},
   "outputs": [
    {
     "ename": "NameError",
     "evalue": "name 'NUM_AGENTS' is not defined",
     "output_type": "error",
     "traceback": [
      "\u001b[0;31m---------------------------------------------------------------------------\u001b[0m",
      "\u001b[0;31mNameError\u001b[0m                                 Traceback (most recent call last)",
      "\u001b[0;32m<ipython-input-3-92a9bd3ce12d>\u001b[0m in \u001b[0;36m<module>\u001b[0;34m\u001b[0m\n\u001b[1;32m      1\u001b[0m \u001b[0mparams\u001b[0m\u001b[0;34m,\u001b[0m \u001b[0moptions\u001b[0m\u001b[0;34m,\u001b[0m \u001b[0m_\u001b[0m \u001b[0;34m=\u001b[0m \u001b[0mrp\u001b[0m\u001b[0;34m.\u001b[0m\u001b[0mget_example_model\u001b[0m\u001b[0;34m(\u001b[0m\u001b[0;34m\"kw_94_two\"\u001b[0m\u001b[0;34m)\u001b[0m\u001b[0;34m\u001b[0m\u001b[0;34m\u001b[0m\u001b[0m\n\u001b[0;32m----> 2\u001b[0;31m \u001b[0moptions\u001b[0m\u001b[0;34m[\u001b[0m\u001b[0;34m\"simulation_agents\"\u001b[0m\u001b[0;34m]\u001b[0m \u001b[0;34m=\u001b[0m \u001b[0mNUM_AGENTS\u001b[0m\u001b[0;34m\u001b[0m\u001b[0;34m\u001b[0m\u001b[0m\n\u001b[0m\u001b[1;32m      3\u001b[0m \u001b[0moptions\u001b[0m\u001b[0;34m[\u001b[0m\u001b[0;34m\"n_periods\"\u001b[0m\u001b[0;34m]\u001b[0m \u001b[0;34m=\u001b[0m \u001b[0mNUM_PERIODS\u001b[0m\u001b[0;34m\u001b[0m\u001b[0;34m\u001b[0m\u001b[0m\n",
      "\u001b[0;31mNameError\u001b[0m: name 'NUM_AGENTS' is not defined"
     ]
    }
   ],
   "source": [
    "params, options, _ = rp.get_example_model(\"kw_94_two\")\n",
    "options[\"simulation_agents\"] = NUM_AGENTS\n",
    "options[\"n_periods\"] = NUM_PERIODS"
   ]
  },
  {
   "cell_type": "code",
   "execution_count": 4,
   "metadata": {},
   "outputs": [],
   "source": [
    "def test_sum(x,y):\n",
    "    return x+ y"
   ]
  },
  {
   "cell_type": "code",
   "execution_count": 9,
   "metadata": {},
   "outputs": [],
   "source": [
    "def test_1(x, y):\n",
    "    for i in range(1000):\n",
    "        test_sum(x, y)\n",
    "        np.arange(10000)\n",
    "    x + y\n",
    "    return x"
   ]
  },
  {
   "cell_type": "code",
   "execution_count": 10,
   "metadata": {},
   "outputs": [
    {
     "name": "stdout",
     "output_type": "stream",
     "text": [
      " \n",
      "*** Profile stats marshalled to file '/var/folders/z_/x38pz1_9077b96886l_6zp440000gn/T/tmp1js4habb'. \n",
      "Opening SnakeViz in a new tab...\n"
     ]
    }
   ],
   "source": [
    "%snakeviz -t test_1(2,3)"
   ]
  },
  {
   "cell_type": "code",
   "execution_count": null,
   "metadata": {},
   "outputs": [],
   "source": [
    "simulate = rp.get_simulate_func(params, options)"
   ]
  },
  {
   "cell_type": "code",
   "execution_count": null,
   "metadata": {},
   "outputs": [],
   "source": [
    "def calculate_expected_value_functions(\n",
    "    wages, nonpecs, continuation_values, draws, delta, eta, expected_value_functions\n",
    "):\n",
    "    r\"\"\"Calculate the expected maximum of value functions for a set of unobservables.\n",
    "\n",
    "    The function takes an agent and calculates the utility for each of the choices, the\n",
    "    ex-post rewards, with multiple draws from the distribution of unobservables and adds\n",
    "    the discounted expected maximum utility under a worst case scenario of subsequent periods\n",
    "    resulting from choices. Averaging over all maximum utilities yields the expected maximum\n",
    "    utility of this state\n",
    "\n",
    "    The underlying process in this function is called `Monte Carlo integration`_. The\n",
    "    goal is to approximate an integral by evaluating the integrand at randomly chosen\n",
    "    points. In this setting, one wants to approximate the expected maximum utility of\n",
    "    the current state.\n",
    "\n",
    "    Note that `wages` have the same length as `nonpecs` despite that wages are only\n",
    "    available in some choices. Missing choices are filled with ones. In the case of a\n",
    "    choice with wage and without wage, flow utilities are\n",
    "\n",
    "    .. math::\n",
    "\n",
    "        \\text{Flow Utility} = \\text{Wage} * \\epsilon + \\text{Non-pecuniary}\n",
    "        \\text{Flow Utility} = 1 * \\epsilon + \\text{Non-pecuniary}\n",
    "\n",
    "    Parameters\n",
    "    ----------\n",
    "    wages : numpy.ndarray\n",
    "        Array with shape (n_choices,) containing wages.\n",
    "    nonpecs : numpy.ndarray\n",
    "        Array with shape (n_choices,) containing non-pecuniary rewards.\n",
    "    continuation_values : numpy.ndarray\n",
    "        Array with shape (n_choices,) containing expected maximum utility for each\n",
    "        choice in the subsequent period.\n",
    "    draws : numpy.ndarray\n",
    "        Array with shape (n_draws, n_choices).\n",
    "    delta : float\n",
    "        The discount factor.\n",
    "    eta: float\n",
    "        The size of the ambiguity set.\n",
    "\n",
    "    Returns\n",
    "    -------\n",
    "    expected_value_functions : float\n",
    "        Expected maximum utility of an agent.\n",
    "\n",
    "    .. _Monte Carlo integration:\n",
    "        https://en.wikipedia.org/wiki/Monte_Carlo_integration\n",
    "\n",
    "    \"\"\"\n",
    "    n_draws, n_choices = draws.shape\n",
    "    v = np.repeat(np.nan, n_draws)\n",
    "\n",
    "    expected_value_functions[0] = 0\n",
    "\n",
    "    for i in range(n_draws):\n",
    "\n",
    "        max_value_functions = 0\n",
    "\n",
    "        for j in range(n_choices):\n",
    "            value_function, _ = aggregate_keane_wolpin_utility(\n",
    "                wages[j], nonpecs[j], continuation_values[j], draws[i, j], delta\n",
    "            )\n",
    "\n",
    "            if value_function > max_value_functions:\n",
    "                max_value_functions = value_function\n",
    "\n",
    "        v[i] = max_value_functions\n",
    "\n",
    "    if eta > 0:\n",
    "        q = np.repeat(1.0 / n_draws, n_draws)\n",
    "        p = get_worst_case_probs(v, q, eta)\n",
    "        emax = np.dot(v, p)\n",
    "    else:\n",
    "        emax = np.mean(v)\n",
    "\n",
    "    expected_value_functions[0] = emax"
   ]
  },
  {
   "cell_type": "code",
   "execution_count": null,
   "metadata": {},
   "outputs": [],
   "source": []
  }
 ],
 "metadata": {
  "kernelspec": {
   "display_name": "Python 3",
   "language": "python",
   "name": "python3"
  }
 },
 "nbformat": 4,
 "nbformat_minor": 4
}

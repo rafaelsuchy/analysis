{
 "cells": [
  {
   "cell_type": "markdown",
   "metadata": {},
   "source": [
    "# Profiling Emax for Ambiguity"
   ]
  },
  {
   "cell_type": "code",
   "execution_count": null,
   "metadata": {},
   "outputs": [],
   "source": [
    "import pandas as pd\n",
    "import numpy as np\n",
    "from robupy.get_worst_case import get_worst_case_probs\n",
    "\n",
    "%load_ext nb_black\n",
    "%load_ext snakeviz"
   ]
  },
  {
   "cell_type": "code",
   "execution_count": 2,
   "metadata": {},
   "outputs": [
    {
     "data": {
      "application/javascript": [
       "\n",
       "            setTimeout(function() {\n",
       "                var nbb_cell_id = 2;\n",
       "                var nbb_unformatted_code = \"draws = 500\";\n",
       "                var nbb_formatted_code = \"draws = 500\";\n",
       "                var nbb_cells = Jupyter.notebook.get_cells();\n",
       "                for (var i = 0; i < nbb_cells.length; ++i) {\n",
       "                    if (nbb_cells[i].input_prompt_number == nbb_cell_id) {\n",
       "                        if (nbb_cells[i].get_text() == nbb_unformatted_code) {\n",
       "                             nbb_cells[i].set_text(nbb_formatted_code);\n",
       "                        }\n",
       "                        break;\n",
       "                    }\n",
       "                }\n",
       "            }, 500);\n",
       "            "
      ],
      "text/plain": [
       "<IPython.core.display.Javascript object>"
      ]
     },
     "metadata": {},
     "output_type": "display_data"
    }
   ],
   "source": [
    "draws = 500"
   ]
  },
  {
   "cell_type": "code",
   "execution_count": 3,
   "metadata": {},
   "outputs": [
    {
     "data": {
      "application/javascript": [
       "\n",
       "            setTimeout(function() {\n",
       "                var nbb_cell_id = 3;\n",
       "                var nbb_unformatted_code = \"v = np.arange(draws)\\nq = np.full(draws, 1 / draws)\\neta = 0.1\";\n",
       "                var nbb_formatted_code = \"v = np.arange(draws)\\nq = np.full(draws, 1 / draws)\\neta = 0.1\";\n",
       "                var nbb_cells = Jupyter.notebook.get_cells();\n",
       "                for (var i = 0; i < nbb_cells.length; ++i) {\n",
       "                    if (nbb_cells[i].input_prompt_number == nbb_cell_id) {\n",
       "                        if (nbb_cells[i].get_text() == nbb_unformatted_code) {\n",
       "                             nbb_cells[i].set_text(nbb_formatted_code);\n",
       "                        }\n",
       "                        break;\n",
       "                    }\n",
       "                }\n",
       "            }, 500);\n",
       "            "
      ],
      "text/plain": [
       "<IPython.core.display.Javascript object>"
      ]
     },
     "metadata": {},
     "output_type": "display_data"
    }
   ],
   "source": [
    "v = np.arange(draws)\n",
    "q = np.full(draws, 1 / draws)\n",
    "eta = 0.1"
   ]
  },
  {
   "cell_type": "code",
   "execution_count": 4,
   "metadata": {},
   "outputs": [
    {
     "data": {
      "application/javascript": [
       "\n",
       "            setTimeout(function() {\n",
       "                var nbb_cell_id = 4;\n",
       "                var nbb_unformatted_code = \"# To use snakevize for get_worst_case_probs it is necessary to uncomment all @njit commands\\n# in the submodules/robupy directory\\n# %snakeviz get_worst_case_probs(v, q, eta)\";\n",
       "                var nbb_formatted_code = \"# To use snakevize for get_worst_case_probs it is necessary to uncomment all @njit commands\\n# in the submodules/robupy directory\\n# %snakeviz get_worst_case_probs(v, q, eta)\";\n",
       "                var nbb_cells = Jupyter.notebook.get_cells();\n",
       "                for (var i = 0; i < nbb_cells.length; ++i) {\n",
       "                    if (nbb_cells[i].input_prompt_number == nbb_cell_id) {\n",
       "                        if (nbb_cells[i].get_text() == nbb_unformatted_code) {\n",
       "                             nbb_cells[i].set_text(nbb_formatted_code);\n",
       "                        }\n",
       "                        break;\n",
       "                    }\n",
       "                }\n",
       "            }, 500);\n",
       "            "
      ],
      "text/plain": [
       "<IPython.core.display.Javascript object>"
      ]
     },
     "metadata": {},
     "output_type": "display_data"
    }
   ],
   "source": [
    "# To use snakevize for get_worst_case_probs it is necessary to uncomment all @njit commands\n",
    "# in the submodules/robupy directory\n",
    "# %snakeviz get_worst_case_probs(v, q, eta)"
   ]
  },
  {
   "cell_type": "code",
   "execution_count": 5,
   "metadata": {},
   "outputs": [
    {
     "data": {
      "application/javascript": [
       "\n",
       "            setTimeout(function() {\n",
       "                var nbb_cell_id = 5;\n",
       "                var nbb_unformatted_code = \"# from respy.solve import calculate_expected_value_functions\";\n",
       "                var nbb_formatted_code = \"# from respy.solve import calculate_expected_value_functions\";\n",
       "                var nbb_cells = Jupyter.notebook.get_cells();\n",
       "                for (var i = 0; i < nbb_cells.length; ++i) {\n",
       "                    if (nbb_cells[i].input_prompt_number == nbb_cell_id) {\n",
       "                        if (nbb_cells[i].get_text() == nbb_unformatted_code) {\n",
       "                             nbb_cells[i].set_text(nbb_formatted_code);\n",
       "                        }\n",
       "                        break;\n",
       "                    }\n",
       "                }\n",
       "            }, 500);\n",
       "            "
      ],
      "text/plain": [
       "<IPython.core.display.Javascript object>"
      ]
     },
     "metadata": {},
     "output_type": "display_data"
    }
   ],
   "source": [
    "# from respy.solve import calculate_expected_value_functions"
   ]
  },
  {
   "cell_type": "code",
   "execution_count": 6,
   "metadata": {},
   "outputs": [
    {
     "data": {
      "application/javascript": [
       "\n",
       "            setTimeout(function() {\n",
       "                var nbb_cell_id = 6;\n",
       "                var nbb_unformatted_code = \"# params, options, _ = rp.get_example_model(\\\"kw_94_two\\\")\\n# options[\\\"simulation_agents\\\"] = NUM_AGENTS\\n# options[\\\"n_periods\\\"] = NUM_PERIODS\";\n",
       "                var nbb_formatted_code = \"# params, options, _ = rp.get_example_model(\\\"kw_94_two\\\")\\n# options[\\\"simulation_agents\\\"] = NUM_AGENTS\\n# options[\\\"n_periods\\\"] = NUM_PERIODS\";\n",
       "                var nbb_cells = Jupyter.notebook.get_cells();\n",
       "                for (var i = 0; i < nbb_cells.length; ++i) {\n",
       "                    if (nbb_cells[i].input_prompt_number == nbb_cell_id) {\n",
       "                        if (nbb_cells[i].get_text() == nbb_unformatted_code) {\n",
       "                             nbb_cells[i].set_text(nbb_formatted_code);\n",
       "                        }\n",
       "                        break;\n",
       "                    }\n",
       "                }\n",
       "            }, 500);\n",
       "            "
      ],
      "text/plain": [
       "<IPython.core.display.Javascript object>"
      ]
     },
     "metadata": {},
     "output_type": "display_data"
    }
   ],
   "source": [
    "# params, options, _ = rp.get_example_model(\"kw_94_two\")\n",
    "# options[\"simulation_agents\"] = NUM_AGENTS\n",
    "# options[\"n_periods\"] = NUM_PERIODS"
   ]
  },
  {
   "cell_type": "code",
   "execution_count": 7,
   "metadata": {},
   "outputs": [
    {
     "data": {
      "application/javascript": [
       "\n",
       "            setTimeout(function() {\n",
       "                var nbb_cell_id = 7;\n",
       "                var nbb_unformatted_code = \"def test_sum(x, y):\\n    return x + y\";\n",
       "                var nbb_formatted_code = \"def test_sum(x, y):\\n    return x + y\";\n",
       "                var nbb_cells = Jupyter.notebook.get_cells();\n",
       "                for (var i = 0; i < nbb_cells.length; ++i) {\n",
       "                    if (nbb_cells[i].input_prompt_number == nbb_cell_id) {\n",
       "                        if (nbb_cells[i].get_text() == nbb_unformatted_code) {\n",
       "                             nbb_cells[i].set_text(nbb_formatted_code);\n",
       "                        }\n",
       "                        break;\n",
       "                    }\n",
       "                }\n",
       "            }, 500);\n",
       "            "
      ],
      "text/plain": [
       "<IPython.core.display.Javascript object>"
      ]
     },
     "metadata": {},
     "output_type": "display_data"
    }
   ],
   "source": [
    "def test_sum(x, y):\n",
    "    return x + y"
   ]
  },
  {
   "cell_type": "code",
   "execution_count": 8,
   "metadata": {},
   "outputs": [
    {
     "data": {
      "application/javascript": [
       "\n",
       "            setTimeout(function() {\n",
       "                var nbb_cell_id = 8;\n",
       "                var nbb_unformatted_code = \"def test_1(x, y):\\n    for i in range(1000):\\n        test_sum(x, y)\\n        np.arange(10000)\\n    x + y\\n    return x\";\n",
       "                var nbb_formatted_code = \"def test_1(x, y):\\n    for i in range(1000):\\n        test_sum(x, y)\\n        np.arange(10000)\\n    x + y\\n    return x\";\n",
       "                var nbb_cells = Jupyter.notebook.get_cells();\n",
       "                for (var i = 0; i < nbb_cells.length; ++i) {\n",
       "                    if (nbb_cells[i].input_prompt_number == nbb_cell_id) {\n",
       "                        if (nbb_cells[i].get_text() == nbb_unformatted_code) {\n",
       "                             nbb_cells[i].set_text(nbb_formatted_code);\n",
       "                        }\n",
       "                        break;\n",
       "                    }\n",
       "                }\n",
       "            }, 500);\n",
       "            "
      ],
      "text/plain": [
       "<IPython.core.display.Javascript object>"
      ]
     },
     "metadata": {},
     "output_type": "display_data"
    }
   ],
   "source": [
    "def test_1(x, y):\n",
    "    for i in range(1000):\n",
    "        test_sum(x, y)\n",
    "        np.arange(10000)\n",
    "    x + y\n",
    "    return x"
   ]
  },
  {
   "cell_type": "code",
   "execution_count": 9,
   "metadata": {},
   "outputs": [
    {
     "data": {
      "application/javascript": [
       "\n",
       "            setTimeout(function() {\n",
       "                var nbb_cell_id = 9;\n",
       "                var nbb_unformatted_code = \"# %snakeviz -t test_1(2,3)\";\n",
       "                var nbb_formatted_code = \"# %snakeviz -t test_1(2,3)\";\n",
       "                var nbb_cells = Jupyter.notebook.get_cells();\n",
       "                for (var i = 0; i < nbb_cells.length; ++i) {\n",
       "                    if (nbb_cells[i].input_prompt_number == nbb_cell_id) {\n",
       "                        if (nbb_cells[i].get_text() == nbb_unformatted_code) {\n",
       "                             nbb_cells[i].set_text(nbb_formatted_code);\n",
       "                        }\n",
       "                        break;\n",
       "                    }\n",
       "                }\n",
       "            }, 500);\n",
       "            "
      ],
      "text/plain": [
       "<IPython.core.display.Javascript object>"
      ]
     },
     "metadata": {},
     "output_type": "display_data"
    }
   ],
   "source": [
    "# %snakeviz -t test_1(2,3)"
   ]
  },
  {
   "cell_type": "code",
   "execution_count": null,
   "metadata": {},
   "outputs": [],
   "source": [
    "simulate = rp.get_simulate_func(params, options)"
   ]
  },
  {
   "cell_type": "code",
   "execution_count": null,
   "metadata": {},
   "outputs": [],
   "source": [
    "def calculate_expected_value_functions(\n",
    "    wages, nonpecs, continuation_values, draws, delta, eta, expected_value_functions\n",
    "):\n",
    "    r\"\"\"Calculate the expected maximum of value functions for a set of unobservables.\n",
    "\n",
    "    The function takes an agent and calculates the utility for each of the choices, the\n",
    "    ex-post rewards, with multiple draws from the distribution of unobservables and adds\n",
    "    the discounted expected maximum utility under a worst case scenario of subsequent periods\n",
    "    resulting from choices. Averaging over all maximum utilities yields the expected maximum\n",
    "    utility of this state\n",
    "\n",
    "    The underlying process in this function is called `Monte Carlo integration`_. The\n",
    "    goal is to approximate an integral by evaluating the integrand at randomly chosen\n",
    "    points. In this setting, one wants to approximate the expected maximum utility of\n",
    "    the current state.\n",
    "\n",
    "    Note that `wages` have the same length as `nonpecs` despite that wages are only\n",
    "    available in some choices. Missing choices are filled with ones. In the case of a\n",
    "    choice with wage and without wage, flow utilities are\n",
    "\n",
    "    .. math::\n",
    "\n",
    "        \\text{Flow Utility} = \\text{Wage} * \\epsilon + \\text{Non-pecuniary}\n",
    "        \\text{Flow Utility} = 1 * \\epsilon + \\text{Non-pecuniary}\n",
    "\n",
    "    Parameters\n",
    "    ----------\n",
    "    wages : numpy.ndarray\n",
    "        Array with shape (n_choices,) containing wages.\n",
    "    nonpecs : numpy.ndarray\n",
    "        Array with shape (n_choices,) containing non-pecuniary rewards.\n",
    "    continuation_values : numpy.ndarray\n",
    "        Array with shape (n_choices,) containing expected maximum utility for each\n",
    "        choice in the subsequent period.\n",
    "    draws : numpy.ndarray\n",
    "        Array with shape (n_draws, n_choices).\n",
    "    delta : float\n",
    "        The discount factor.\n",
    "    eta: float\n",
    "        The size of the ambiguity set.\n",
    "\n",
    "    Returns\n",
    "    -------\n",
    "    expected_value_functions : float\n",
    "        Expected maximum utility of an agent.\n",
    "\n",
    "    .. _Monte Carlo integration:\n",
    "        https://en.wikipedia.org/wiki/Monte_Carlo_integration\n",
    "\n",
    "    \"\"\"\n",
    "    n_draws, n_choices = draws.shape\n",
    "    v = np.repeat(np.nan, n_draws)\n",
    "\n",
    "    expected_value_functions[0] = 0\n",
    "\n",
    "    for i in range(n_draws):\n",
    "\n",
    "        max_value_functions = 0\n",
    "\n",
    "        for j in range(n_choices):\n",
    "            value_function, _ = aggregate_keane_wolpin_utility(\n",
    "                wages[j], nonpecs[j], continuation_values[j], draws[i, j], delta\n",
    "            )\n",
    "\n",
    "            if value_function > max_value_functions:\n",
    "                max_value_functions = value_function\n",
    "\n",
    "        v[i] = max_value_functions\n",
    "\n",
    "    if eta > 0:\n",
    "        q = np.repeat(1.0 / n_draws, n_draws)\n",
    "        p = get_worst_case_probs(v, q, eta)\n",
    "        emax = np.dot(v, p)\n",
    "    else:\n",
    "        emax = np.mean(v)\n",
    "\n",
    "    expected_value_functions[0] = emax"
   ]
  },
  {
   "cell_type": "code",
   "execution_count": null,
   "metadata": {},
   "outputs": [],
   "source": []
  }
 ],
 "metadata": {
  "kernelspec": {
   "display_name": "Python 3",
   "language": "python",
   "name": "python3"
  },
  "language_info": {
   "codemirror_mode": {
    "name": "ipython",
    "version": 3
   },
   "file_extension": ".py",
   "mimetype": "text/x-python",
   "name": "python",
   "nbconvert_exporter": "python",
   "pygments_lexer": "ipython3",
   "version": "3.7.6"
  }
 },
 "nbformat": 4,
 "nbformat_minor": 4
}

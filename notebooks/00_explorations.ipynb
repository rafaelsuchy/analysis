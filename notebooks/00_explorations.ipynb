{
 "cells": [
  {
   "cell_type": "code",
   "execution_count": 1,
   "metadata": {},
   "outputs": [],
   "source": [
    "import respy as rp\n",
    "import numpy as np\n",
    "from estimagic.optimization.optimize import maximize"
   ]
  },
  {
   "cell_type": "markdown",
   "metadata": {},
   "source": [
    "### Working step 1: Model estimation via Maximum Likelihood\n",
    "\n",
    "* We estimate a model by maximum likelihood using all true values as the starting point. Note that this model does not include $\\eta$ and none of the values is fixed (different to Working step 3). We use a gradient-free optimizer."
   ]
  },
  {
   "cell_type": "markdown",
   "metadata": {},
   "source": [
    "Simulate the model at starting values."
   ]
  },
  {
   "cell_type": "code",
   "execution_count": 2,
   "metadata": {},
   "outputs": [],
   "source": [
    "params, options = rp.get_example_model(\"kw_94_one\", with_data=False)\n",
    "simulate = rp.get_simulate_func(params, options)\n",
    "df = simulate(params)"
   ]
  },
  {
   "cell_type": "markdown",
   "metadata": {},
   "source": [
    "Get the criterion function and output the value of the MLE at given parameter values."
   ]
  },
  {
   "cell_type": "code",
   "execution_count": 3,
   "metadata": {},
   "outputs": [
    {
     "data": {
      "text/plain": [
       "-380.4868525056946"
      ]
     },
     "execution_count": 3,
     "metadata": {},
     "output_type": "execute_result"
    }
   ],
   "source": [
    "crit_func = rp.get_crit_func(params, options, df)\n",
    "crit_func(params)"
   ]
  },
  {
   "cell_type": "code",
   "execution_count": 4,
   "metadata": {},
   "outputs": [],
   "source": [
    "# Note for RS: maxfun is for scipy optimizers\n",
    "# Note for RS: maxeval is for nlopt optimizer\n",
    "#algo_options = {\"maxeval\": 100}\n",
    "#algo_options={\"maxfun\": 1}\n",
    "#algo_name = \"nlopt_bobyqa\" (gradient-free)\n",
    "#algo_name = \"scipy_L-BFGS-B\" (gradient-based)"
   ]
  },
  {
   "cell_type": "code",
   "execution_count": 5,
   "metadata": {},
   "outputs": [],
   "source": [
    "# Assemble the parameter constraints for kw_94_one\n",
    "# Note: # constr = rp.get_parameter_constraints(\"kw_94_one\") # is not working\n",
    "constr = [\n",
    "    {\"loc\": \"shocks_sdcorr\", \"type\": \"sdcorr\"},\n",
    "    {\"loc\": \"lagged_choice_1_edu\", \"type\": \"fixed\"},\n",
    "    {\"loc\": \"initial_exp_edu_10\", \"type\": \"fixed\"},\n",
    "    {\"loc\": \"maximum_exp\", \"type\": \"fixed\"},\n",
    "]"
   ]
  },
  {
   "cell_type": "code",
   "execution_count": 6,
   "metadata": {},
   "outputs": [
    {
     "data": {
      "text/plain": [
       "[{'loc': 'shocks_sdcorr', 'type': 'sdcorr'},\n",
       " {'loc': 'lagged_choice_1_edu', 'type': 'fixed'},\n",
       " {'loc': 'initial_exp_edu_10', 'type': 'fixed'},\n",
       " {'loc': 'maximum_exp', 'type': 'fixed'}]"
      ]
     },
     "execution_count": 6,
     "metadata": {},
     "output_type": "execute_result"
    }
   ],
   "source": [
    "constr"
   ]
  },
  {
   "cell_type": "code",
   "execution_count": 7,
   "metadata": {},
   "outputs": [],
   "source": [
    "results, params_rslt = maximize(\n",
    "    crit_func, \n",
    "    params, \n",
    "    \"nlopt_bobyqa\", \n",
    "    algo_options={\"maxeval\": 2},  # for the first tries we set the evaluations to a low number\n",
    "    constraints=constr,\n",
    "    dashboard=False)"
   ]
  },
  {
   "cell_type": "code",
   "execution_count": 8,
   "metadata": {},
   "outputs": [],
   "source": [
    "#params_rslt"
   ]
  },
  {
   "cell_type": "markdown",
   "metadata": {},
   "source": [
    "### Working step 2: Ambiguity perturbation\n",
    "\n",
    "We will disturb $\\eta$ and subsequently estimate it to check whether the same values come out again.\n",
    "\n",
    "More specifically:\n",
    "* we will first set $\\eta$ so the values presented at p.17 in the paper, i.e. baseline (0.01) and high (0.02)\n",
    "* we will simulate the model with the set values\n",
    "* we will perturb our starting values in the estimation and analyze whether they return to their initial values"
   ]
  },
  {
   "cell_type": "code",
   "execution_count": 9,
   "metadata": {},
   "outputs": [],
   "source": [
    "# Check the parameter combinations\n",
    "eta_perturbed = {\n",
    "    \"true\": [],\n",
    "    \"estimated\": [],\n",
    "    \"yos\": []\n",
    "}\n",
    "\n",
    "eta_perturbed = {\n",
    "    \"true\": [],\n",
    "    \"estimated\": []\n",
    "}"
   ]
  },
  {
   "cell_type": "code",
   "execution_count": 10,
   "metadata": {},
   "outputs": [],
   "source": [
    "constr = [{\"query\": \"category != 'eta'\", \"type\": \"fixed\"}]"
   ]
  },
  {
   "cell_type": "code",
   "execution_count": 11,
   "metadata": {},
   "outputs": [
    {
     "data": {
      "text/plain": [
       "[{'query': \"category != 'eta'\", 'type': 'fixed'}]"
      ]
     },
     "execution_count": 11,
     "metadata": {},
     "output_type": "execute_result"
    }
   ],
   "source": [
    "constr"
   ]
  },
  {
   "cell_type": "code",
   "execution_count": 12,
   "metadata": {},
   "outputs": [],
   "source": [
    "eta_baseline = 0.01\n",
    "eta_high = 0.02\n",
    "# To do: in the end we will have a wrapper that works for simulation with any given eta"
   ]
  },
  {
   "cell_type": "code",
   "execution_count": 13,
   "metadata": {},
   "outputs": [],
   "source": [
    "# Decide for an eta\n",
    "params, options = rp.get_example_model(\"kw_94_one\", with_data=False)\n",
    "params.loc[(\"eta\", \"eta\"), :] = (eta_baseline, \"eta value \" + str(eta_baseline))\n",
    "simulate = rp.get_simulate_func(params, options)"
   ]
  },
  {
   "cell_type": "code",
   "execution_count": 14,
   "metadata": {},
   "outputs": [
    {
     "ename": "ValueError",
     "evalue": "Column names starting with '_internal' and as well as any other of the following columns are not allowed in params:\n['_fixed_value', '_is_fixed_to_value', '_is_fixed_to_other'].This is violated for:\n['_fixed_value', '_is_fixed_to_value', '_is_fixed_to_other', '_internal_lower', '_internal_upper', '_internal_free', '_internal_fixed_value'].",
     "output_type": "error",
     "traceback": [
      "\u001b[0;31m---------------------------------------------------------------------------\u001b[0m",
      "\u001b[0;31mValueError\u001b[0m                                Traceback (most recent call last)",
      "\u001b[0;32m<ipython-input-14-2e9c8e5c7dfa>\u001b[0m in \u001b[0;36m<module>\u001b[0;34m\u001b[0m\n\u001b[1;32m     24\u001b[0m         \u001b[0;31m# In the \"real world simulation\" we will set this to a much higher number\u001b[0m\u001b[0;34m\u001b[0m\u001b[0;34m\u001b[0m\u001b[0;34m\u001b[0m\u001b[0m\n\u001b[1;32m     25\u001b[0m         \u001b[0mconstraints\u001b[0m\u001b[0;34m=\u001b[0m\u001b[0mconstr\u001b[0m\u001b[0;34m,\u001b[0m\u001b[0;34m\u001b[0m\u001b[0;34m\u001b[0m\u001b[0m\n\u001b[0;32m---> 26\u001b[0;31m         \u001b[0mdashboard\u001b[0m\u001b[0;34m=\u001b[0m\u001b[0;32mFalse\u001b[0m\u001b[0;34m\u001b[0m\u001b[0;34m\u001b[0m\u001b[0m\n\u001b[0m\u001b[1;32m     27\u001b[0m     )\n\u001b[1;32m     28\u001b[0m \u001b[0;34m\u001b[0m\u001b[0m\n",
      "\u001b[0;32m~/anaconda3/lib/python3.7/site-packages/estimagic/optimization/optimize.py\u001b[0m in \u001b[0;36mmaximize\u001b[0;34m(criterion, params, algorithm, criterion_kwargs, constraints, general_options, algo_options, dashboard, db_options)\u001b[0m\n\u001b[1;32m     89\u001b[0m         \u001b[0malgo_options\u001b[0m\u001b[0;34m=\u001b[0m\u001b[0malgo_options\u001b[0m\u001b[0;34m,\u001b[0m\u001b[0;34m\u001b[0m\u001b[0;34m\u001b[0m\u001b[0m\n\u001b[1;32m     90\u001b[0m         \u001b[0mdashboard\u001b[0m\u001b[0;34m=\u001b[0m\u001b[0mdashboard\u001b[0m\u001b[0;34m,\u001b[0m\u001b[0;34m\u001b[0m\u001b[0;34m\u001b[0m\u001b[0m\n\u001b[0;32m---> 91\u001b[0;31m         \u001b[0mdb_options\u001b[0m\u001b[0;34m=\u001b[0m\u001b[0mdb_options\u001b[0m\u001b[0;34m,\u001b[0m\u001b[0;34m\u001b[0m\u001b[0;34m\u001b[0m\u001b[0m\n\u001b[0m\u001b[1;32m     92\u001b[0m     )\n\u001b[1;32m     93\u001b[0m     \u001b[0mres_dict\u001b[0m\u001b[0;34m[\u001b[0m\u001b[0;34m\"fun\"\u001b[0m\u001b[0;34m]\u001b[0m \u001b[0;34m=\u001b[0m \u001b[0;34m-\u001b[0m\u001b[0mres_dict\u001b[0m\u001b[0;34m[\u001b[0m\u001b[0;34m\"fun\"\u001b[0m\u001b[0;34m]\u001b[0m\u001b[0;34m\u001b[0m\u001b[0;34m\u001b[0m\u001b[0m\n",
      "\u001b[0;32m~/anaconda3/lib/python3.7/site-packages/estimagic/optimization/optimize.py\u001b[0m in \u001b[0;36mminimize\u001b[0;34m(criterion, params, algorithm, criterion_kwargs, constraints, general_options, algo_options, dashboard, db_options)\u001b[0m\n\u001b[1;32m    156\u001b[0m         \u001b[0;31m# Run only one optimization\u001b[0m\u001b[0;34m\u001b[0m\u001b[0;34m\u001b[0m\u001b[0;34m\u001b[0m\u001b[0m\n\u001b[1;32m    157\u001b[0m         \u001b[0marguments\u001b[0m \u001b[0;34m=\u001b[0m \u001b[0marguments\u001b[0m\u001b[0;34m[\u001b[0m\u001b[0;36m0\u001b[0m\u001b[0;34m]\u001b[0m\u001b[0;34m\u001b[0m\u001b[0;34m\u001b[0m\u001b[0m\n\u001b[0;32m--> 158\u001b[0;31m         \u001b[0mresult\u001b[0m \u001b[0;34m=\u001b[0m \u001b[0m_single_minimize\u001b[0m\u001b[0;34m(\u001b[0m\u001b[0;34m**\u001b[0m\u001b[0marguments\u001b[0m\u001b[0;34m)\u001b[0m\u001b[0;34m\u001b[0m\u001b[0;34m\u001b[0m\u001b[0m\n\u001b[0m\u001b[1;32m    159\u001b[0m     \u001b[0;32melse\u001b[0m\u001b[0;34m:\u001b[0m\u001b[0;34m\u001b[0m\u001b[0;34m\u001b[0m\u001b[0m\n\u001b[1;32m    160\u001b[0m         \u001b[0;31m# Run multiple optimizations\u001b[0m\u001b[0;34m\u001b[0m\u001b[0;34m\u001b[0m\u001b[0;34m\u001b[0m\u001b[0m\n",
      "\u001b[0;32m~/anaconda3/lib/python3.7/site-packages/estimagic/optimization/optimize.py\u001b[0m in \u001b[0;36m_single_minimize\u001b[0;34m(criterion, params, algorithm, criterion_kwargs, constraints, general_options, algo_options, dashboard, db_options)\u001b[0m\n\u001b[1;32m    222\u001b[0m     \"\"\"\n\u001b[1;32m    223\u001b[0m     \u001b[0msimplefilter\u001b[0m\u001b[0;34m(\u001b[0m\u001b[0maction\u001b[0m\u001b[0;34m=\u001b[0m\u001b[0;34m\"ignore\"\u001b[0m\u001b[0;34m,\u001b[0m \u001b[0mcategory\u001b[0m\u001b[0;34m=\u001b[0m\u001b[0mpd\u001b[0m\u001b[0;34m.\u001b[0m\u001b[0merrors\u001b[0m\u001b[0;34m.\u001b[0m\u001b[0mPerformanceWarning\u001b[0m\u001b[0;34m)\u001b[0m\u001b[0;34m\u001b[0m\u001b[0;34m\u001b[0m\u001b[0m\n\u001b[0;32m--> 224\u001b[0;31m     \u001b[0mparams\u001b[0m \u001b[0;34m=\u001b[0m \u001b[0m_process_params\u001b[0m\u001b[0;34m(\u001b[0m\u001b[0mparams\u001b[0m\u001b[0;34m)\u001b[0m\u001b[0;34m\u001b[0m\u001b[0;34m\u001b[0m\u001b[0m\n\u001b[0m\u001b[1;32m    225\u001b[0m \u001b[0;34m\u001b[0m\u001b[0m\n\u001b[1;32m    226\u001b[0m     \u001b[0mfitness_factor\u001b[0m \u001b[0;34m=\u001b[0m \u001b[0;34m-\u001b[0m\u001b[0;36m1\u001b[0m \u001b[0;32mif\u001b[0m \u001b[0mgeneral_options\u001b[0m\u001b[0;34m.\u001b[0m\u001b[0mget\u001b[0m\u001b[0;34m(\u001b[0m\u001b[0;34m\"_maximization\"\u001b[0m\u001b[0;34m,\u001b[0m \u001b[0;32mFalse\u001b[0m\u001b[0;34m)\u001b[0m \u001b[0;32melse\u001b[0m \u001b[0;36m1\u001b[0m\u001b[0;34m\u001b[0m\u001b[0;34m\u001b[0m\u001b[0m\n",
      "\u001b[0;32m~/anaconda3/lib/python3.7/site-packages/estimagic/optimization/optimize.py\u001b[0m in \u001b[0;36m_process_params\u001b[0;34m(params)\u001b[0m\n\u001b[1;32m    490\u001b[0m             \u001b[0;34mf\"This is violated for:\\n{invalid_present_columns}.\"\u001b[0m\u001b[0;34m\u001b[0m\u001b[0;34m\u001b[0m\u001b[0m\n\u001b[1;32m    491\u001b[0m         )\n\u001b[0;32m--> 492\u001b[0;31m         \u001b[0;32mraise\u001b[0m \u001b[0mValueError\u001b[0m\u001b[0;34m(\u001b[0m\u001b[0mmsg\u001b[0m\u001b[0;34m)\u001b[0m\u001b[0;34m\u001b[0m\u001b[0;34m\u001b[0m\u001b[0m\n\u001b[0m\u001b[1;32m    493\u001b[0m     \u001b[0;32mreturn\u001b[0m \u001b[0mparams\u001b[0m\u001b[0;34m\u001b[0m\u001b[0;34m\u001b[0m\u001b[0m\n\u001b[1;32m    494\u001b[0m \u001b[0;34m\u001b[0m\u001b[0m\n",
      "\u001b[0;31mValueError\u001b[0m: Column names starting with '_internal' and as well as any other of the following columns are not allowed in params:\n['_fixed_value', '_is_fixed_to_value', '_is_fixed_to_other'].This is violated for:\n['_fixed_value', '_is_fixed_to_value', '_is_fixed_to_other', '_internal_lower', '_internal_upper', '_internal_free', '_internal_fixed_value']."
     ]
    }
   ],
   "source": [
    "for eta in np.linspace(0, 0.25, 11):\n",
    "    \n",
    "    #params, options = rp.get_example_model(\"kw_94_one\", with_data=False)\n",
    "    #simulate = rp.get_simulate_func(params, options)\n",
    "    \n",
    "    #params.loc[(\"eta\", \"eta\"), :] = (eta, \"iteration with \" + str(eta))\n",
    "    params.loc[(\"eta\", \"eta\"), :] = eta\n",
    "    #df = simulate(params) # We want only to change the starting values, but not the simulated \"data\"\n",
    "    #stat = df.groupby(\"Identifier\")[\"Experience_Edu\"].max().mean()\n",
    "    \n",
    "    #params[\"group\"] = params.index.get_level_values('category')\n",
    "    # need above only if we want dashboard output\n",
    "    \n",
    "    crit_func = rp.get_crit_func(params, options, df)\n",
    "    # crit_func(params) # no need to output the value here\n",
    "    # constr = rp.get_parameter_constraints(\"kw_94_one\")\n",
    "    # just take constraints from above with all other except eta fixed\n",
    "\n",
    "    results, params = maximize(\n",
    "        crit_func, \n",
    "        params,\n",
    "        \"nlopt_bobyqa\",\n",
    "        algo_options={\"maxeval\": 2},\n",
    "        # In the \"real world simulation\" we will set this to a much higher number\n",
    "        constraints=constr,\n",
    "        dashboard=False\n",
    "    )\n",
    "    \n",
    "    eta_perturbed[\"true\"].append(eta_baseline)\n",
    "    eta_perturbed[\"estimated\"].append(params.loc[\"eta\", \"value\"][0])\n",
    "    #eta_perturbed[\"yos\"].append(stat)\n",
    "    \n",
    "    # To do: write a wrapper for this thing"
   ]
  },
  {
   "cell_type": "markdown",
   "metadata": {},
   "source": [
    "### Working step 3: Risk-only model"
   ]
  },
  {
   "cell_type": "markdown",
   "metadata": {},
   "source": [
    "We estimate a model with *risk-only*. This means we have $\\eta = 0$ fixed. \n",
    "We want to see how different the likelihood is at the estimated parameter values.\n",
    "We treat the risk-parameter as only unknown parameter."
   ]
  },
  {
   "cell_type": "code",
   "execution_count": null,
   "metadata": {},
   "outputs": [],
   "source": [
    "params.loc[(\"eta\", \"eta\"), :] = (0, \"Ambiguity fixed at zero\")\n",
    "constr = {\"query\": \"category != delta\", \"type\": \"fixed\"}"
   ]
  },
  {
   "cell_type": "code",
   "execution_count": null,
   "metadata": {},
   "outputs": [],
   "source": [
    "crit_func = rp.get_crit_func(params, options, df)\n",
    "crit_func(params)"
   ]
  },
  {
   "cell_type": "code",
   "execution_count": null,
   "metadata": {},
   "outputs": [],
   "source": [
    "results, params_rslt = maximize(\n",
    "    crit_func, params,\n",
    "    \"nlopt_bobyqa\",\n",
    "    algo_options={\"maxeval\": 2},\n",
    "    constraints=constr,\n",
    "    dashboard=False\n",
    ")"
   ]
  },
  {
   "cell_type": "code",
   "execution_count": null,
   "metadata": {},
   "outputs": [],
   "source": [
    "params_rslt"
   ]
  },
  {
   "cell_type": "markdown",
   "metadata": {},
   "source": [
    "### Summary of working steps\n",
    "\n",
    "* We estimated a model by maximum likelihood using all true values as the starting point.\n",
    "\n",
    "* We estimated a model with only $\\eta$ perturbed.\n",
    "\n",
    "* We estimated a model with risk-only, $\\eta = 0$ fixed, to see how different the likelihood is at the estimated parameter values."
   ]
  },
  {
   "cell_type": "code",
   "execution_count": null,
   "metadata": {},
   "outputs": [],
   "source": []
  }
 ],
 "metadata": {
  "kernelspec": {
   "display_name": "Python 3",
   "language": "python",
   "name": "python3"
  },
  "language_info": {
   "codemirror_mode": {
    "name": "ipython",
    "version": 3
   },
   "file_extension": ".py",
   "mimetype": "text/x-python",
   "name": "python",
   "nbconvert_exporter": "python",
   "pygments_lexer": "ipython3",
   "version": "3.7.4"
  }
 },
 "nbformat": 4,
 "nbformat_minor": 4
}

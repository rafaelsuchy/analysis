{
 "cells": [
  {
   "cell_type": "code",
   "execution_count": 6,
   "metadata": {},
   "outputs": [],
   "source": [
    "import respy as rp\n",
    "import numpy as np\n",
    "from estimagic.optimization.optimize import maximize"
   ]
  },
  {
   "cell_type": "code",
   "execution_count": 7,
   "metadata": {},
   "outputs": [],
   "source": [
    "# Parameters for the simulation --> will go to config.py\n",
    "NUM_AGENTS = 500\n",
    "NUM_PERIODS = 5"
   ]
  },
  {
   "cell_type": "markdown",
   "metadata": {},
   "source": [
    "### Working Step 1: Model estimation via Maximum Likelihood\n",
    "\n",
    "- We estimate a model by Maximum Likelihood estimation using all true values as the starting point. We start with a model that does not include ambiguity, $\\eta = 0$. \n",
    "- We do not fix any of the values and use a gradient-free optimizer."
   ]
  },
  {
   "cell_type": "code",
   "execution_count": 8,
   "metadata": {},
   "outputs": [],
   "source": [
    "params_base, options = rp.get_example_model(\"robinson_crusoe_basic\", with_data=False)"
   ]
  },
  {
   "cell_type": "markdown",
   "metadata": {},
   "source": [
    "We will simulate NUM_AGENTS representative Robinson Crusoe agents over a time of T = NUM_PERIODS periods."
   ]
  },
  {
   "cell_type": "code",
   "execution_count": 9,
   "metadata": {},
   "outputs": [],
   "source": [
    "options[\"n_periods\"] = NUM_PERIODS\n",
    "options[\"simulation_agents\"] = NUM_AGENTS"
   ]
  },
  {
   "cell_type": "code",
   "execution_count": 10,
   "metadata": {},
   "outputs": [],
   "source": [
    "simulate = rp.get_simulate_func(params_base, options)\n",
    "df = simulate(params_base)\n",
    "#df"
   ]
  },
  {
   "cell_type": "markdown",
   "metadata": {},
   "source": [
    "**Get the criterion function** and output the value of the MLE at given parameter values.\n",
    "\n",
    "**Note**  \n",
    "We obtain a version of the likelihood function where all arguments - except for the parameter vector - are fixed. \n",
    "Consequently, the function can be directly passed into an optimizer.\n",
    "\n",
    "$\\eta$ enters through the `model_processing._parse_parameters` method, which was added through [PR #349](https://github.com/OpenSourceEconomics/respy/pull/349) into `respy`."
   ]
  },
  {
   "cell_type": "code",
   "execution_count": 11,
   "metadata": {},
   "outputs": [],
   "source": [
    "crit_func = rp.get_crit_func(params_base, options, df)"
   ]
  },
  {
   "cell_type": "code",
   "execution_count": 12,
   "metadata": {},
   "outputs": [],
   "source": [
    "rslt, params_rslt = maximize(\n",
    "    criterion=crit_func, \n",
    "    params=params_base, \n",
    "    algorithm=\"nlopt_bobyqa\", \n",
    "    algo_options={\"maxeval\": 20},  \n",
    "    # for the first tries we set the evaluations to a low number\n",
    "    dashboard=False)"
   ]
  },
  {
   "cell_type": "code",
   "execution_count": 13,
   "metadata": {},
   "outputs": [],
   "source": [
    "#params_rslt"
   ]
  },
  {
   "cell_type": "markdown",
   "metadata": {},
   "source": [
    "### Working step 2: Ambiguity perturbation\n",
    "\n",
    "We will disturb $\\eta$ and subsequently estimate it to check whether the same values come out again.\n",
    "\n",
    "More specifically:\n",
    "* We will first set $\\eta$ so the values presented at p.17 in Eisenhauer and Suchy (2020), i.e. baseline (0.01) and high (0.02)\n",
    "* We will simulate the model with the set values\n",
    "* We will perturb our starting values in the estimation and analyze whether they return to their initial values"
   ]
  },
  {
   "cell_type": "code",
   "execution_count": 14,
   "metadata": {},
   "outputs": [],
   "source": [
    "eta_values = {\n",
    "    \"risk_only\": 0.00,\n",
    "    \"baseline\": 0.01,\n",
    "    \"high\": 0.02,\n",
    "}"
   ]
  },
  {
   "cell_type": "code",
   "execution_count": 15,
   "metadata": {},
   "outputs": [
    {
     "data": {
      "text/html": [
       "<div>\n",
       "<style scoped>\n",
       "    .dataframe tbody tr th:only-of-type {\n",
       "        vertical-align: middle;\n",
       "    }\n",
       "\n",
       "    .dataframe tbody tr th {\n",
       "        vertical-align: top;\n",
       "    }\n",
       "\n",
       "    .dataframe thead th {\n",
       "        text-align: right;\n",
       "    }\n",
       "</style>\n",
       "<table border=\"1\" class=\"dataframe\">\n",
       "  <thead>\n",
       "    <tr style=\"text-align: right;\">\n",
       "      <th></th>\n",
       "      <th></th>\n",
       "      <th>value</th>\n",
       "    </tr>\n",
       "    <tr>\n",
       "      <th>category</th>\n",
       "      <th>name</th>\n",
       "      <th></th>\n",
       "    </tr>\n",
       "  </thead>\n",
       "  <tbody>\n",
       "    <tr>\n",
       "      <th>delta</th>\n",
       "      <th>delta</th>\n",
       "      <td>0.95</td>\n",
       "    </tr>\n",
       "    <tr>\n",
       "      <th>wage_fishing</th>\n",
       "      <th>exp_fishing</th>\n",
       "      <td>0.10</td>\n",
       "    </tr>\n",
       "    <tr>\n",
       "      <th>nonpec_fishing</th>\n",
       "      <th>constant</th>\n",
       "      <td>-1.00</td>\n",
       "    </tr>\n",
       "    <tr>\n",
       "      <th rowspan=\"2\" valign=\"top\">nonpec_hammock</th>\n",
       "      <th>constant</th>\n",
       "      <td>2.50</td>\n",
       "    </tr>\n",
       "    <tr>\n",
       "      <th>not_fishing_last_period</th>\n",
       "      <td>-1.00</td>\n",
       "    </tr>\n",
       "    <tr>\n",
       "      <th rowspan=\"3\" valign=\"top\">shocks_sdcorr</th>\n",
       "      <th>sd_fishing</th>\n",
       "      <td>1.00</td>\n",
       "    </tr>\n",
       "    <tr>\n",
       "      <th>sd_hammock</th>\n",
       "      <td>1.00</td>\n",
       "    </tr>\n",
       "    <tr>\n",
       "      <th>corr_hammock_fishing</th>\n",
       "      <td>-0.20</td>\n",
       "    </tr>\n",
       "    <tr>\n",
       "      <th>lagged_choice_1_hammock</th>\n",
       "      <th>constant</th>\n",
       "      <td>1.00</td>\n",
       "    </tr>\n",
       "    <tr>\n",
       "      <th>inadmissibility_penalty</th>\n",
       "      <th>inadmissibility_penalty</th>\n",
       "      <td>-20.00</td>\n",
       "    </tr>\n",
       "    <tr>\n",
       "      <th>eta</th>\n",
       "      <th>eta</th>\n",
       "      <td>0.01</td>\n",
       "    </tr>\n",
       "  </tbody>\n",
       "</table>\n",
       "</div>"
      ],
      "text/plain": [
       "                                                 value\n",
       "category                name                          \n",
       "delta                   delta                     0.95\n",
       "wage_fishing            exp_fishing               0.10\n",
       "nonpec_fishing          constant                 -1.00\n",
       "nonpec_hammock          constant                  2.50\n",
       "                        not_fishing_last_period  -1.00\n",
       "shocks_sdcorr           sd_fishing                1.00\n",
       "                        sd_hammock                1.00\n",
       "                        corr_hammock_fishing     -0.20\n",
       "lagged_choice_1_hammock constant                  1.00\n",
       "inadmissibility_penalty inadmissibility_penalty -20.00\n",
       "eta                     eta                       0.01"
      ]
     },
     "execution_count": 15,
     "metadata": {},
     "output_type": "execute_result"
    }
   ],
   "source": [
    "params_eta = params_base.copy()\n",
    "params_eta.loc[(\"eta\", \"eta\"), :] = eta_values[\"baseline\"]\n",
    "params_eta"
   ]
  },
  {
   "cell_type": "markdown",
   "metadata": {},
   "source": [
    "Initialize the base parameter constraints. Base refers here to the case where all parameters are fixed."
   ]
  },
  {
   "cell_type": "code",
   "execution_count": 16,
   "metadata": {},
   "outputs": [],
   "source": [
    "#constr = [{\"query\": \"category != 'eta'\", \"type\": \"fixed\"}]\n",
    "constr_base = [\n",
    "    {\"loc\": \"shocks_sdcorr\", \"type\": \"sdcorr\"}, \n",
    "    {\"loc\": \"eta\", \"type\": \"fixed\"},\n",
    "    {\"loc\": \"delta\", \"type\": \"fixed\"},\n",
    "    {\"loc\": \"wage_fishing\", \"type\": \"fixed\"},\n",
    "    {\"loc\": \"nonpec_fishing\", \"type\": \"fixed\"},\n",
    "    {\"loc\": \"nonpec_hammock\", \"type\":\"fixed\"},\n",
    "    {\"loc\": \"shocks_sdcorr\", \"type\": \"fixed\"},\n",
    "]"
   ]
  },
  {
   "cell_type": "markdown",
   "metadata": {},
   "source": [
    "We will keep all parameters fixed, but let $\\eta$ vary during the estimation."
   ]
  },
  {
   "cell_type": "code",
   "execution_count": 17,
   "metadata": {},
   "outputs": [],
   "source": [
    "constr_eta = constr_base.copy()\n",
    "constr_eta.remove({\"loc\": \"eta\", \"type\": \"fixed\"})"
   ]
  },
  {
   "cell_type": "code",
   "execution_count": 18,
   "metadata": {},
   "outputs": [],
   "source": [
    "# Check the parameter combinations\n",
    "eta_perturbed = {\n",
    "    \"true\": [],\n",
    "    \"estimated\": [],\n",
    "    \"yos\": []\n",
    "}"
   ]
  },
  {
   "cell_type": "markdown",
   "metadata": {},
   "source": [
    "**Get a simulated data set** where agents act accordingly to $\\eta = 0.01$."
   ]
  },
  {
   "cell_type": "code",
   "execution_count": 19,
   "metadata": {},
   "outputs": [],
   "source": [
    "simulate_eta = rp.get_simulate_func(params_eta, options)\n",
    "df_eta = simulate_eta(params_eta)\n",
    "#df_eta"
   ]
  },
  {
   "cell_type": "code",
   "execution_count": 20,
   "metadata": {},
   "outputs": [],
   "source": [
    "for eta in np.linspace(0, 0.25, 11):\n",
    "    \n",
    "    # We want a change in the starting values (not in the simulated data)\n",
    "    params_eta.loc[(\"eta\", \"eta\"), :] = eta\n",
    "    \n",
    "    # params[\"group\"] = params.index.get_level_values('category')\n",
    "    # need above only if we want dashboard output\n",
    "    \n",
    "    # Get the criterion function with simulated data, but different param values\n",
    "    crit_func_eta = rp.get_crit_func(params_eta, options, df_eta) \n",
    "\n",
    "    results, params_rslt = maximize(\n",
    "        crit_func_eta, \n",
    "        params_eta,\n",
    "        \"nlopt_bobyqa\",\n",
    "        algo_options={\"maxeval\": 20},\n",
    "        # In the \"real world simulation\" we will set this to a much higher number\n",
    "        constraints=constr_eta\n",
    "    )\n",
    "    \n",
    "    eta_perturbed[\"true\"].append(eta)\n",
    "    eta_perturbed[\"estimated\"].append(params_rslt.loc[\"eta\", \"value\"][0])\n",
    "    #eta_perturbed[\"yos\"].append(stat)\n",
    "    \n",
    "    # To do: write a wrapper for this thing"
   ]
  },
  {
   "cell_type": "code",
   "execution_count": 21,
   "metadata": {},
   "outputs": [
    {
     "data": {
      "text/plain": [
       "{'true': [0.0,\n",
       "  0.025,\n",
       "  0.05,\n",
       "  0.07500000000000001,\n",
       "  0.1,\n",
       "  0.125,\n",
       "  0.15000000000000002,\n",
       "  0.17500000000000002,\n",
       "  0.2,\n",
       "  0.225,\n",
       "  0.25],\n",
       " 'estimated': [0.0,\n",
       "  0.025,\n",
       "  0.05,\n",
       "  0.07500000000000001,\n",
       "  0.1,\n",
       "  0.125,\n",
       "  0.15000000000000002,\n",
       "  0.17500000000000002,\n",
       "  0.2,\n",
       "  0.225,\n",
       "  0.25],\n",
       " 'yos': []}"
      ]
     },
     "execution_count": 21,
     "metadata": {},
     "output_type": "execute_result"
    }
   ],
   "source": [
    "eta_perturbed"
   ]
  },
  {
   "cell_type": "markdown",
   "metadata": {},
   "source": [
    "### Working step 3: Risk-only model"
   ]
  },
  {
   "cell_type": "markdown",
   "metadata": {},
   "source": [
    "Write explicitly what is fixed.\n",
    "\n",
    "\n",
    "We estimate a model with *risk-only*. This means we have $\\eta = 0$  fixed for the simulated (estimation).\n",
    "We want to see how different the likelihood is at the estimated parameter values.\n",
    "We treat the risk-parameter as only unknown parameter."
   ]
  },
  {
   "cell_type": "code",
   "execution_count": 22,
   "metadata": {},
   "outputs": [
    {
     "data": {
      "text/html": [
       "<div>\n",
       "<style scoped>\n",
       "    .dataframe tbody tr th:only-of-type {\n",
       "        vertical-align: middle;\n",
       "    }\n",
       "\n",
       "    .dataframe tbody tr th {\n",
       "        vertical-align: top;\n",
       "    }\n",
       "\n",
       "    .dataframe thead th {\n",
       "        text-align: right;\n",
       "    }\n",
       "</style>\n",
       "<table border=\"1\" class=\"dataframe\">\n",
       "  <thead>\n",
       "    <tr style=\"text-align: right;\">\n",
       "      <th></th>\n",
       "      <th></th>\n",
       "      <th>value</th>\n",
       "    </tr>\n",
       "    <tr>\n",
       "      <th>category</th>\n",
       "      <th>name</th>\n",
       "      <th></th>\n",
       "    </tr>\n",
       "  </thead>\n",
       "  <tbody>\n",
       "    <tr>\n",
       "      <th>delta</th>\n",
       "      <th>delta</th>\n",
       "      <td>0.95</td>\n",
       "    </tr>\n",
       "    <tr>\n",
       "      <th>wage_fishing</th>\n",
       "      <th>exp_fishing</th>\n",
       "      <td>0.10</td>\n",
       "    </tr>\n",
       "    <tr>\n",
       "      <th>nonpec_fishing</th>\n",
       "      <th>constant</th>\n",
       "      <td>-1.00</td>\n",
       "    </tr>\n",
       "    <tr>\n",
       "      <th rowspan=\"2\" valign=\"top\">nonpec_hammock</th>\n",
       "      <th>constant</th>\n",
       "      <td>2.50</td>\n",
       "    </tr>\n",
       "    <tr>\n",
       "      <th>not_fishing_last_period</th>\n",
       "      <td>-1.00</td>\n",
       "    </tr>\n",
       "    <tr>\n",
       "      <th rowspan=\"3\" valign=\"top\">shocks_sdcorr</th>\n",
       "      <th>sd_fishing</th>\n",
       "      <td>1.00</td>\n",
       "    </tr>\n",
       "    <tr>\n",
       "      <th>sd_hammock</th>\n",
       "      <td>1.00</td>\n",
       "    </tr>\n",
       "    <tr>\n",
       "      <th>corr_hammock_fishing</th>\n",
       "      <td>-0.20</td>\n",
       "    </tr>\n",
       "    <tr>\n",
       "      <th>lagged_choice_1_hammock</th>\n",
       "      <th>constant</th>\n",
       "      <td>1.00</td>\n",
       "    </tr>\n",
       "    <tr>\n",
       "      <th>inadmissibility_penalty</th>\n",
       "      <th>inadmissibility_penalty</th>\n",
       "      <td>-20.00</td>\n",
       "    </tr>\n",
       "    <tr>\n",
       "      <th>eta</th>\n",
       "      <th>eta</th>\n",
       "      <td>0.00</td>\n",
       "    </tr>\n",
       "  </tbody>\n",
       "</table>\n",
       "</div>"
      ],
      "text/plain": [
       "                                                 value\n",
       "category                name                          \n",
       "delta                   delta                     0.95\n",
       "wage_fishing            exp_fishing               0.10\n",
       "nonpec_fishing          constant                 -1.00\n",
       "nonpec_hammock          constant                  2.50\n",
       "                        not_fishing_last_period  -1.00\n",
       "shocks_sdcorr           sd_fishing                1.00\n",
       "                        sd_hammock                1.00\n",
       "                        corr_hammock_fishing     -0.20\n",
       "lagged_choice_1_hammock constant                  1.00\n",
       "inadmissibility_penalty inadmissibility_penalty -20.00\n",
       "eta                     eta                       0.00"
      ]
     },
     "execution_count": 22,
     "metadata": {},
     "output_type": "execute_result"
    }
   ],
   "source": [
    "params_risk_only = params_base.copy()\n",
    "params_risk_only.loc[(\"eta\", \"eta\"), :] = eta_values[\"risk_only\"]\n",
    "params_risk_only"
   ]
  },
  {
   "cell_type": "code",
   "execution_count": 23,
   "metadata": {},
   "outputs": [],
   "source": [
    "constr_risk_only = constr_base.copy()\n",
    "constr_risk_only.remove({\"loc\": \"delta\", \"type\": \"fixed\"})"
   ]
  },
  {
   "cell_type": "code",
   "execution_count": 24,
   "metadata": {},
   "outputs": [],
   "source": [
    "simulate_risk_only = rp.get_simulate_func(params_risk_only, options)\n",
    "df_risk_only = simulate_risk_only(params_risk_only)"
   ]
  },
  {
   "cell_type": "code",
   "execution_count": 25,
   "metadata": {},
   "outputs": [
    {
     "data": {
      "text/plain": [
       "-6.803133136863534"
      ]
     },
     "execution_count": 25,
     "metadata": {},
     "output_type": "execute_result"
    }
   ],
   "source": [
    "crit_func_risk_only = rp.get_crit_func(params_risk_only, options, df_risk_only)\n",
    "crit_func(params_risk_only)"
   ]
  },
  {
   "cell_type": "code",
   "execution_count": 26,
   "metadata": {},
   "outputs": [],
   "source": [
    "results, params_rslt = maximize(\n",
    "    crit_func_risk_only, \n",
    "    params_risk_only,\n",
    "    \"nlopt_bobyqa\",\n",
    "    algo_options={\"maxeval\": 40},\n",
    "    constraints=constr_risk_only,\n",
    "    dashboard=False\n",
    ")"
   ]
  },
  {
   "cell_type": "code",
   "execution_count": 28,
   "metadata": {},
   "outputs": [],
   "source": [
    "#params_rslt"
   ]
  },
  {
   "cell_type": "markdown",
   "metadata": {},
   "source": [
    "### Working Step 4: \n",
    "\n",
    "In the following we will simulate data with $\\eta = 0$ and take a try whether we will estiamte $\\eta = 0$ again."
   ]
  },
  {
   "cell_type": "code",
   "execution_count": 45,
   "metadata": {},
   "outputs": [],
   "source": [
    "params_no_ambiguity = params_base.copy()\n",
    "params_no_ambiguity.loc[(\"eta\", \"eta\"), :] = eta_values[\"risk_only\"]"
   ]
  },
  {
   "cell_type": "code",
   "execution_count": 46,
   "metadata": {},
   "outputs": [],
   "source": [
    "constr_no_ambiguity = constr_base.copy()\n",
    "constr_no_ambiguity.remove({\"loc\": \"eta\", \"type\": \"fixed\"})"
   ]
  },
  {
   "cell_type": "code",
   "execution_count": 47,
   "metadata": {},
   "outputs": [],
   "source": [
    "simulate_no_ambiguity = rp.get_simulate_func(params_no_ambiguity, options)\n",
    "df_no_ambiguity = simulate_no_ambiguity(params_no_ambiguity)"
   ]
  },
  {
   "cell_type": "code",
   "execution_count": 48,
   "metadata": {},
   "outputs": [],
   "source": [
    "eta_estimated_no_ambiguity = []"
   ]
  },
  {
   "cell_type": "code",
   "execution_count": 49,
   "metadata": {},
   "outputs": [],
   "source": [
    "for eta in np.linspace(0, 0.25, 11):\n",
    "    \n",
    "    params_no_ambiguity.loc[(\"eta\", \"eta\"), :] = eta\n",
    "    \n",
    "    crit_func_no_ambiguity = rp.get_crit_func(params_no_ambiguity, options, df_no_ambiguity)\n",
    "    \n",
    "    results, params_rslt = maximize(\n",
    "        crit_func_no_ambiguity, \n",
    "        params_no_ambiguity,\n",
    "        \"nlopt_bobyqa\",\n",
    "        algo_options={\"maxeval\": 140},\n",
    "        constraints=constr_no_ambiguity,\n",
    "        dashboard=False\n",
    "    )\n",
    "    \n",
    "    eta_estimated_no_ambiguity.append(params_rslt.loc[\"eta\", \"value\"][0])"
   ]
  },
  {
   "cell_type": "code",
   "execution_count": 44,
   "metadata": {},
   "outputs": [],
   "source": [
    "#params_rslt"
   ]
  },
  {
   "cell_type": "markdown",
   "metadata": {},
   "source": [
    "### Summary of working steps\n",
    "\n",
    "* We estimated a model by maximum likelihood using all true values as the starting point.\n",
    "\n",
    "* We estimated a model with only $\\eta$ perturbed.\n",
    "\n",
    "* We estimated a model with risk-only, $\\eta = 0$ fixed, to see how different the likelihood is at the estimated parameter values."
   ]
  }
 ],
 "metadata": {
  "kernelspec": {
   "display_name": "Python 3",
   "language": "python",
   "name": "python3"
  },
  "language_info": {
   "codemirror_mode": {
    "name": "ipython",
    "version": 3
   },
   "file_extension": ".py",
   "mimetype": "text/x-python",
   "name": "python",
   "nbconvert_exporter": "python",
   "pygments_lexer": "ipython3",
   "version": "3.7.6"
  }
 },
 "nbformat": 4,
 "nbformat_minor": 4
}

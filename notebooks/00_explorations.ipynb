{
 "cells": [
  {
   "cell_type": "code",
   "execution_count": 8,
   "metadata": {},
   "outputs": [],
   "source": [
    "import respy as rp\n",
    "import numpy as np"
   ]
  },
  {
   "cell_type": "code",
   "execution_count": 9,
   "metadata": {},
   "outputs": [],
   "source": [
    "params, options = rp.get_example_model(\"kw_94_one\", with_data=False)\n",
    "simulate = rp.get_simulate_func(params, options)"
   ]
  },
  {
   "cell_type": "markdown",
   "metadata": {},
   "source": [
    "We are now ready to study the effect of ambiguity on average educational attainment."
   ]
  },
  {
   "cell_type": "code",
   "execution_count": 10,
   "metadata": {},
   "outputs": [
    {
     "name": "stdout",
     "output_type": "stream",
     "text": [
      "0.0 12.603\n",
      "0.001 13.427\n",
      "0.002 13.775\n",
      "0.003 14.025\n",
      "0.004 14.285\n",
      "0.005 14.478\n",
      "0.006 14.686\n",
      "0.007 14.838\n",
      "0.008 15.005\n",
      "0.009000000000000001 15.144\n",
      "0.01 15.32\n"
     ]
    }
   ],
   "source": [
    "for eta in np.linspace(0, 0.01, 11):\n",
    "    params.loc[(\"eta\", \"eta\"), :] = eta\n",
    "    df = simulate(params)\n",
    "    stat = df.groupby(\"Identifier\")[\"Experience_Edu\"].max().mean()\n",
    "    print(eta, stat)"
   ]
  },
  {
   "cell_type": "markdown",
   "metadata": {},
   "source": [
    "We need to determine whether we have a sound implementation of robust decision making setup up and thus investigate the a modified version of the KW model that includes some level of ambiguity.\n",
    "\n",
    "* We estimate a model by maximum likelihood using all true values as the starting point.\n",
    "\n",
    "* We estimate a model with only $\\eta$ perturbed.\n",
    "\n",
    "* We estimate a model with risk-only, $\\eta = 0$ fixed, to see how different the likelihood is at the estimated parameter values."
   ]
  },
  {
   "cell_type": "code",
   "execution_count": null,
   "metadata": {},
   "outputs": [],
   "source": []
  }
 ],
 "metadata": {
  "kernelspec": {
   "display_name": "Python 3",
   "language": "python",
   "name": "python3"
  },
  "language_info": {
   "codemirror_mode": {
    "name": "ipython",
    "version": 3
   },
   "file_extension": ".py",
   "mimetype": "text/x-python",
   "name": "python",
   "nbconvert_exporter": "python",
   "pygments_lexer": "ipython3",
   "version": "3.7.3"
  }
 },
 "nbformat": 4,
 "nbformat_minor": 4
}

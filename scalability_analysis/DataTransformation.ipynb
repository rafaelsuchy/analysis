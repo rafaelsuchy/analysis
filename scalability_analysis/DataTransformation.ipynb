{
 "cells": [
  {
   "cell_type": "markdown",
   "metadata": {},
   "source": [
    "# Generation of Sample Input Data for Scalability Analysis\n",
    "---\n",
    "\n",
    "This notebook exemplifies the data assembly to include in the scalability analysis of the `respy` function `_full_solution`.  \n",
    "\n",
    "The first step includes to generate **sample input data** from either of the Keane and Wolpin models. We have simulated both `kw_94_one` and `kw_97_basic` under a chosen `params` pd.Dataframe. Data was extracted for \n",
    "periods:\n",
    "- `\"per1\"`\n",
    "- `\"per8\"`\n",
    "- `\"per18\"`\n",
    "- `\"per28\"`\n",
    "- `\"per38\"`\n",
    "- `\"per48\"` (only for `kw_97_basic`)\n",
    "\n",
    "and saved under an appropriate file format (in our case `x` `@` [`.pickle`, `.npy`]). To minimize the effort during the timing analysis it is recommended to save each model as a separate file. For scalability analyses (timing analyses) of dynamic models it is indispensable to have data for various periods at hand. The reason: computational effort differs for the current period.\n",
    "\n",
    "To exclude any data impurity we generated sample input data for `kw_97_basic` twice. For each of the sample data we will create a separate file. The following data sets are gernerate as `x` `@` [`.pickle`, `.npy`].\n",
    "\n",
    "- `kw_94_one_input_params.x`\n",
    "- `kw_97_basic_one_input_params.x`\n",
    "- `kw_97_basic_two_input_params.x`\n",
    "\n",
    "\n"
   ]
  },
  {
   "cell_type": "code",
   "execution_count": 1,
   "metadata": {},
   "outputs": [
    {
     "data": {
      "application/javascript": [
       "\n",
       "            setTimeout(function() {\n",
       "                var nbb_cell_id = 1;\n",
       "                var nbb_unformatted_code = \"from pathlib import Path\\nimport numpy as np\\nimport pickle\\n\\n%load_ext nb_black\";\n",
       "                var nbb_formatted_code = \"from pathlib import Path\\nimport numpy as np\\nimport pickle\\n\\n%load_ext nb_black\";\n",
       "                var nbb_cells = Jupyter.notebook.get_cells();\n",
       "                for (var i = 0; i < nbb_cells.length; ++i) {\n",
       "                    if (nbb_cells[i].input_prompt_number == nbb_cell_id) {\n",
       "                        if (nbb_cells[i].get_text() == nbb_unformatted_code) {\n",
       "                             nbb_cells[i].set_text(nbb_formatted_code);\n",
       "                        }\n",
       "                        break;\n",
       "                    }\n",
       "                }\n",
       "            }, 500);\n",
       "            "
      ],
      "text/plain": [
       "<IPython.core.display.Javascript object>"
      ]
     },
     "metadata": {},
     "output_type": "display_data"
    }
   ],
   "source": [
    "from pathlib import Path\n",
    "import numpy as np\n",
    "import pickle\n",
    "\n",
    "%load_ext nb_black"
   ]
  },
  {
   "cell_type": "code",
   "execution_count": 2,
   "metadata": {},
   "outputs": [
    {
     "data": {
      "application/javascript": [
       "\n",
       "            setTimeout(function() {\n",
       "                var nbb_cell_id = 2;\n",
       "                var nbb_unformatted_code = \"path_out_raw_data = Path(\\\"./resources/raw_input_data\\\")\\n# Specific path of the sample data (available upon request)\\npath_in_raw_data = Path(\\\"../../development\\\")\\n\\nPERIODS = [1, 8, 18, 28, 38, 48]\";\n",
       "                var nbb_formatted_code = \"path_out_raw_data = Path(\\\"./resources/raw_input_data\\\")\\n# Specific path of the sample data (available upon request)\\npath_in_raw_data = Path(\\\"../../development\\\")\\n\\nPERIODS = [1, 8, 18, 28, 38, 48]\";\n",
       "                var nbb_cells = Jupyter.notebook.get_cells();\n",
       "                for (var i = 0; i < nbb_cells.length; ++i) {\n",
       "                    if (nbb_cells[i].input_prompt_number == nbb_cell_id) {\n",
       "                        if (nbb_cells[i].get_text() == nbb_unformatted_code) {\n",
       "                             nbb_cells[i].set_text(nbb_formatted_code);\n",
       "                        }\n",
       "                        break;\n",
       "                    }\n",
       "                }\n",
       "            }, 500);\n",
       "            "
      ],
      "text/plain": [
       "<IPython.core.display.Javascript object>"
      ]
     },
     "metadata": {},
     "output_type": "display_data"
    }
   ],
   "source": [
    "path_out_raw_data = Path(\"./resources/raw_input_data\")\n",
    "# Specific path of the sample data (available upon request)\n",
    "path_in_raw_data = Path(\"../../development\")\n",
    "\n",
    "PERIODS = [1, 8, 18, 28, 38, 48]"
   ]
  },
  {
   "cell_type": "code",
   "execution_count": 3,
   "metadata": {},
   "outputs": [
    {
     "data": {
      "application/javascript": [
       "\n",
       "            setTimeout(function() {\n",
       "                var nbb_cell_id = 3;\n",
       "                var nbb_unformatted_code = \"kw_94_one_input_params = {}\\nfor period in PERIODS[:-1]:\\n    filename = Path(f\\\"{path_in_raw_data}/inputs_kw_94_one_per{period}.pickle\\\")\\n    infile = np.load(filename, allow_pickle=True)\\n    label = \\\"per\\\" + str(period)\\n    kw_94_one_input_params[label] = infile\\n\\n    pickle.dump(\\n        kw_94_one_input_params,\\n        open(f\\\"{path_out_raw_data}/kw_94_one_input_params.pickle\\\", \\\"wb\\\"),\\n    )\\n\\n    np.save(\\n        f\\\"{path_out_raw_data}/kw_94_one_input_params\\\",\\n        kw_94_one_input_params,\\n        allow_pickle=True,\\n    )\";\n",
       "                var nbb_formatted_code = \"kw_94_one_input_params = {}\\nfor period in PERIODS[:-1]:\\n    filename = Path(f\\\"{path_in_raw_data}/inputs_kw_94_one_per{period}.pickle\\\")\\n    infile = np.load(filename, allow_pickle=True)\\n    label = \\\"per\\\" + str(period)\\n    kw_94_one_input_params[label] = infile\\n\\n    pickle.dump(\\n        kw_94_one_input_params,\\n        open(f\\\"{path_out_raw_data}/kw_94_one_input_params.pickle\\\", \\\"wb\\\"),\\n    )\\n\\n    np.save(\\n        f\\\"{path_out_raw_data}/kw_94_one_input_params\\\",\\n        kw_94_one_input_params,\\n        allow_pickle=True,\\n    )\";\n",
       "                var nbb_cells = Jupyter.notebook.get_cells();\n",
       "                for (var i = 0; i < nbb_cells.length; ++i) {\n",
       "                    if (nbb_cells[i].input_prompt_number == nbb_cell_id) {\n",
       "                        if (nbb_cells[i].get_text() == nbb_unformatted_code) {\n",
       "                             nbb_cells[i].set_text(nbb_formatted_code);\n",
       "                        }\n",
       "                        break;\n",
       "                    }\n",
       "                }\n",
       "            }, 500);\n",
       "            "
      ],
      "text/plain": [
       "<IPython.core.display.Javascript object>"
      ]
     },
     "metadata": {},
     "output_type": "display_data"
    }
   ],
   "source": [
    "kw_94_one_input_params = {}\n",
    "for period in PERIODS[:-1]:\n",
    "    filename = Path(f\"{path_in_raw_data}/inputs_kw_94_one_per{period}.pickle\")\n",
    "    infile = np.load(filename, allow_pickle=True)\n",
    "    label = \"per\" + str(period)\n",
    "    kw_94_one_input_params[label] = infile\n",
    "\n",
    "    pickle.dump(\n",
    "        kw_94_one_input_params,\n",
    "        open(f\"{path_out_raw_data}/kw_94_one_input_params.pickle\", \"wb\"),\n",
    "    )\n",
    "\n",
    "    np.save(\n",
    "        f\"{path_out_raw_data}/kw_94_one_input_params\",\n",
    "        kw_94_one_input_params,\n",
    "        allow_pickle=True,\n",
    "    )"
   ]
  },
  {
   "cell_type": "code",
   "execution_count": 4,
   "metadata": {},
   "outputs": [
    {
     "data": {
      "application/javascript": [
       "\n",
       "            setTimeout(function() {\n",
       "                var nbb_cell_id = 4;\n",
       "                var nbb_unformatted_code = \"for num in [\\\"one\\\", \\\"two\\\"]:\\n    kw_97_basic_input_params = {}\\n\\n    for period in PERIODS[:-1]:\\n        filename = Path(\\n            f\\\"{path_in_raw_data}/inputs_kw_97_basic_{num}_per{period}.pickle\\\"\\n        )\\n        infile = np.load(filename, allow_pickle=True)\\n        label = \\\"per\\\" + str(period)\\n        kw_97_basic_input_params[label] = infile\\n\\n        pickle.dump(\\n            kw_97_basic_input_params,\\n            open(f\\\"{path_out_raw_data}/kw_97_basic_{num}_input_params.pickle\\\", \\\"wb\\\"),\\n        )\\n\\n        np.save(\\n            f\\\"{path_out_raw_data}/kw_97_basic_{num}_input_params\\\",\\n            kw_97_basic_input_params,\\n            allow_pickle=True,\\n        )\";\n",
       "                var nbb_formatted_code = \"for num in [\\\"one\\\", \\\"two\\\"]:\\n    kw_97_basic_input_params = {}\\n\\n    for period in PERIODS[:-1]:\\n        filename = Path(\\n            f\\\"{path_in_raw_data}/inputs_kw_97_basic_{num}_per{period}.pickle\\\"\\n        )\\n        infile = np.load(filename, allow_pickle=True)\\n        label = \\\"per\\\" + str(period)\\n        kw_97_basic_input_params[label] = infile\\n\\n        pickle.dump(\\n            kw_97_basic_input_params,\\n            open(f\\\"{path_out_raw_data}/kw_97_basic_{num}_input_params.pickle\\\", \\\"wb\\\"),\\n        )\\n\\n        np.save(\\n            f\\\"{path_out_raw_data}/kw_97_basic_{num}_input_params\\\",\\n            kw_97_basic_input_params,\\n            allow_pickle=True,\\n        )\";\n",
       "                var nbb_cells = Jupyter.notebook.get_cells();\n",
       "                for (var i = 0; i < nbb_cells.length; ++i) {\n",
       "                    if (nbb_cells[i].input_prompt_number == nbb_cell_id) {\n",
       "                        if (nbb_cells[i].get_text() == nbb_unformatted_code) {\n",
       "                             nbb_cells[i].set_text(nbb_formatted_code);\n",
       "                        }\n",
       "                        break;\n",
       "                    }\n",
       "                }\n",
       "            }, 500);\n",
       "            "
      ],
      "text/plain": [
       "<IPython.core.display.Javascript object>"
      ]
     },
     "metadata": {},
     "output_type": "display_data"
    }
   ],
   "source": [
    "for num in [\"one\", \"two\"]:\n",
    "    kw_97_basic_input_params = {}\n",
    "\n",
    "    for period in PERIODS[:-1]:\n",
    "        filename = Path(\n",
    "            f\"{path_in_raw_data}/inputs_kw_97_basic_{num}_per{period}.pickle\"\n",
    "        )\n",
    "        infile = np.load(filename, allow_pickle=True)\n",
    "        label = \"per\" + str(period)\n",
    "        kw_97_basic_input_params[label] = infile\n",
    "\n",
    "        pickle.dump(\n",
    "            kw_97_basic_input_params,\n",
    "            open(f\"{path_out_raw_data}/kw_97_basic_{num}_input_params.pickle\", \"wb\"),\n",
    "        )\n",
    "\n",
    "        np.save(\n",
    "            f\"{path_out_raw_data}/kw_97_basic_{num}_input_params\",\n",
    "            kw_97_basic_input_params,\n",
    "            allow_pickle=True,\n",
    "        )"
   ]
  },
  {
   "cell_type": "code",
   "execution_count": 5,
   "metadata": {},
   "outputs": [
    {
     "data": {
      "application/javascript": [
       "\n",
       "            setTimeout(function() {\n",
       "                var nbb_cell_id = 5;\n",
       "                var nbb_unformatted_code = \"input_params_pickle = pickle.load(\\n    open(f\\\"{path_out_raw_data}/kw_97_basic_two_input_params.pickle\\\", \\\"rb\\\")\\n)\\n\\ninput_params_npy = np.load(\\n    f\\\"{path_out_raw_data}/kw_97_basic_two_input_params.npy\\\", allow_pickle=True\\n).item()\";\n",
       "                var nbb_formatted_code = \"input_params_pickle = pickle.load(\\n    open(f\\\"{path_out_raw_data}/kw_97_basic_two_input_params.pickle\\\", \\\"rb\\\")\\n)\\n\\ninput_params_npy = np.load(\\n    f\\\"{path_out_raw_data}/kw_97_basic_two_input_params.npy\\\", allow_pickle=True\\n).item()\";\n",
       "                var nbb_cells = Jupyter.notebook.get_cells();\n",
       "                for (var i = 0; i < nbb_cells.length; ++i) {\n",
       "                    if (nbb_cells[i].input_prompt_number == nbb_cell_id) {\n",
       "                        if (nbb_cells[i].get_text() == nbb_unformatted_code) {\n",
       "                             nbb_cells[i].set_text(nbb_formatted_code);\n",
       "                        }\n",
       "                        break;\n",
       "                    }\n",
       "                }\n",
       "            }, 500);\n",
       "            "
      ],
      "text/plain": [
       "<IPython.core.display.Javascript object>"
      ]
     },
     "metadata": {},
     "output_type": "display_data"
    }
   ],
   "source": [
    "input_params_pickle = pickle.load(\n",
    "    open(f\"{path_out_raw_data}/kw_97_basic_two_input_params.pickle\", \"rb\")\n",
    ")\n",
    "\n",
    "input_params_npy = np.load(\n",
    "    f\"{path_out_raw_data}/kw_97_basic_two_input_params.npy\", allow_pickle=True\n",
    ").item()"
   ]
  },
  {
   "cell_type": "markdown",
   "metadata": {},
   "source": [
    "### Different data format: Adjustment in the scripts\n",
    "\n",
    "If, for some reasons, `.npy` is preferred, some lines in the script files have to be changed. Foremost, in `config.py` the `DATA_FORMAT` should be set to `\"npy\"`. \n",
    "\n",
    "In `caller_scalability_analysis.py` the following lines\n",
    "\n",
    "```python\n",
    "input_params = pickle.load(open(INPUT_DATA, \"rb\"))[PERIOD]\n",
    "pickle.dump(input_params, open(PATH_AUXINPUT_PARAMS, \"wb\"))\n",
    "```\n",
    "\n",
    "have to be replaced by: \n",
    "\n",
    "```python\n",
    "input_params = np.load(INPUT_DATA, allow_pickle=True).item()[PERIOD]\n",
    "np.save(PATH_AUXINPUT_PARAMS, input_params, allow_pickle=True)\n",
    "```\n",
    "\n",
    "In `exec_time_scalability.py` the following line\n",
    "\n",
    "```python\n",
    "input_params = pickle.load(open(PATH_AUXINPUT_PARAMS, \"rb\"))\n",
    "```\n",
    "\n",
    "has to be replaced by:\n",
    "\n",
    "```python\n",
    "input_params = np.load(PATH_AUXINPUT_PARAMS, allow_pickle=True).item()\n",
    "```\n",
    "\n",
    "The last change includes (if not already done) to change the imports in those modules. Instead `import pickle` we need to `import numpy as np`. "
   ]
  },
  {
   "cell_type": "markdown",
   "metadata": {},
   "source": [
    "## Sample Input Data\n",
    "---\n",
    "\n",
    "The resulting input data can be accessed via the period keys. In our case, the function `_full_solution` takes the arguments: \n",
    "- wages\n",
    "- nonpecs \n",
    "- continuation_values\n",
    "- period_draws_emax_risk \n",
    "- optim_paras"
   ]
  },
  {
   "cell_type": "code",
   "execution_count": 6,
   "metadata": {},
   "outputs": [
    {
     "data": {
      "text/plain": [
       "{'wages': array([[2.58095537e+04, 1.95650482e+04, 1.00000000e+00, 1.00000000e+00],\n",
       "        [2.89261121e+04, 2.41369707e+04, 1.00000000e+00, 1.00000000e+00],\n",
       "        [2.78475425e+04, 2.25051624e+04, 1.00000000e+00, 1.00000000e+00],\n",
       "        ...,\n",
       "        [2.06299669e+04, 1.52677799e+04, 1.00000000e+00, 1.00000000e+00],\n",
       "        [2.40165871e+04, 1.90248253e+04, 1.00000000e+00, 1.00000000e+00],\n",
       "        [2.79591557e+04, 2.36590267e+04, 1.00000000e+00, 1.00000000e+00]]),\n",
       " 'nonpecs': array([[    0.,     0., -4000., 17750.],\n",
       "        [    0.,     0., -4000., 17750.],\n",
       "        [    0.,     0., -4000., 17750.],\n",
       "        ...,\n",
       "        [    0.,     0., -4000., 17750.],\n",
       "        [    0.,     0., -4000., 17750.],\n",
       "        [    0.,     0., -4000., 17750.]]),\n",
       " 'continuation_values': array([[28915.67125505, 28842.92118423, 29783.14135469, 28524.45462067],\n",
       "        [32999.89824636, 33153.27006676, 34143.3583467 , 32584.09861607],\n",
       "        [31544.09926129, 31612.3687966 , 32584.09861607, 31132.49391295],\n",
       "        ...,\n",
       "        [23391.48574326, 23193.18083266, 23906.12653264, 23019.90960439],\n",
       "        [27247.2351829 , 27148.7968698 , 27990.34991266, 26788.72594206],\n",
       "        [32141.3027047 , 32221.03236263, 33139.6705398 , 31614.91648043]]),\n",
       " 'period_draws_emax_risk': array([[ 9.31150244e-01,  6.60718347e-01,  2.69954552e+03,\n",
       "          1.55917269e+03],\n",
       "        [ 1.25341876e+00,  1.06446710e+00,  2.19111418e+03,\n",
       "          1.73356326e+03],\n",
       "        [ 1.22126296e+00,  1.12265865e+00,  7.87079253e+02,\n",
       "          1.66080087e+03],\n",
       "        ...,\n",
       "        [ 7.93281776e-01,  8.84642210e-01,  1.12812976e+03,\n",
       "          3.30845805e+03],\n",
       "        [ 7.72904379e-01,  1.11619250e+00, -2.13080619e+03,\n",
       "         -3.58303011e+02],\n",
       "        [ 9.81907165e-01,  7.84058544e-01,  1.32664327e+03,\n",
       "          1.26614393e+03]]),\n",
       " 'optim_paras': {'delta': 0.95,\n",
       "  'eta': 0.02,\n",
       "  'beta': 1,\n",
       "  'beta_delta': 0.95,\n",
       "  'inadmissibility_penalty': -400000.0,\n",
       "  'observables': {},\n",
       "  'choices_w_wage': ['a', 'b'],\n",
       "  'choices_w_exp': ['a', 'b', 'edu'],\n",
       "  'choices_wo_exp': ['home'],\n",
       "  'choices': {'a': {'start': {0: constant    0\n",
       "     dtype: int64},\n",
       "    'max': 39},\n",
       "   'b': {'start': {0: constant    0\n",
       "     dtype: int64},\n",
       "    'max': 39},\n",
       "   'edu': {'start': {10: name\n",
       "     constant    0.0\n",
       "     Name: value, dtype: float64},\n",
       "    'max': 20},\n",
       "   'home': {}},\n",
       "  'wage_a': name\n",
       "  constant        9.2100\n",
       "  exp_edu         0.0380\n",
       "  exp_a           0.0330\n",
       "  exp_a_square   -0.0005\n",
       "  exp_b           0.0000\n",
       "  exp_b_square    0.0000\n",
       "  Name: value, dtype: float64,\n",
       "  'wage_b': name\n",
       "  constant        8.4800\n",
       "  exp_edu         0.0700\n",
       "  exp_b           0.0670\n",
       "  exp_b_square   -0.0010\n",
       "  exp_a           0.0220\n",
       "  exp_a_square   -0.0005\n",
       "  Name: value, dtype: float64,\n",
       "  'nonpec_edu': name\n",
       "  constant                      0.0\n",
       "  at_least_twelve_exp_edu       0.0\n",
       "  not_edu_last_period       -4000.0\n",
       "  Name: value, dtype: float64,\n",
       "  'nonpec_home': name\n",
       "  constant    17750.0\n",
       "  Name: value, dtype: float64,\n",
       "  'shocks_cholesky': array([[2.0e-01, 0.0e+00, 0.0e+00, 0.0e+00],\n",
       "         [0.0e+00, 2.5e-01, 0.0e+00, 0.0e+00],\n",
       "         [0.0e+00, 0.0e+00, 1.5e+03, 0.0e+00],\n",
       "         [0.0e+00, 0.0e+00, 0.0e+00, 1.5e+03]]),\n",
       "  'has_meas_error': False,\n",
       "  'meas_error': array([0., 0., 0., 0.]),\n",
       "  'n_types': 1,\n",
       "  'n_lagged_choices': 1,\n",
       "  'lagged_choice_1': {'a': constant   -1.000000e+200\n",
       "   dtype: float64,\n",
       "   'b': constant   -1.000000e+200\n",
       "   dtype: float64,\n",
       "   'edu': name\n",
       "   constant    0.0\n",
       "   Name: value, dtype: float64,\n",
       "   'home': constant   -1.000000e+200\n",
       "   dtype: float64},\n",
       "  'n_periods': 40}}"
      ]
     },
     "execution_count": 6,
     "metadata": {},
     "output_type": "execute_result"
    },
    {
     "data": {
      "application/javascript": [
       "\n",
       "            setTimeout(function() {\n",
       "                var nbb_cell_id = 6;\n",
       "                var nbb_unformatted_code = \"kw_94_one_input_params[\\\"per38\\\"]\";\n",
       "                var nbb_formatted_code = \"kw_94_one_input_params[\\\"per38\\\"]\";\n",
       "                var nbb_cells = Jupyter.notebook.get_cells();\n",
       "                for (var i = 0; i < nbb_cells.length; ++i) {\n",
       "                    if (nbb_cells[i].input_prompt_number == nbb_cell_id) {\n",
       "                        if (nbb_cells[i].get_text() == nbb_unformatted_code) {\n",
       "                             nbb_cells[i].set_text(nbb_formatted_code);\n",
       "                        }\n",
       "                        break;\n",
       "                    }\n",
       "                }\n",
       "            }, 500);\n",
       "            "
      ],
      "text/plain": [
       "<IPython.core.display.Javascript object>"
      ]
     },
     "metadata": {},
     "output_type": "display_data"
    }
   ],
   "source": [
    "kw_94_one_input_params[\"per38\"]"
   ]
  }
 ],
 "metadata": {
  "kernelspec": {
   "display_name": "Python 3",
   "language": "python",
   "name": "python3"
  },
  "language_info": {
   "codemirror_mode": {
    "name": "ipython",
    "version": 3
   },
   "file_extension": ".py",
   "mimetype": "text/x-python",
   "name": "python",
   "nbconvert_exporter": "python",
   "pygments_lexer": "ipython3",
   "version": "3.7.6"
  }
 },
 "nbformat": 4,
 "nbformat_minor": 4
}
